{
 "cells": [
  {
   "cell_type": "code",
   "execution_count": 1,
   "metadata": {},
   "outputs": [
    {
     "name": "stdout",
     "output_type": "stream",
     "text": [
      "Requirement already satisfied: wget in /home/sebacastillo/.genai0/lib/python3.9/site-packages (3.2)\n",
      "\u001b[33mWARNING: You are using pip version 22.0.4; however, version 23.3.2 is available.\n",
      "You should consider upgrading via the '/home/sebacastillo/.genai0/bin/python -m pip install --upgrade pip' command.\u001b[0m\u001b[33m\n",
      "\u001b[0mRequirement already satisfied: azure-search-documents==11.4.0b8 in /home/sebacastillo/.genai0/lib/python3.9/site-packages (11.4.0b8)\n",
      "Requirement already satisfied: azure-common~=1.1 in /home/sebacastillo/.genai0/lib/python3.9/site-packages (from azure-search-documents==11.4.0b8) (1.1.28)\n",
      "Requirement already satisfied: azure-core<2.0.0,>=1.24.0 in /home/sebacastillo/.genai0/lib/python3.9/site-packages (from azure-search-documents==11.4.0b8) (1.29.6)\n",
      "Requirement already satisfied: isodate>=0.6.0 in /home/sebacastillo/.genai0/lib/python3.9/site-packages (from azure-search-documents==11.4.0b8) (0.6.1)\n",
      "Requirement already satisfied: six>=1.11.0 in /home/sebacastillo/.genai0/lib/python3.9/site-packages (from azure-core<2.0.0,>=1.24.0->azure-search-documents==11.4.0b8) (1.16.0)\n",
      "Requirement already satisfied: requests>=2.21.0 in /home/sebacastillo/.genai0/lib/python3.9/site-packages (from azure-core<2.0.0,>=1.24.0->azure-search-documents==11.4.0b8) (2.31.0)\n",
      "Requirement already satisfied: typing-extensions>=4.6.0 in /home/sebacastillo/.genai0/lib/python3.9/site-packages (from azure-core<2.0.0,>=1.24.0->azure-search-documents==11.4.0b8) (4.8.0)\n",
      "Requirement already satisfied: anyio<5.0,>=3.0 in /home/sebacastillo/.genai0/lib/python3.9/site-packages (from azure-core<2.0.0,>=1.24.0->azure-search-documents==11.4.0b8) (3.7.1)\n",
      "Requirement already satisfied: sniffio>=1.1 in /home/sebacastillo/.genai0/lib/python3.9/site-packages (from anyio<5.0,>=3.0->azure-core<2.0.0,>=1.24.0->azure-search-documents==11.4.0b8) (1.3.0)\n",
      "Requirement already satisfied: idna>=2.8 in /home/sebacastillo/.genai0/lib/python3.9/site-packages (from anyio<5.0,>=3.0->azure-core<2.0.0,>=1.24.0->azure-search-documents==11.4.0b8) (3.6)\n",
      "Requirement already satisfied: exceptiongroup in /home/sebacastillo/.genai0/lib/python3.9/site-packages (from anyio<5.0,>=3.0->azure-core<2.0.0,>=1.24.0->azure-search-documents==11.4.0b8) (1.2.0)\n",
      "Requirement already satisfied: certifi>=2017.4.17 in /home/sebacastillo/.genai0/lib/python3.9/site-packages (from requests>=2.21.0->azure-core<2.0.0,>=1.24.0->azure-search-documents==11.4.0b8) (2023.11.17)\n",
      "Requirement already satisfied: charset-normalizer<4,>=2 in /home/sebacastillo/.genai0/lib/python3.9/site-packages (from requests>=2.21.0->azure-core<2.0.0,>=1.24.0->azure-search-documents==11.4.0b8) (3.3.2)\n",
      "Requirement already satisfied: urllib3<3,>=1.21.1 in /home/sebacastillo/.genai0/lib/python3.9/site-packages (from requests>=2.21.0->azure-core<2.0.0,>=1.24.0->azure-search-documents==11.4.0b8) (1.26.18)\n",
      "\u001b[33mWARNING: You are using pip version 22.0.4; however, version 23.3.2 is available.\n",
      "You should consider upgrading via the '/home/sebacastillo/.genai0/bin/python -m pip install --upgrade pip' command.\u001b[0m\u001b[33m\n",
      "\u001b[0m"
     ]
    }
   ],
   "source": [
    "! pip install wget\n",
    "! pip install azure-search-documents==11.4.0b8 "
   ]
  },
  {
   "attachments": {},
   "cell_type": "markdown",
   "metadata": {},
   "source": [
    "## Import required libraries"
   ]
  },
  {
   "cell_type": "code",
   "execution_count": 2,
   "metadata": {},
   "outputs": [],
   "source": [
    "import openai\n",
    "import json  \n",
    "import openai\n",
    "import wget\n",
    "import pandas as pd\n",
    "import zipfile\n",
    "from azure.core.credentials import AzureKeyCredential  \n",
    "from azure.search.documents import SearchClient  \n",
    "from azure.search.documents.indexes import SearchIndexClient\n",
    "from azure.search.documents.models import Vector # Ojo version vieja de la libreria \n",
    "from azure.search.documents import SearchIndexingBufferedSender\n",
    "from azure.search.documents.indexes.models import (  \n",
    "    SearchIndex,  \n",
    "    SearchField,  \n",
    "    SearchFieldDataType,  \n",
    "    SimpleField,  \n",
    "    SearchableField,  \n",
    "    SearchIndex,  \n",
    "    SemanticConfiguration,  \n",
    "    PrioritizedFields,  \n",
    "    SemanticField,  \n",
    "    SearchField,  \n",
    "    SemanticSettings,  \n",
    "    VectorSearch,  \n",
    "    HnswVectorSearchAlgorithmConfiguration,   \n",
    ")"
   ]
  },
  {
   "attachments": {},
   "cell_type": "markdown",
   "metadata": {},
   "source": [
    "## Configure OpenAI settings\n",
    "\n",
    "Configure your OpenAI or Azure OpenAI settings. For this example, we use Azure OpenAI."
   ]
  },
  {
   "cell_type": "code",
   "execution_count": 3,
   "metadata": {},
   "outputs": [],
   "source": [
    "openai.api_type = \"azure\"\n",
    "openai.api_base = \"https://usesharedaopenai001.openai.azure.com/\"\n",
    "openai.api_version = \"2023-05-15\"\n",
    "openai.api_key = \"b82effcf491e45a088b1cd578713311c\"\n",
    "model: str = \"text-embedding-ada-002\""
   ]
  },
  {
   "attachments": {},
   "cell_type": "markdown",
   "metadata": {},
   "source": [
    "## Configure Azure Cognitive Search Vector Store settings\n",
    "You can find this in the Azure Portal or using the [Search Management SDK](https://learn.microsoft.com/rest/api/searchmanagement/)\n"
   ]
  },
  {
   "cell_type": "code",
   "execution_count": 14,
   "metadata": {},
   "outputs": [],
   "source": [
    "search_service_endpoint: str = \"https://genai0.search.windows.net\"\n",
    "search_service_api_key: str = \"lvhCA67EeE3JRyxyem5L0wGJSfOxscm2jft887ECdJAzSeDzoCNZ\"\n",
    "index_name: str = \"azure-cognitive-search-vector-demo\"\n",
    "credential = AzureKeyCredential(search_service_api_key)\n",
    "\n",
    "vector_store_address = search_service_endpoint\n",
    "vector_store_password = search_service_api_key"
   ]
  },
  {
   "cell_type": "code",
   "execution_count": 9,
   "metadata": {},
   "outputs": [],
   "source": [
    "import os\n",
    "import sys\n",
    "from dotenv import load_dotenv\n",
    "load_dotenv()\n",
    "# Load OpenAI access and other custom paths\n",
    "sys.path.append(os.path.abspath('../../src'))\n",
    "from azure_openai_conn import OpenAIembeddings\n"
   ]
  },
  {
   "cell_type": "code",
   "execution_count": 10,
   "metadata": {},
   "outputs": [],
   "source": [
    "embeddings = OpenAIembeddings()"
   ]
  },
  {
   "cell_type": "code",
   "execution_count": 12,
   "metadata": {},
   "outputs": [],
   "source": [
    "from langchain.vectorstores.azuresearch import AzureSearch"
   ]
  },
  {
   "cell_type": "code",
   "execution_count": 15,
   "metadata": {},
   "outputs": [],
   "source": [
    "index_name: str = \"langchain-vector-demo\"\n",
    "vector_store: AzureSearch = AzureSearch(\n",
    "    azure_search_endpoint=vector_store_address,\n",
    "    azure_search_key=vector_store_password,\n",
    "    index_name=index_name,\n",
    "    embedding_function=embeddings.embed_query,\n",
    ")"
   ]
  },
  {
   "cell_type": "code",
   "execution_count": null,
   "metadata": {},
   "outputs": [],
   "source": []
  },
  {
   "cell_type": "code",
   "execution_count": null,
   "metadata": {},
   "outputs": [],
   "source": []
  }
 ],
 "metadata": {
  "kernelspec": {
   "display_name": "Python 3",
   "language": "python",
   "name": "python3"
  },
  "language_info": {
   "codemirror_mode": {
    "name": "ipython",
    "version": 3
   },
   "file_extension": ".py",
   "mimetype": "text/x-python",
   "name": "python",
   "nbconvert_exporter": "python",
   "pygments_lexer": "ipython3",
   "version": "3.9.13"
  },
  "orig_nbformat": 4
 },
 "nbformat": 4,
 "nbformat_minor": 2
}
