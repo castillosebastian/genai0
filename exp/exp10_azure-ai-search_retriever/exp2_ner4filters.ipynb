{
 "cells": [
  {
   "cell_type": "code",
   "execution_count": 61,
   "metadata": {},
   "outputs": [],
   "source": [
    "import os\n",
    "from azure.core.credentials import AzureKeyCredential\n",
    "from langchain.schema import HumanMessage\n",
    "from langchain.chat_models import AzureChatOpenAI\n",
    "os.environ[\"AZURE_OPENAI_API_KEY\"]  = 'b82effcf491e45a088b1cd578713311c'\n",
    "os.environ[\"OPENAI_API_VERSION\"]    = '2023-05-15'\n",
    "os.environ[\"AZURE_OPENAI_ENDPOINT\"] = 'https://usesharedaopenai001.openai.azure.com/'\n",
    "os.environ[\"OPENAI_API_TYPE\"]       = 'azure'\n",
    "# Variables-------------------------------------------------------\n",
    "index                               = \"azure-cognitive-search-vector-demo\"\n",
    "azure_search_endpoint               = 'https://genai0.search.windows.net'\n",
    "MODEL                               = \"gtp35turbo-latest\"\n",
    "key                                 = 'lvhCA67EeE3JRyxyem5L0wGJSfOxscm2jft887ECdJAzSeDzoCNZ'\n",
    "model                               = \"text-embedding-ada-002\"\n",
    "credential                          = AzureKeyCredential(key)\n",
    "COMPLETION_TOKENS                   = 1000\n",
    "top_search_vector_k                 = 5"
   ]
  },
  {
   "cell_type": "code",
   "execution_count": 62,
   "metadata": {},
   "outputs": [],
   "source": [
    "llm = AzureChatOpenAI(model_name=MODEL, temperature=0)"
   ]
  },
  {
   "cell_type": "code",
   "execution_count": 63,
   "metadata": {},
   "outputs": [],
   "source": [
    "from langchain import PromptTemplate"
   ]
  },
  {
   "cell_type": "code",
   "execution_count": 66,
   "metadata": {},
   "outputs": [],
   "source": [
    "# create the prompt, here we use multiple inputs\n",
    "prompt = PromptTemplate(\n",
    "    template=\"\"\"\"/\n",
    "    You are a helpful Name Entity Recognition System. From the following text:    \n",
    "    \n",
    "    <<{text}>>\n",
    "    \n",
    "    Extract this target word class: '{word_class}'. Return the extracted element in a list. \n",
    "    For word class related to dates or years always return it in the format 'YYYY-MM-DD'.\n",
    "    For intervals with a start-date and end-date return both dates in a list. \n",
    "    For word class 'company_name' return it in capital letters.\n",
    "    \"\"\",\n",
    "    input_variables=[\"word_class\", \"text\"]\n",
    ")\n",
    "\n",
    "#query = \"What is the revenue of Pfizer from july 2020 to october 2021\"\n",
    "query = \"In agreement with the information outlined in the income statement, what is the FY2015 - FY2017 3 year average net profit margin (as a %) for Best Buy? Answer in units of percents and round to one decimal place.\"\n",
    "word_class = \"dates\"\n",
    "#word_class = \"company_name\"\n",
    "\n",
    "# format the prompt to add variable values\n",
    "prompt_formatted_str: str = prompt.format(\n",
    "    word_class = word_class,\n",
    "    text = query,\n",
    "    )"
   ]
  },
  {
   "cell_type": "code",
   "execution_count": 67,
   "metadata": {},
   "outputs": [
    {
     "name": "stdout",
     "output_type": "stream",
     "text": [
      "['2015-01-01', '2017-12-31']\n"
     ]
    }
   ],
   "source": [
    "# make a prediction\n",
    "prediction = llm.predict(prompt_formatted_str)\n",
    "\n",
    "# print the prediction\n",
    "print(prediction)"
   ]
  }
 ],
 "metadata": {
  "kernelspec": {
   "display_name": ".genai0",
   "language": "python",
   "name": "python3"
  },
  "language_info": {
   "codemirror_mode": {
    "name": "ipython",
    "version": 3
   },
   "file_extension": ".py",
   "mimetype": "text/x-python",
   "name": "python",
   "nbconvert_exporter": "python",
   "pygments_lexer": "ipython3",
   "version": "3.9.13"
  }
 },
 "nbformat": 4,
 "nbformat_minor": 2
}
