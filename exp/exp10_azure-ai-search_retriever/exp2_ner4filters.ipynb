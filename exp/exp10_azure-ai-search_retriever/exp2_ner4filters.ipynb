{
 "cells": [
  {
   "cell_type": "code",
   "execution_count": 6,
   "metadata": {},
   "outputs": [],
   "source": [
    "import os\n",
    "from azure.core.credentials import AzureKeyCredential\n",
    "from langchain.schema import HumanMessage\n",
    "from langchain.chat_models import AzureChatOpenAI\n",
    "os.environ[\"AZURE_OPENAI_API_KEY\"]  = 'b82effcf491e45a088b1cd578713311c'\n",
    "os.environ[\"OPENAI_API_VERSION\"]    = '2023-05-15'\n",
    "os.environ[\"AZURE_OPENAI_ENDPOINT\"] = 'https://usesharedaopenai001.openai.azure.com/'\n",
    "os.environ[\"OPENAI_API_TYPE\"]       = 'azure'\n",
    "# Variables-------------------------------------------------------\n",
    "index                               = \"azure-cognitive-search-vector-demo\"\n",
    "azure_search_endpoint               = 'https://genai0.search.windows.net'\n",
    "MODEL                               = \"gtp35turbo-latest\"\n",
    "key                                 = 'lvhCA67EeE3JRyxyem5L0wGJSfOxscm2jft887ECdJAzSeDzoCNZ'\n",
    "model                               = \"text-embedding-ada-002\"\n",
    "credential                          = AzureKeyCredential(key)\n",
    "COMPLETION_TOKENS                   = 1000\n",
    "top_search_vector_k                 = 5"
   ]
  },
  {
   "cell_type": "code",
   "execution_count": 7,
   "metadata": {},
   "outputs": [],
   "source": [
    "llm = AzureChatOpenAI(model_name=MODEL)"
   ]
  },
  {
   "cell_type": "code",
   "execution_count": 10,
   "metadata": {},
   "outputs": [],
   "source": [
    "from langchain import PromptTemplate"
   ]
  },
  {
   "cell_type": "code",
   "execution_count": 31,
   "metadata": {},
   "outputs": [],
   "source": [
    "# create the prompt, here we use multiple inputs\n",
    "prompt = PromptTemplate(\n",
    "    template=\"\"\"\"/\n",
    "    You are a helpful Name Entity Recognition System. From the following text:    \n",
    "    \n",
    "    <<{text}>>\n",
    "    \n",
    "    Extract this target word class: '{word_class}'.\n",
    "    Return the extracted word class with quotes. \n",
    "    For single word class of type 'date' return it in the format YYYY-MM-DD. \n",
    "    For intervals with a start date and end date return both dates in a list, for example: [\"2021-07-01\", \"2022-07-01\"]. \n",
    "    For word class 'company_name' return it in capital letters.\n",
    "    \"\"\",\n",
    "    input_variables=[\"word_class\", \"text\"]\n",
    ")\n",
    "\n",
    "query = \"What is the revenue of Pfizer from 2018-jul-01 to 2019-jul-01\"\n",
    "word_class = \"dates\"\n",
    "#word_class = \"company_name\"\n",
    "\n",
    "# format the prompt to add variable values\n",
    "prompt_formatted_str: str = prompt.format(\n",
    "    word_class = word_class,\n",
    "    text = query,\n",
    "    )"
   ]
  },
  {
   "cell_type": "code",
   "execution_count": 32,
   "metadata": {},
   "outputs": [
    {
     "name": "stdout",
     "output_type": "stream",
     "text": [
      "[\"2018-07-01\", \"2019-07-01\"]\n"
     ]
    }
   ],
   "source": [
    "# make a prediction\n",
    "prediction = llm.predict(prompt_formatted_str)\n",
    "\n",
    "# print the prediction\n",
    "print(prediction)"
   ]
  }
 ],
 "metadata": {
  "kernelspec": {
   "display_name": ".genai0",
   "language": "python",
   "name": "python3"
  },
  "language_info": {
   "codemirror_mode": {
    "name": "ipython",
    "version": 3
   },
   "file_extension": ".py",
   "mimetype": "text/x-python",
   "name": "python",
   "nbconvert_exporter": "python",
   "pygments_lexer": "ipython3",
   "version": "3.9.13"
  }
 },
 "nbformat": 4,
 "nbformat_minor": 2
}
