{
 "cells": [
  {
   "cell_type": "code",
   "execution_count": 1,
   "metadata": {},
   "outputs": [],
   "source": [
    "import os\n",
    "from azure.core.credentials import AzureKeyCredential\n",
    "from langchain.schema import HumanMessage\n",
    "from langchain.chat_models import AzureChatOpenAI\n",
    "os.environ[\"AZURE_OPENAI_API_KEY\"]  = \"b82effcf491e45a088b1cd578713311c\"\n",
    "os.environ[\"OPENAI_API_VERSION\"]    = '2023-05-15'\n",
    "os.environ[\"AZURE_OPENAI_ENDPOINT\"] = 'https://usesharedaopenai001.openai.azure.com/'\n",
    "os.environ[\"OPENAI_API_TYPE\"]       = 'azure'\n",
    "# Variables-------------------------------------------------------\n",
    "index                               = \"azure-cognitive-search-vector-demo\"\n",
    "azure_search_endpoint               = 'https://genai0.search.windows.net'\n",
    "MODEL                               = \"gtp35turbo-latest\"\n",
    "key                                 = 'lvhCA67EeE3JRyxyem5L0wGJSfOxscm2jft887ECdJAzSeDzoCNZ'\n",
    "model                               = \"text-embedding-ada-002\"\n",
    "credential                          = AzureKeyCredential(key)\n",
    "COMPLETION_TOKENS                   = 1000\n",
    "top_search_vector_k                 = 5"
   ]
  },
  {
   "cell_type": "code",
   "execution_count": 2,
   "metadata": {},
   "outputs": [],
   "source": [
    "llm = AzureChatOpenAI(model_name=MODEL, temperature=0)"
   ]
  },
  {
   "cell_type": "code",
   "execution_count": 3,
   "metadata": {},
   "outputs": [],
   "source": [
    "from langchain import PromptTemplate"
   ]
  },
  {
   "cell_type": "markdown",
   "metadata": {},
   "source": [
    "## Prompt 1"
   ]
  },
  {
   "cell_type": "code",
   "execution_count": 4,
   "metadata": {},
   "outputs": [],
   "source": [
    "# create the prompt, here we use multiple inputs\n",
    "prompt = PromptTemplate(\n",
    "    template=\"\"\"\"/\n",
    "    You are a helpful Name Entity Recognition System. From the following text:    \n",
    "    \n",
    "    <<{text}>>\n",
    "    \n",
    "    Extract this target word class: '{word_class}'. Return the extracted element in a list. \n",
    "    For word class related to dates or years intervals always return it in the format 'YYYY-MM-DD'.\n",
    "    For intervals with a start-date and end-date return both dates in a list. \n",
    "    For word class 'company_name' return it in capital letters.\n",
    "    \"\"\",\n",
    "    input_variables=[\"word_class\", \"text\"]\n",
    ")\n",
    "\n",
    "#query = \"What is the revenue of Pfizer from july 2020 to october 2021\"\n",
    "query = \"In agreement with the information outlined in the income statement, what is the FY2015 - FY2017 3 year average net profit margin (as a %) for Best Buy? Answer in units of percents and round to one decimal place.\"\n",
    "word_class = \"dates\"\n",
    "#word_class = \"company_name\"\n",
    "\n",
    "# format the prompt to add variable values\n",
    "prompt_formatted_str: str = prompt.format(\n",
    "    word_class = word_class,\n",
    "    text = query,\n",
    "    )"
   ]
  },
  {
   "cell_type": "code",
   "execution_count": 5,
   "metadata": {},
   "outputs": [],
   "source": [
    "# make a prediction\n",
    "#prediction = llm.predict(prompt_formatted_str)\n",
    "\n",
    "# print the prediction\n",
    "#print(prediction)"
   ]
  },
  {
   "cell_type": "markdown",
   "metadata": {},
   "source": [
    "## Few-shot prompt"
   ]
  },
  {
   "cell_type": "code",
   "execution_count": 6,
   "metadata": {},
   "outputs": [],
   "source": [
    "import pandas as pd\n",
    "df = pd.read_csv('../../data/financebench_sample_150.csv')"
   ]
  },
  {
   "cell_type": "code",
   "execution_count": 14,
   "metadata": {},
   "outputs": [],
   "source": [
    "prompt = PromptTemplate(\n",
    "    template=\"\"\"\"/\n",
    "    You are a helpful Name Entity Recognition System, specialized in extracting 'dates' from financial questions.   \n",
    "    You should always return an interval where the first element represents the start-date and the second element represents the end-date. \n",
    "    If 'dates' are expressed in 'month-year', 'quarter-year', 'year-only', or any other time unit you always respond using JSON format with\n",
    "    this date notation: \"YYYY-MM-DD\", \"YYYY-MM-DD\".    \n",
    "\n",
    "    Q: What is the FY2018 capital expenditure amount (in USD millions) for 3M? Give a response to the question by\n",
    "        relying on the details shown in the cash flow statement.\n",
    "    A: (\"2018-01-01\",\"2018-12-31\")\n",
    "\n",
    "    Q: What is Adobe's year-over-year change in unadjusted operating income from FY2015 to FY2016 \n",
    "        (in units of percents and round to one decimal place)? Give a solution to the question by using the income statement.\n",
    "    A: (\"2015-01-01\",\"2016-12-31\")\n",
    "\n",
    "    Q: What is the FY2017 return on assets (ROA) for Coca Cola? ROA is defined as: \n",
    "        FY2017 net income/(average total assets between FY2016 and FY2017). \n",
    "        Round your answer to two decimal places. Give a response to the question by relying on \n",
    "        the details shown in the balance sheet and the P&L statement.\n",
    "    A: (\"2016-01-01\",\"2017-12-01\")\n",
    "\n",
    "    Q: What is the FY2017 - FY2019 3 year average of capex as a '%' of revenue for Activision Blizzard? \n",
    "        Answer in units of percents and round to one decimal place. Calculate (or extract) the answer from \n",
    "        the statement of income and the cash flow statement.\n",
    "    A: (\"2017-01-01\",\"2019-12-31\")\n",
    "\n",
    "    Q: {query}\n",
    "    A: \n",
    "    \"\"\",\n",
    "    input_variables=[\"query\"]\n",
    ")"
   ]
  },
  {
   "cell_type": "code",
   "execution_count": 15,
   "metadata": {},
   "outputs": [],
   "source": [
    "#query = \"What is the revenue of Pfizer from july 2020 to october 2021\"\n",
    "query = \"In agreement with the information outlined in the income statement, what is the FY2015 - FY2017 3 year average net profit margin (as a %) for Best Buy? Answer in units of percents and round to one decimal place.\"\n",
    "#word_class = \"company_name\"\n",
    "\n",
    "# format the prompt to add variable values\n",
    "prompt_formatted_str: str = prompt.format(    \n",
    "    query = query,\n",
    ")"
   ]
  },
  {
   "cell_type": "code",
   "execution_count": 16,
   "metadata": {},
   "outputs": [],
   "source": [
    "# make a prediction\n",
    "prediction = llm.predict(prompt_formatted_str)"
   ]
  },
  {
   "cell_type": "code",
   "execution_count": 17,
   "metadata": {},
   "outputs": [
    {
     "name": "stdout",
     "output_type": "stream",
     "text": [
      "(\"2015-01-01\",\"2017-12-31\")\n"
     ]
    }
   ],
   "source": [
    "print(prediction.strip(\"'\"))"
   ]
  },
  {
   "cell_type": "code",
   "execution_count": 18,
   "metadata": {},
   "outputs": [],
   "source": [
    "from tenacity import retry, wait_random_exponential, stop_after_attempt\n",
    "import time\n",
    "\n",
    "# Define a function for the process you want to retry\n",
    "@retry(wait=wait_random_exponential(min=1, max=20), stop=stop_after_attempt(6))\n",
    "def process_row(question):\n",
    "    prompt_formatted_str = prompt.format(query=question)\n",
    "    start_time = time.time()  # Start time\n",
    "    response = llm.predict(prompt_formatted_str)\n",
    "    end_time = time.time()  # End time\n",
    "    duration = end_time - start_time\n",
    "    return response, duration\n",
    "\n",
    "intervals = []\n",
    "durations = []\n",
    "\n",
    "for index, row in df.iterrows():\n",
    "    question = row['question']\n",
    "    try:\n",
    "        interval, duration = process_row(question)\n",
    "        intervals.append(interval.strip(\"'\"))\n",
    "        durations.append(duration)\n",
    "    except Exception as e:\n",
    "        print(f\"Error processing row: {e}\")\n",
    "        intervals.append(None)\n",
    "        durations.append(None)"
   ]
  },
  {
   "cell_type": "code",
   "execution_count": 19,
   "metadata": {},
   "outputs": [
    {
     "data": {
      "text/plain": [
       "0.5230564053853353"
      ]
     },
     "execution_count": 19,
     "metadata": {},
     "output_type": "execute_result"
    }
   ],
   "source": [
    "# Calculate mean duration\n",
    "mean_duration = sum(d for d in durations if d is not None) / len([d for d in durations if d is not None])\n",
    "mean_duration"
   ]
  },
  {
   "cell_type": "code",
   "execution_count": 20,
   "metadata": {},
   "outputs": [
    {
     "data": {
      "text/plain": [
       "['(\"2018-01-01\",\"2018-12-31\")',\n",
       " '(\"2018-12-31\",\"2018-12-31\")',\n",
       " '(\"2022-01-01\",\"2022-12-31\")',\n",
       " '(\"FY2022\", \"FY2022\")',\n",
       " '(\"2022-01-01\",\"2022-12-31\")',\n",
       " '(\"2023-04-01\",\"2023-06-30\")',\n",
       " '(\"2023-04-01\",\"2023-06-30\")',\n",
       " 'No specific date range is mentioned in the question, so the answer does not require a date interval.',\n",
       " '(\"2018-01-01\",\"2019-12-31\")',\n",
       " '(\"2017-01-01\",\"2019-12-31\")',\n",
       " '(\"2015-01-01\",\"2015-12-31\")',\n",
       " '(\"2015-01-01\",\"2016-12-31\")',\n",
       " '(\"2017-01-01\",\"2017-12-31\")',\n",
       " '(\"2022-01-01\",\"2022-12-31\")',\n",
       " '(\"2022-01-01\",\"2022-12-31\")',\n",
       " '(\"2022-01-01\",\"2022-12-31\")',\n",
       " '(\"2022-01-01\",\"2022-12-31\")',\n",
       " '(\"2021-01-01\",\"2022-12-31\")',\n",
       " '(\"2016-01-01\",\"2017-12-31\")',\n",
       " '(\"2016-01-01\",\"2017-12-31\")',\n",
       " '(\"2019-01-01\",\"2019-12-31\")',\n",
       " '(\"2020-12-31\",\"2020-12-31\")',\n",
       " '(\"2022-07-01\",\"2022-07-01\")',\n",
       " '(\"2022-01-01\",\"2023-12-31\")',\n",
       " '(\"2021-01-01\",\"2023-12-31\")',\n",
       " 'null',\n",
       " '(\"2023-01-01\",\"2023-12-31\")',\n",
       " '(\"2023-04-01\",\"2023-06-30\")',\n",
       " '(\"2023-01-01\",\"2023-12-31\")',\n",
       " '(\"2022-01-01\",\"2023-12-31\")',\n",
       " '(\"2015-01-01\",\"2015-12-31\")',\n",
       " '(\"2022-01-01\",\"2022-12-31\")',\n",
       " '(\"2022-01-01\",\"2022-12-31\")',\n",
       " '(\"2022-01-01\",\"2022-12-31\")',\n",
       " '(\"FY22\",\"FY22\")',\n",
       " '(\"2022-01-01\",\"2022-12-31\")',\n",
       " '(\"2021-01-01\",\"2022-12-31\")',\n",
       " '(\"2022-01-01\",\"2022-12-31\")',\n",
       " '(\"2022-01-01\",\"2022-12-31\")',\n",
       " '(\"2022-01-01\",\"2022-12-31\")',\n",
       " '(\"2022-01-01\",\"2022-12-31\")',\n",
       " '(\"2022-01-01\",\"2022-12-31\")',\n",
       " '(\"2021-01-01\",\"2022-12-31\")',\n",
       " '(\"2022-01-01\",\"2022-12-31\")',\n",
       " '(\"2022-01-01\",\"2022-12-31\")',\n",
       " '(\"2020-01-01\",\"2020-12-31\")',\n",
       " '(\"2021-01-01\",\"2021-12-31\")',\n",
       " '(\"2022-01-01\",\"2022-12-31\")',\n",
       " '(\"2015-01-01\",\"2017-12-31\")',\n",
       " '(\"2019-12-31\",\"2019-12-31\")',\n",
       " \"Gross margins are not a relevant metric for a company like Best Buy. This is because Best Buy is a retailer and gross margins are typically used to analyze companies in industries where the cost of goods sold is a significant portion of revenue. In the case of Best Buy, the cost of goods sold is not a major factor as they primarily sell products at a markup rather than manufacturing or producing them. Therefore, fluctuations in gross margins may not be indicative of the company's performance or financial health.\",\n",
       " '(\"2021-01-01\",\"2023-12-31\")',\n",
       " '(\"2023-01-01\",\"2023-12-31\")',\n",
       " '(\"2023-01-01\",\"2024-06-30\")',\n",
       " '(\"2023-04-01\",\"2024-06-30\")',\n",
       " '(\"2024-04-01\",\"2024-06-30\")',\n",
       " '(\"2016-01-01\",\"2016-12-31\")',\n",
       " '(\"2019-01-01\",\"2020-12-31\")',\n",
       " '(\"2020-01-01\",\"2020-12-31\")',\n",
       " '(\"2018-12-31\",\"2018-12-31\")',\n",
       " '(\"2022-01-01\",\"2022-12-31\")',\n",
       " '(\"2022-01-01\",\"2022-12-31\")',\n",
       " '(\"2022-01-01\",\"2022-12-31\")',\n",
       " '(\"2022-01-01\",\"2022-12-31\")',\n",
       " '(\"\",\"\")',\n",
       " '(\"2023-01-01\",\"2023-12-31\")',\n",
       " '(\"2021-01-01\",\"2022-12-31\")',\n",
       " '(\"2016-01-01\",\"2017-12-01\")',\n",
       " '(\"2021-01-01\",\"2021-12-31\")',\n",
       " '(\"2022-01-01\",\"2022-12-31\")',\n",
       " '(\"2019-01-01\",\"2020-12-31\")',\n",
       " '(\"2019-01-01\",\"2021-12-31\")',\n",
       " '(\"2021-01-01\",\"2022-12-31\")',\n",
       " '(\"2022-01-01\",\"2022-12-31\")',\n",
       " '(\"2021-01-01\",\"2021-12-31\")',\n",
       " '(\"2017-01-01\",\"2018-12-31\")',\n",
       " '(\"2022-01-01\",\"2022-12-31\")',\n",
       " '(\"2020-01-01\",\"2022-12-31\")',\n",
       " '(\"2022-04-01\",\"2022-06-30\")',\n",
       " '(\"No dates mentioned\")',\n",
       " 'There is no specific date mentioned in this question, so the answer does not require a date interval.',\n",
       " '(\"2018-01-01\",\"2019-12-31\")',\n",
       " '(\"2020-01-01\",\"2020-12-31\")',\n",
       " '(\"2020-01-01\",\"2020-12-31\")',\n",
       " '(\"2022-01-01\",\"2022-12-31\")',\n",
       " '(\"2022-01-01\",\"2022-12-31\")',\n",
       " '(\"2022-01-01\",\"2022-12-31\")',\n",
       " '(\"2022-01-01\",\"2022-12-31\")',\n",
       " '(\"2023-01-01\",\"2023-12-31\")',\n",
       " '(\"2022-01-01\",\"2022-12-31\")',\n",
       " '(\"2023-08-30\",\"9999-12-31\")',\n",
       " '(\"2023-08-30\",\"2023-08-30\")',\n",
       " '(\"2023-08-30\",\"2023-08-30\")',\n",
       " '(\"2022-04-01\",\"2022-06-30\")',\n",
       " '(\"2021-01-01\",\"2021-03-31\")',\n",
       " '(\"2021-01-01\",\"2021-03-31\")',\n",
       " 'Gross margins are not a relevant metric for a company like JPM. This is because JPM is a financial institution and its primary source of revenue comes from interest income, fees, and commissions rather than the sale of goods or services. Therefore, gross margins, which measure the profitability of goods or services sold, are not applicable in this case.',\n",
       " '(\"2022-04-01\",\"2022-06-30\")',\n",
       " '(\"2023-04-01\",\"2023-06-30\")',\n",
       " '(\"2018-01-01\",\"2019-12-31\")',\n",
       " '(\"2019-01-01\",\"2020-12-31\")',\n",
       " '(\"2021-01-01\",\"2021-12-31\")',\n",
       " '(\"2020-01-01\",\"2022-12-31\")',\n",
       " '(\"2018-12-31\",\"2018-12-31\")',\n",
       " '(\"2018-01-01\",\"2020-12-31\")',\n",
       " '(\"2022-01-01\",\"2022-12-31\")',\n",
       " '(\"2022-01-01\",\"2022-12-31\")',\n",
       " '(\"2022-01-01\",\"2022-12-31\")',\n",
       " '(\"2022-01-01\",\"2022-12-31\")',\n",
       " '(\"2023-01-01\",\"2023-06-30\")',\n",
       " '(\"2016-01-01\",\"2016-12-31\")',\n",
       " '(\"2022-01-01\",\"2023-12-31\")',\n",
       " '(\"2015-01-01\",\"2015-12-31\")',\n",
       " '(\"2017-12-31\",\"2017-12-31\")',\n",
       " '(\"2016-01-01\",\"2018-12-31\")',\n",
       " '(\"2019-01-01\",\"2019-12-31\")',\n",
       " '(\"2020-01-01\",\"2021-12-31\")',\n",
       " '(\"2023-01-01\",\"2023-12-31\")',\n",
       " '(\"2022-01-01\",\"2022-12-31\")',\n",
       " '(\"2021-01-01\",\"2021-12-31\")',\n",
       " '(\"2022-01-01\",\"2022-12-31\")',\n",
       " '(\"2021-01-01\",\"2022-12-31\")',\n",
       " '(\"2022-01-01\",\"2022-12-31\")',\n",
       " '(\"2022-01-01\",\"2022-12-31\")',\n",
       " '(\"2022-01-01\",\"2022-12-31\")',\n",
       " '(\"2023-05-03\",\"2023-05-03\")',\n",
       " '(\"2023-05-26\",\"2023-05-26\")',\n",
       " '(\"2023-05-26\",\"2023-05-26\")',\n",
       " '(\"2023-01-01\",\"2023-03-31\")',\n",
       " '(\"2023-01-01\",\"2023-03-31\")',\n",
       " '(\"2020-01-01\",\"2021-12-31\")',\n",
       " '(\"2019-01-01\",\"2019-12-31\")',\n",
       " 'There is no specific date mentioned in this question, so there is no need to provide a date interval in the answer.',\n",
       " '(\"future\",\"future\")',\n",
       " '(\"2022-04-01\",\"2022-06-30\")',\n",
       " '(\"2023-04-01\",\"2023-06-30\")',\n",
       " '(\"2023-01-01\",\"2023-12-31\")',\n",
       " '(\"2022-01-01\",\"2023-12-31\")',\n",
       " '(\"2023-01-01\",\"2023-12-31\")',\n",
       " '(\"2023-12-31\",\"2023-12-31\")',\n",
       " '(\"2023-10-01\",\"2023-12-31\")',\n",
       " '(\"2023-01-01\",\"2023-12-31\")',\n",
       " '(\"2021-01-01\",\"2021-12-31\")',\n",
       " '(\"2024-01-01\",\"2024-12-31\")',\n",
       " '(\"2022-01-01\",\"2022-12-31\")',\n",
       " '(\"2022-01-01\",\"2022-12-31\")',\n",
       " '(\"2021-01-01\",\"2022-12-31\")',\n",
       " '(\"2017-01-01\",\"2018-12-31\")',\n",
       " '(\"2018-01-01\",\"2019-12-31\")',\n",
       " '(\"2018-01-01\",\"2020-12-31\")']"
      ]
     },
     "execution_count": 20,
     "metadata": {},
     "output_type": "execute_result"
    }
   ],
   "source": [
    "intervals"
   ]
  }
 ],
 "metadata": {
  "kernelspec": {
   "display_name": ".genai0",
   "language": "python",
   "name": "python3"
  },
  "language_info": {
   "codemirror_mode": {
    "name": "ipython",
    "version": 3
   },
   "file_extension": ".py",
   "mimetype": "text/x-python",
   "name": "python",
   "nbconvert_exporter": "python",
   "pygments_lexer": "ipython3",
   "version": "3.9.13"
  }
 },
 "nbformat": 4,
 "nbformat_minor": 2
}
