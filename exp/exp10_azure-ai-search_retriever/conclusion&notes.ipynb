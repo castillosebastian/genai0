{
 "cells": [
  {
   "cell_type": "markdown",
   "metadata": {},
   "source": [
    "# Conclutions"
   ]
  },
  {
   "cell_type": "markdown",
   "metadata": {},
   "source": [
    "### Notes"
   ]
  },
  {
   "cell_type": "markdown",
   "metadata": {},
   "source": [
    "- Select \"k_nearest_neibors\" determines how many nearest neighbor matches are returned from the vector query and provided to the RRF ranker, and \"top\" for returned documents."
   ]
  },
  {
   "cell_type": "markdown",
   "metadata": {},
   "source": [
    "### Topics and sources"
   ]
  },
  {
   "cell_type": "markdown",
   "metadata": {},
   "source": [
    "Examples:       \n",
    "    - https://github.com/Azure/azure-search-vector-samples/blob/main/demo-python/code/azure-search-vector-python-sample.ipynb    \n",
    "Filters:    \n",
    "    - https://learn.microsoft.com/en-us/azure/search/vector-search-filters    \n",
    "MultiRetriver:    \n",
    "    - https://github.com/run-llama/llama-hub/blob/main/llama_hub/llama_packs/multidoc_autoretrieval/multidoc_autoretrieval.ipynb   \n",
    "Query:   \n",
    "    - https://learn.microsoft.com/en-us/azure/search/vector-search-how-to-query?tabs=query-2023-11-01%2Cfilter-2023-11-01  "
   ]
  }
 ],
 "metadata": {
  "language_info": {
   "name": "python"
  }
 },
 "nbformat": 4,
 "nbformat_minor": 2
}
