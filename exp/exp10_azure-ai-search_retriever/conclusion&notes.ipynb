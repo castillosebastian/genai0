{
 "cells": [
  {
   "cell_type": "markdown",
   "metadata": {},
   "source": [
    "# Conclutions"
   ]
  },
  {
   "cell_type": "markdown",
   "metadata": {},
   "source": [
    "- Hybrid Search \n",
    "\n",
    "- azure-search-documents and langchain: Langchain works on azure-search-documents==11.4.0b6, but new azure python package is 11.4.0. This difference generate incompatibilities, eg. cannot import name 'Vector' from 'azure.search.documents.models'. Upwards of 11.4.0b8, azure-search-documents no longer provides the Vector class, so langchain integration does not support latest non-preview release of azure-search-documents (11.4.0).\n",
    "  \n",
    "- SemanticSearchNotAvailable for free tier. "
   ]
  },
  {
   "cell_type": "markdown",
   "metadata": {},
   "source": [
    "### Queries per Second"
   ]
  },
  {
   "cell_type": "markdown",
   "metadata": {},
   "source": [
    "- For query: In agreement with the information outlined in the income statement, what is the FY2015 - FY2017 3 year average net profit margin (as a %) for Best Buy? Answer in units of percents and round to one decimal place.    \n",
    "Duration for 10 queries: 31.17778468132019 seconds   \n",
    "\n",
    "- For query: What is the Revenue of Microsoft in 2023    \n",
    "Duration for 10 queries: 28.267321825027466 second       \n",
    "\n",
    "- For query: Has Microsoft increased its debt on balance sheet between FY2023 and the FY2022 period?   \n",
    "Duration for 10 queries: 27.828409671783447 seconds   \n"
   ]
  },
  {
   "cell_type": "markdown",
   "metadata": {},
   "source": [
    "### Notes"
   ]
  },
  {
   "cell_type": "markdown",
   "metadata": {},
   "source": [
    "- Select \"k_nearest_neibors\" determines how many nearest neighbor matches are returned from the vector query and provided to the RRF ranker, and \"top\" for returned documents."
   ]
  },
  {
   "cell_type": "markdown",
   "metadata": {},
   "source": [
    "### Topics and sources"
   ]
  },
  {
   "cell_type": "markdown",
   "metadata": {},
   "source": [
    "Examples:       \n",
    "    - https://github.com/Azure/azure-search-vector-samples/blob/main/demo-python/code/azure-search-vector-python-sample.ipynb    \n",
    "Filters:    \n",
    "    - https://learn.microsoft.com/en-us/azure/search/vector-search-filters    \n",
    "MultiRetriver:    \n",
    "    - https://github.com/run-llama/llama-hub/blob/main/llama_hub/llama_packs/multidoc_autoretrieval/multidoc_autoretrieval.ipynb   \n",
    "Query:   \n",
    "    - https://learn.microsoft.com/en-us/azure/search/vector-search-how-to-query?tabs=query-2023-11-01%2Cfilter-2023-11-01  "
   ]
  }
 ],
 "metadata": {
  "kernelspec": {
   "display_name": ".genai0",
   "language": "python",
   "name": "python3"
  },
  "language_info": {
   "name": "python",
   "version": "3.9.13"
  }
 },
 "nbformat": 4,
 "nbformat_minor": 2
}
