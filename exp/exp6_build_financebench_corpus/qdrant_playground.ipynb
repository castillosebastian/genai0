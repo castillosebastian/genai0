{
 "cells": [
  {
   "cell_type": "markdown",
   "metadata": {},
   "source": [
    "# Qdrant Playground "
   ]
  },
  {
   "cell_type": "markdown",
   "metadata": {},
   "source": [
    "This playground connect to Qdrant Vector Data Base build wiht 5 documents:\n",
    "- [ULTABEAUTY_2023Q4_EARNINGS.pdf](../../data/financebench/ULTABEAUTY_2023Q4_EARNINGS.pdf)   \n",
    "- [COCACOLA_2022_10K.pdf](../../data/financebench/COCACOLA_2022_10K.pdf)  \n",
    "- [GENERALMILLS_2022_10K.pdf](../../data/financebench/GENERALMILLS_2022_10K.pdf)   \n",
    "- [JPMORGAN_2022_10K.pdf](../../data/financebench/JPMORGAN_2022_10K.pdf)  \n",
    "- [AMCOR_2022_8K_dated-2022-07-01.pdf]((../../data/financebench/AMCOR_2022_8K_dated-2022-07-01.pdf))  \n"
   ]
  },
  {
   "cell_type": "code",
   "execution_count": 1,
   "metadata": {},
   "outputs": [
    {
     "name": "stdout",
     "output_type": "stream",
     "text": [
      "COCACOLA_2021_10K.pdf\n",
      "PFIZER_2021_10K.pdf\n",
      "VERIZON_2022_10K.pdf\n",
      "PEPSICO_2021_10K.pdf\n",
      "NETFLIX_2017_10K.pdf\n"
     ]
    }
   ],
   "source": [
    "import pandas as pd\n",
    "import os\n",
    "import requests\n",
    "import sys\n",
    "import time\n",
    "from datasets import load_dataset, DatasetDict\n",
    "from dotenv import load_dotenv\n",
    "from langchain import PromptTemplate\n",
    "from langchain.chains import RetrievalQA\n",
    "from langchain.document_loaders import PyPDFLoader, DirectoryLoader, UnstructuredURLLoader\n",
    "from langchain.embeddings import HuggingFaceEmbeddings\n",
    "from langchain.llms import CTransformers\n",
    "from langchain.text_splitter import CharacterTextSplitter, RecursiveCharacterTextSplitter\n",
    "from langchain.vectorstores import Qdrant\n",
    "\n",
    "\n",
    "# Load OpenAI access and other custom paths\n",
    "sys.path.append(os.path.abspath('../../src'))\n",
    "from azure_openai_conn import OpenAIembeddings, qdrant_load_by_chunks\n",
    "\n",
    "# Load environment variables\n",
    "load_dotenv()\n",
    "\n",
    "if os.path.isfile('../../data/financebench_sample_150.csv'):\n",
    "    df = pd.read_csv('../../data/financebench_sample_150.csv')\n",
    "else:    \n",
    "    ds = load_dataset(\"PatronusAI/financebench\")\n",
    "    df = pd.DataFrame(ds)\n",
    "    all_dicts = []\n",
    "    for index, row in df.iterrows():    \n",
    "        dictionary = row['train']    \n",
    "        all_dicts.append(dictionary)\n",
    "    df = pd.DataFrame(all_dicts)\n",
    "\n",
    "\n",
    "destination_folder = '../../data/financebench'\n",
    "\n",
    "if not os.path.exists(destination_folder):\n",
    "\n",
    "    os.makedirs(destination_folder)\n",
    "\n",
    "    for index, row in df.iterrows():\n",
    "        url = row['doc_link']\n",
    "        doc_name = row['doc_name']\n",
    "        doc_name_with_extension = doc_name + '.pdf'        \n",
    "        file_path = os.path.join(destination_folder, doc_name_with_extension)\n",
    "        response = requests.get(url)\n",
    "        if response.status_code == 200:            \n",
    "            with open(file_path, 'wb') as file:\n",
    "                file.write(response.content)\n",
    "            print(f\"Downloaded: {doc_name_with_extension}\")\n",
    "        else:\n",
    "            print(f\"Failed to download: {doc_name_with_extension} ({url})\")\n",
    "\n",
    "\n",
    "pdf_folder_path = destination_folder\n",
    "documents = []\n",
    "for file in os.listdir(pdf_folder_path)[:5]:\n",
    "    print(file)\n",
    "    if file.endswith('.pdf'):\n",
    "        pdf_path = os.path.join(pdf_folder_path, file)\n",
    "        loader = PyPDFLoader(pdf_path)\n",
    "        documents.extend(loader.load())\n",
    "\n",
    "\n",
    "# Load Embeddings: Many Problems for Exceed call rate\n",
    "embeddings = OpenAIembeddings()\n",
    "# Spliter\n",
    "# todo: smarter spliter\n",
    "# https://github.com/Azure-Samples/azure-search-openai-demo/blob/main/scripts/prepdocslib/textsplitter.py\n",
    "text_splitter = RecursiveCharacterTextSplitter(chunk_size=1500, chunk_overlap=100, add_start_index=True)\n",
    "# Generate Splits\n",
    "chunked_documents = text_splitter.split_documents(documents)\n",
    "# Chunk size and overlap\n",
    "chunk_size=1500\n",
    "overlap=100\n",
    "# Initialize Qdrant database\n",
    "vectordb = Qdrant.from_documents(\n",
    "    documents=chunked_documents,\n",
    "    embedding=embeddings, \n",
    "    location=\":memory:\", \n",
    "    collection_name=\"financebench\")"
   ]
  },
  {
   "cell_type": "code",
   "execution_count": 2,
   "metadata": {},
   "outputs": [
    {
     "name": "stdout",
     "output_type": "stream",
     "text": [
      "THE COCA-COLA COMPANY AND SUBSIDIARIES\n",
      "CONSOLIDATED BALANCE SHEETS\n",
      "(In millions except par value)\n",
      "December 31, 2021 2020\n",
      "ASSETS\n",
      "Current Assets   \n",
      "Cash and cash equivalents $ 9,684 $ 6,795 \n",
      "Short-term investments 1,242 1,771 \n",
      "Total Cash, Cash Equivalents and Short-Term Investments 10,926 8,566 \n",
      "Marketable securities 1,699 2,348 \n",
      "Trade accounts receivable, less allowances of $516 and $526, respectively 3,512 3,144 \n",
      "Inventories 3,414 3,266 \n",
      "Prepaid expenses and other current assets 2,994 1,916 \n",
      "Total Current Assets 22,545 19,240 \n",
      "Equity method investments 17,598 19,273 \n",
      "Other investments 818 812 \n",
      "Other noncurrent assets 6,731 6,184 \n",
      "Deferred income tax assets 2,129 2,460 \n",
      "Property, plant and equipment — net 9,920 10,777 \n",
      "Trademarks with indefinite lives 14,465 10,395 \n",
      "Goodwill 19,363 17,506 \n",
      "Other intangible assets 785 649 \n",
      "Total Assets $ 94,354 $ 87,296 \n",
      "LIABILITIES AND EQUITY\n",
      "Current Liabilities   \n",
      "Accounts payable and accrued expenses $ 14,619 $ 11,145 \n",
      "Loans and notes payable 3,307 2,183 \n",
      "Current maturities of long-term debt 1,338 485 \n",
      "Accrued income taxes 686 788 \n",
      "Total Current Liabilities 19,950 14,601 \n",
      "Long-term debt 38,116 40,125 \n",
      "Other noncurrent liabilities 8,607 9,453 \n",
      "Deferred income tax liabilities 2,821 1,833 \n",
      "The Coca-Cola Company Shareowners’ Equity   \n",
      "Common stock, $0.25 par value; authorized — 11,200 shares; issued — 7,040 shares 1,760 1,760 \n",
      "Capital surplus 18,116 17,601 \n",
      "Reinvested earnings 69,094 66,555\n"
     ]
    }
   ],
   "source": [
    "query = \"What is the Coca Cola Balance Sheet?\"\n",
    "docs = vectordb.similarity_search(query)\n",
    "print(docs[0].page_content)"
   ]
  },
  {
   "cell_type": "code",
   "execution_count": 3,
   "metadata": {},
   "outputs": [
    {
     "name": "stdout",
     "output_type": "stream",
     "text": [
      "{'source': '../../data/financebench/COCACOLA_2021_10K.pdf', 'page': 63, 'start_index': 0}\n"
     ]
    }
   ],
   "source": [
    "print(docs[0].metadata)"
   ]
  },
  {
   "cell_type": "markdown",
   "metadata": {},
   "source": [
    "### Addressing Diversity: Maximum marginal relevance\n",
    "\n",
    "\n",
    "How to enforce diversity in the search results and avoid repetition.\n",
    " \n",
    "`Maximum marginal relevance` strives to achieve both relevance to the query *and diversity* among the results."
   ]
  },
  {
   "cell_type": "code",
   "execution_count": 4,
   "metadata": {},
   "outputs": [],
   "source": [
    "question = \"what these companies say about market conditions?\"\n",
    "docs_ss = vectordb.similarity_search(question,k=3)"
   ]
  },
  {
   "cell_type": "code",
   "execution_count": 5,
   "metadata": {},
   "outputs": [
    {
     "data": {
      "text/plain": [
       "'markets, or achieve the return on capital we expect from our investments in these markets.\\nChanges in economic conditions can adversely impact our business.\\nMany of the jurisdictions in which our products are sold have experienced and could continue to experience uncertain or\\nunfavorable economic conditions, such as recessions or economic slowdowns,\\n16'"
      ]
     },
     "execution_count": 5,
     "metadata": {},
     "output_type": "execute_result"
    }
   ],
   "source": [
    "docs_ss[0].page_content"
   ]
  },
  {
   "cell_type": "code",
   "execution_count": 6,
   "metadata": {},
   "outputs": [
    {
     "data": {
      "text/plain": [
       "'Table of Contents\\nbe unwilli ng or unable to increase our product prices or unable to effective ly hedge against price increases to offset these\\nincreased costs without suf fering reduced volume, revenue, mar gins and operating results.\\nPolitical and social conditions can adversely af fect our business.\\nPolitical and social conditions in the markets in which our products are sold have been and could continue to be difficult to\\npredict, resulting in adverse effects on our business. The results of elections, referendums or other political conditions (including\\ngovernment shutdow ns or hostilities between countries) in these markets have in the past and could continue to impact how\\nexisting laws, regulations and government programs or policies are implemen ted or result in uncertainty as to how such laws,\\nregulations, program s or policies may change, including with respect to tariffs, sanctions, environmental and climate change\\nregulations, taxes, benefit programs, the movement of goods, services and people between countries, relationships between\\ncountries, customer or consumer perception of a particular country or its gover nment and other matters, and has resulted in and\\ncould continue to result in exchange rate fluctuation, volatility in global stock markets and global economic uncertainty or\\nadversely affect demand for our produ cts, any of which can adversely affect our business. In addition, political and social'"
      ]
     },
     "execution_count": 6,
     "metadata": {},
     "output_type": "execute_result"
    }
   ],
   "source": [
    "docs_ss[1].page_content"
   ]
  },
  {
   "cell_type": "code",
   "execution_count": 7,
   "metadata": {},
   "outputs": [
    {
     "data": {
      "text/plain": [
       "'enhancements to our networks. \\nAs we introduce new offerings and technologies, such as 5G technology, we must phase out outdated and unprofitable \\ntechnologies and services. If we are unable to do so on a cost-effective basis, we could experience reduced profits. In addition, \\nthere could be legal or regulatory restraints on our ability to phase out current services. \\nAdverse conditions in the U.S. and international economies could impact our results of operations and \\nfinancial condition. \\nUnfavorable economic conditions, such as a recession or economic slowdown in the U.S. or elsewhere, or inflation in the \\nmarkets in which we operate, could negatively affect the affordability of and demand for some of our products and services and \\nour cost of doing business. In difficult economic conditions, consumers may seek to reduce discretionary spending by forgoing \\npurchases of our products, electing to use fewer higher margin services, dropping down in price plans or obtaining lower-cost \\nproducts and services offered by other companies. Similarly, under these conditions, the business customers that we serve may \\ndelay purchasing decisions, delay full implementation of service offerings or reduce their use of services. In addition, adverse \\neconomic conditions may lead to an increased number of our consumer and business customers that are unable to pay for'"
      ]
     },
     "execution_count": 7,
     "metadata": {},
     "output_type": "execute_result"
    }
   ],
   "source": [
    "docs_ss[2].page_content"
   ]
  },
  {
   "cell_type": "markdown",
   "metadata": {},
   "source": [
    "Note the difference in results with `MMR`."
   ]
  },
  {
   "cell_type": "code",
   "execution_count": 8,
   "metadata": {},
   "outputs": [],
   "source": [
    "docs_mmr = vectordb.max_marginal_relevance_search(question,k=3)"
   ]
  },
  {
   "cell_type": "code",
   "execution_count": 9,
   "metadata": {},
   "outputs": [
    {
     "data": {
      "text/plain": [
       "'markets, or achieve the return on capital we expect from our investments in these markets.\\nChanges in economic conditions can adversely impact our business.\\nMany of the jurisdictions in which our products are sold have experienced and could continue to experience uncertain or\\nunfavorable economic conditions, such as recessions or economic slowdowns,\\n16'"
      ]
     },
     "execution_count": 9,
     "metadata": {},
     "output_type": "execute_result"
    }
   ],
   "source": [
    "docs_mmr[0].page_content"
   ]
  },
  {
   "cell_type": "code",
   "execution_count": 10,
   "metadata": {},
   "outputs": [
    {
     "data": {
      "text/plain": [
       "'the U.S. are altering consumer preferences, and causing certain consumers to become more price conscious. We expect the \\ninflationary environment and the resulting pressures to continue in 2023. For a discussion of the risks relating to unfavorable \\neconomic conditions and inflation to our business, refer to Item 1A Risk Factors. \\n2023 Connection Trends \\nIn our Consumer segment, we expect to continue to attract new customers and maintain high-quality retail postpaid customers, \\ncapitalizing on demand for data services and providing our customers new ways of using wireless services in their daily lives. We \\nexpect that future connection growth will be driven by FWA, as well as smartphones, tablets and other connected devices such \\nas wearables. We believe the combination of our wireless network performance and service offerings provides a superior \\nVerizon 2022 Annual Report on Form 10-K                                36'"
      ]
     },
     "execution_count": 10,
     "metadata": {},
     "output_type": "execute_result"
    }
   ],
   "source": [
    "docs_mmr[1].page_content"
   ]
  },
  {
   "cell_type": "markdown",
   "metadata": {},
   "source": [
    "### Addressing Specificity: working with metadata\n",
    "\n",
    "To address this, many vectorstores support operations on `metadata`.\n",
    "\n",
    "`metadata` provides context for each embedded chunk."
   ]
  },
  {
   "cell_type": "code",
   "execution_count": 12,
   "metadata": {},
   "outputs": [],
   "source": [
    "question = \"what did they say about reveneu in the the Netflix 10-k report?\""
   ]
  },
  {
   "cell_type": "code",
   "execution_count": 13,
   "metadata": {},
   "outputs": [],
   "source": [
    "docs = vectordb.similarity_search(\n",
    "    question,\n",
    "    k=3,\n",
    "    filter={\"source\":\"../../data/financebench/NETFLIX_2017_10K.pdf\"}\n",
    ")"
   ]
  },
  {
   "cell_type": "code",
   "execution_count": 14,
   "metadata": {},
   "outputs": [
    {
     "name": "stdout",
     "output_type": "stream",
     "text": [
      "{'source': '../../data/financebench/NETFLIX_2017_10K.pdf', 'page': 69, 'start_index': 1391}\n",
      "{'source': '../../data/financebench/NETFLIX_2017_10K.pdf', 'page': 2, 'start_index': 1362}\n",
      "{'source': '../../data/financebench/NETFLIX_2017_10K.pdf', 'page': 40, 'start_index': 0}\n"
     ]
    }
   ],
   "source": [
    "for d in docs:\n",
    "    print(d.metadata)"
   ]
  },
  {
   "cell_type": "markdown",
   "metadata": {},
   "source": [
    "### Addressing Specificity: working with metadata using self-query retriever\n",
    "\n",
    "But we have an interesting challenge: we often want to infer the metadata from the query itself.\n",
    "\n",
    "To address this, we can use `SelfQueryRetriever`, which uses an LLM to extract:\n",
    " \n",
    "1. The `query` string to use for vector search\n",
    "2. A metadata filter to pass in as well\n",
    "\n",
    "Most vector databases support metadata filters, so this doesn't require any new databases or indexes."
   ]
  },
  {
   "cell_type": "code",
   "execution_count": 15,
   "metadata": {},
   "outputs": [],
   "source": [
    "from langchain.retrievers.self_query.base import SelfQueryRetriever\n",
    "from langchain.chains.query_constructor.base import AttributeInfo"
   ]
  },
  {
   "cell_type": "code",
   "execution_count": 40,
   "metadata": {},
   "outputs": [],
   "source": [
    "metadata_field_info = [\n",
    "    AttributeInfo(\n",
    "        name=\"source\",\n",
    "        description=\"The file the chunk is from, should be of 'PFIZER_2021_10K.pdf.pdf'\",\n",
    "        type=\"string\",\n",
    "    ),\n",
    "    AttributeInfo(\n",
    "        name=\"page\",\n",
    "        description=\"The page from the lecture\",\n",
    "        type=\"integer\",\n",
    "    ),\n",
    "]"
   ]
  },
  {
   "cell_type": "code",
   "execution_count": 42,
   "metadata": {},
   "outputs": [],
   "source": [
    "from langchain.chat_models import AzureChatOpenAI\n",
    "document_content_description = \"10-K fillings\"\n",
    "llm = AzureChatOpenAI(model_name=\"gtp35turbo-latest\")\n",
    "retriever = SelfQueryRetriever.from_llm(\n",
    "    llm,     \n",
    "    vectordb,\n",
    "    document_content_description,\n",
    "    metadata_field_info,\n",
    "    verbose=True\n",
    ")"
   ]
  },
  {
   "cell_type": "code",
   "execution_count": 43,
   "metadata": {},
   "outputs": [],
   "source": [
    "question = \"what did they say about revenue in the the report?\""
   ]
  },
  {
   "cell_type": "code",
   "execution_count": 44,
   "metadata": {},
   "outputs": [],
   "source": [
    "docs = retriever.get_relevant_documents(question)"
   ]
  },
  {
   "cell_type": "code",
   "execution_count": 45,
   "metadata": {},
   "outputs": [
    {
     "data": {
      "text/plain": [
       "{'source': '../../data/financebench/VERIZON_2022_10K.pdf',\n",
       " 'page': 66,\n",
       " 'start_index': 1325}"
      ]
     },
     "execution_count": 45,
     "metadata": {},
     "output_type": "execute_result"
    }
   ],
   "source": [
    "docs[0].metadata"
   ]
  },
  {
   "cell_type": "code",
   "execution_count": 47,
   "metadata": {},
   "outputs": [
    {
     "name": "stdout",
     "output_type": "stream",
     "text": [
      "{'source': '../../data/financebench/VERIZON_2022_10K.pdf', 'page': 66, 'start_index': 1325}\n",
      "{'source': '../../data/financebench/VERIZON_2022_10K.pdf', 'page': 60, 'start_index': 5001}\n",
      "{'source': '../../data/financebench/VERIZON_2022_10K.pdf', 'page': 58, 'start_index': 4635}\n",
      "{'source': '../../data/financebench/PFIZER_2021_10K.pdf', 'page': 39, 'start_index': 2644}\n"
     ]
    }
   ],
   "source": [
    "for d in docs:\n",
    "    print(d.metadata)"
   ]
  },
  {
   "cell_type": "markdown",
   "metadata": {},
   "source": [
    "### Additional tricks: compression\n",
    "\n",
    "Another approach for improving the quality of retrieved docs is compression.\n",
    "\n",
    "Information most relevant to a query may be buried in a document with a lot of irrelevant text. \n",
    "\n",
    "Passing that full document through your application can lead to more expensive LLM calls and poorer responses.\n",
    "\n",
    "Contextual compression is meant to fix this. "
   ]
  },
  {
   "cell_type": "code",
   "execution_count": 33,
   "metadata": {},
   "outputs": [],
   "source": [
    "from langchain.retrievers import ContextualCompressionRetriever\n",
    "from langchain.retrievers.document_compressors import LLMChainExtractor"
   ]
  },
  {
   "cell_type": "code",
   "execution_count": 34,
   "metadata": {},
   "outputs": [],
   "source": [
    "def pretty_print_docs(docs):\n",
    "    print(f\"\\n{'-' * 100}\\n\".join([f\"Document {i+1}:\\n\\n\" + d.page_content for i, d in enumerate(docs)]))\n"
   ]
  },
  {
   "cell_type": "code",
   "execution_count": 35,
   "metadata": {},
   "outputs": [],
   "source": [
    "compressor = LLMChainExtractor.from_llm(llm)"
   ]
  },
  {
   "cell_type": "code",
   "execution_count": 36,
   "metadata": {},
   "outputs": [],
   "source": [
    "compression_retriever = ContextualCompressionRetriever(\n",
    "    base_compressor=compressor,\n",
    "    base_retriever=vectordb.as_retriever()\n",
    ")"
   ]
  },
  {
   "cell_type": "code",
   "execution_count": 37,
   "metadata": {},
   "outputs": [
    {
     "name": "stderr",
     "output_type": "stream",
     "text": [
      "/home/sebacastillo/.genai0/lib/python3.9/site-packages/langchain/chains/llm.py:316: UserWarning: The predict_and_parse method is deprecated, instead pass an output parser directly to LLMChain.\n",
      "  warnings.warn(\n",
      "/home/sebacastillo/.genai0/lib/python3.9/site-packages/langchain/chains/llm.py:316: UserWarning: The predict_and_parse method is deprecated, instead pass an output parser directly to LLMChain.\n",
      "  warnings.warn(\n",
      "/home/sebacastillo/.genai0/lib/python3.9/site-packages/langchain/chains/llm.py:316: UserWarning: The predict_and_parse method is deprecated, instead pass an output parser directly to LLMChain.\n",
      "  warnings.warn(\n",
      "/home/sebacastillo/.genai0/lib/python3.9/site-packages/langchain/chains/llm.py:316: UserWarning: The predict_and_parse method is deprecated, instead pass an output parser directly to LLMChain.\n",
      "  warnings.warn(\n"
     ]
    },
    {
     "name": "stdout",
     "output_type": "stream",
     "text": [
      "Document 1:\n",
      "\n",
      "In 2022, as a result of the inflationary environment in the U.S., we experienced increases in our direct costs, including electricity and other energy-related costs for our network operations, and transportation and labor costs, as well as increased interest expenses related to rising interest rates. We believe that this inflationary environment and the resulting decline in real wages in the U.S. are altering consumer preferences and causing consumers to become more price conscious. These factors, along with impacts of the intense competition in our industries, resulted in increased costs and lower earnings per share during 2022, and caused us to lower our growth expectations and related financial guidance. We expect the inflationary environment and these other pressures to continue into 2023.\n",
      "----------------------------------------------------------------------------------------------------\n",
      "Document 2:\n",
      "\n",
      "The costs of raw materials, packaging materials, labor, energy, fuel, transportation and other inputs necessary for the production and distribution of our products have rapidly increased. We expect the inflationary pressures on input and other costs to continue to impact our business in 2022.\n",
      "----------------------------------------------------------------------------------------------------\n",
      "Document 3:\n",
      "\n",
      "the inflationary environment and the resulting pressures to continue in 2023.\n"
     ]
    }
   ],
   "source": [
    "question = \"what did they say about inflation?\"\n",
    "compressed_docs = compression_retriever.get_relevant_documents(question)\n",
    "pretty_print_docs(compressed_docs)"
   ]
  },
  {
   "cell_type": "markdown",
   "metadata": {},
   "source": [
    "## Combining various techniques"
   ]
  },
  {
   "cell_type": "code",
   "execution_count": 38,
   "metadata": {},
   "outputs": [],
   "source": [
    "compression_retriever = ContextualCompressionRetriever(\n",
    "    base_compressor=compressor,\n",
    "    base_retriever=vectordb.as_retriever(search_type = \"mmr\")\n",
    ")"
   ]
  },
  {
   "cell_type": "code",
   "execution_count": 39,
   "metadata": {},
   "outputs": [
    {
     "name": "stderr",
     "output_type": "stream",
     "text": [
      "/home/sebacastillo/.genai0/lib/python3.9/site-packages/langchain/chains/llm.py:316: UserWarning: The predict_and_parse method is deprecated, instead pass an output parser directly to LLMChain.\n",
      "  warnings.warn(\n",
      "/home/sebacastillo/.genai0/lib/python3.9/site-packages/langchain/chains/llm.py:316: UserWarning: The predict_and_parse method is deprecated, instead pass an output parser directly to LLMChain.\n",
      "  warnings.warn(\n",
      "/home/sebacastillo/.genai0/lib/python3.9/site-packages/langchain/chains/llm.py:316: UserWarning: The predict_and_parse method is deprecated, instead pass an output parser directly to LLMChain.\n",
      "  warnings.warn(\n",
      "/home/sebacastillo/.genai0/lib/python3.9/site-packages/langchain/chains/llm.py:316: UserWarning: The predict_and_parse method is deprecated, instead pass an output parser directly to LLMChain.\n",
      "  warnings.warn(\n"
     ]
    },
    {
     "name": "stdout",
     "output_type": "stream",
     "text": [
      "Document 1:\n",
      "\n",
      "In 2022, as a result of the inflationary environment in the U.S., we experienced increases in our direct costs, including electricity and other energy-related costs for our network operations, and transportation and labor costs, as well as increased interest expenses related to rising interest rates. We believe that this inflationary environment and the resulting decline in real wages in the U.S. are altering consumer preferences and causing consumers to become more price conscious. These factors, along with impacts of the intense competition in our industries, resulted in increased costs and lower earnings per share during 2022, and caused us to lower our growth expectations and related financial guidance. We expect the inflationary environment and these other pressures to continue into 2023.\n",
      "----------------------------------------------------------------------------------------------------\n",
      "Document 2:\n",
      "\n",
      "The following levels of inflation protection may be provided to any Participant who is entitled to a Pre-409A Retirement Pension (except to the extent such Pre-409A Pension is paid as a lump sum).\n",
      "\n",
      "(1) 5 Percent Inflation Protection : A Participant’ s monthly benefit shall be initially reduced, but thereafter shall be increased if inflation in the prior year exceeds 5 percent. The amount of the increase shall be the difference between inflation in the prior year and 5 percent.\n",
      "\n",
      "(2) 7 Percent Inflation Protection : A Participant’ s monthly benefit shall be initially reduced, but thereafter shall be increased if inflation in the prior year exceeds 7 percent. The amount of the increase shall be the difference between inflation in the prior year and 7 percent.\n",
      "\n",
      "Benefits shall be subject to increase in accordance with this subsection each January 1, beginning with the second January 1 following the Participant’ s Annuity Starting Date. The amount of inflation in the prior year shall be determined based on inflation in the 12-month period ending on September 30 of such year, with inflation measured in the same manner as applies on the Effective Date for adjusting Social Security benefits for changes in the cost of living.\n",
      "----------------------------------------------------------------------------------------------------\n",
      "Document 3:\n",
      "\n",
      "The consequences of these developments cannot be entirely predicted but could include an increase in the cost of our floating rate \n",
      "debt or exposure under our interest rate derivative transactions. We do not anticipate a significant impact to our financial position \n",
      "given our current mix of variable and fixed-rate debt and taking into account the impact of our interest rate hedging.\n"
     ]
    }
   ],
   "source": [
    "question = \"what did they say about inflation?\"\n",
    "compressed_docs = compression_retriever.get_relevant_documents(question)\n",
    "pretty_print_docs(compressed_docs)"
   ]
  }
 ],
 "metadata": {
  "kernelspec": {
   "display_name": ".genai0",
   "language": "python",
   "name": "python3"
  },
  "language_info": {
   "codemirror_mode": {
    "name": "ipython",
    "version": 3
   },
   "file_extension": ".py",
   "mimetype": "text/x-python",
   "name": "python",
   "nbconvert_exporter": "python",
   "pygments_lexer": "ipython3",
   "version": "3.9.13"
  }
 },
 "nbformat": 4,
 "nbformat_minor": 2
}
