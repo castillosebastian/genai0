{
 "cells": [
  {
   "cell_type": "markdown",
   "metadata": {},
   "source": []
  },
  {
   "cell_type": "markdown",
   "metadata": {},
   "source": [
    "# Dataset FinanceBench"
   ]
  },
  {
   "cell_type": "code",
   "execution_count": null,
   "metadata": {},
   "outputs": [],
   "source": [
    "# !pip install qdrant-client"
   ]
  },
  {
   "cell_type": "code",
   "execution_count": 1,
   "metadata": {},
   "outputs": [],
   "source": [
    "import pandas as pd\n",
    "import os\n",
    "import requests\n",
    "from datasets import load_dataset\n",
    "from datasets import DatasetDict\n",
    "from langchain.document_loaders import PyPDFLoader\n",
    "from langchain.document_loaders import DirectoryLoader\n",
    "import time\n",
    "\n",
    "import sentence_transformers\n",
    "from langchain.text_splitter import CharacterTextSplitter\n",
    "from langchain.text_splitter import RecursiveCharacterTextSplitter\n",
    "from langchain.vectorstores import Qdrant\n",
    "from langchain.vectorstores import Chroma\n",
    "from dotenv import load_dotenv\n",
    "load_dotenv()\n",
    "\n",
    "# Load OpenAI access\n",
    "import sys\n",
    "sys.path.append(os.path.abspath('../../src'))\n",
    "from azure_openai_conn import OpenAIembeddings"
   ]
  },
  {
   "cell_type": "code",
   "execution_count": 2,
   "metadata": {},
   "outputs": [],
   "source": [
    "# Turn huggingface dataset to pd\n",
    "# images = fashion[\"image\"]\n",
    "# data = fashion.remove_columns(\"image\")\n",
    "# product_df = data.to_pandas()\n",
    "# product_data = product_df.reset_index(drop=True).to_dict(orient=\"index\")\n",
    "\n",
    "if os.path.isfile('../../data/financebench_sample_150.csv'):\n",
    "    df = pd.read_csv('../../data/financebench_sample_150.csv')\n",
    "else:    \n",
    "    ds = load_dataset(\"PatronusAI/financebench\")\n",
    "    df = pd.DataFrame(ds)\n",
    "    all_dicts = []\n",
    "    for index, row in df.iterrows():    \n",
    "        dictionary = row['train']    \n",
    "        all_dicts.append(dictionary)\n",
    "    df = pd.DataFrame(all_dicts)"
   ]
  },
  {
   "cell_type": "code",
   "execution_count": 3,
   "metadata": {},
   "outputs": [],
   "source": [
    "\n",
    "destination_folder = '../../data/financebench'\n",
    "\n",
    "if not os.path.exists(destination_folder):\n",
    "\n",
    "    os.makedirs(destination_folder)\n",
    "\n",
    "    for index, row in df.iterrows():\n",
    "        url = row['doc_link']\n",
    "        doc_name = row['doc_name']\n",
    "        doc_name_with_extension = doc_name + '.pdf'        \n",
    "        file_path = os.path.join(destination_folder, doc_name_with_extension)\n",
    "        response = requests.get(url)\n",
    "        if response.status_code == 200:            \n",
    "            with open(file_path, 'wb') as file:\n",
    "                file.write(response.content)\n",
    "            print(f\"Downloaded: {doc_name_with_extension}\")\n",
    "        else:\n",
    "            print(f\"Failed to download: {doc_name_with_extension} ({url})\")\n"
   ]
  },
  {
   "cell_type": "code",
   "execution_count": 5,
   "metadata": {},
   "outputs": [
    {
     "name": "stdout",
     "output_type": "stream",
     "text": [
      "COCACOLA_2021_10K.pdf\n"
     ]
    }
   ],
   "source": [
    "pdf_folder_path = destination_folder\n",
    "documents = []\n",
    "for file in os.listdir(pdf_folder_path)[:1]:\n",
    "    print(file)\n",
    "    if file.endswith('.pdf'):\n",
    "        pdf_path = os.path.join(pdf_folder_path, file)\n",
    "        loader = PyPDFLoader(pdf_path)\n",
    "        documents.extend(loader.load())"
   ]
  },
  {
   "cell_type": "code",
   "execution_count": 6,
   "metadata": {},
   "outputs": [
    {
     "data": {
      "text/plain": [
       "183"
      ]
     },
     "execution_count": 6,
     "metadata": {},
     "output_type": "execute_result"
    }
   ],
   "source": [
    "len(documents)"
   ]
  },
  {
   "cell_type": "code",
   "execution_count": 7,
   "metadata": {},
   "outputs": [],
   "source": [
    "embeddings = OpenAIembeddings()\n",
    "text_splitter = RecursiveCharacterTextSplitter(chunk_size=1500, chunk_overlap=100, add_start_index=True)\n",
    "chunked_documents = text_splitter.split_documents(documents)"
   ]
  },
  {
   "cell_type": "code",
   "execution_count": 7,
   "metadata": {},
   "outputs": [],
   "source": [
    "# Initialize chroma database\n",
    "chroma = Chroma.from_documents(documents=chunked_documents, embedding=embeddings, persist_directory='chroma')"
   ]
  },
  {
   "cell_type": "code",
   "execution_count": 8,
   "metadata": {},
   "outputs": [
    {
     "name": "stdout",
     "output_type": "stream",
     "text": [
      "THE COCA-COLA COMPANY AND SUBSIDIARIES\n",
      "CONSOLIDATED BALANCE SHEETS\n",
      "(In millions except par value)\n",
      "December 31, 2021 2020\n",
      "ASSETS\n",
      "Current Assets   \n",
      "Cash and cash equivalents $ 9,684 $ 6,795 \n",
      "Short-term investments 1,242 1,771 \n",
      "Total Cash, Cash Equivalents and Short-Term Investments 10,926 8,566 \n",
      "Marketable securities 1,699 2,348 \n",
      "Trade accounts receivable, less allowances of $516 and $526, respectively 3,512 3,144 \n",
      "Inventories 3,414 3,266 \n",
      "Prepaid expenses and other current assets 2,994 1,916 \n",
      "Total Current Assets 22,545 19,240 \n",
      "Equity method investments 17,598 19,273 \n",
      "Other investments 818 812 \n",
      "Other noncurrent assets 6,731 6,184 \n",
      "Deferred income tax assets 2,129 2,460 \n",
      "Property, plant and equipment — net 9,920 10,777 \n",
      "Trademarks with indefinite lives 14,465 10,395 \n",
      "Goodwill 19,363 17,506 \n",
      "Other intangible assets 785 649 \n",
      "Total Assets $ 94,354 $ 87,296 \n",
      "LIABILITIES AND EQUITY\n",
      "Current Liabilities   \n",
      "Accounts payable and accrued expenses $ 14,619 $ 11,145 \n",
      "Loans and notes payable 3,307 2,183 \n",
      "Current maturities of long-term debt 1,338 485 \n",
      "Accrued income taxes 686 788 \n",
      "Total Current Liabilities 19,950 14,601 \n",
      "Long-term debt 38,116 40,125 \n",
      "Other noncurrent liabilities 8,607 9,453 \n",
      "Deferred income tax liabilities 2,821 1,833 \n",
      "The Coca-Cola Company Shareowners’ Equity   \n",
      "Common stock, $0.25 par value; authorized — 11,200 shares; issued — 7,040 shares 1,760 1,760 \n",
      "Capital surplus 18,116 17,601 \n",
      "Reinvested earnings 69,094 66,555\n"
     ]
    }
   ],
   "source": [
    "# query it\n",
    "query = \"What is the Coca Cola Balance Sheet?\"\n",
    "docs = chroma.similarity_search(query)\n",
    "\n",
    "# print results\n",
    "print(docs[0].page_content)"
   ]
  },
  {
   "cell_type": "code",
   "execution_count": 9,
   "metadata": {},
   "outputs": [
    {
     "name": "stdout",
     "output_type": "stream",
     "text": [
      "(0, Document(page_content='THE COCA-COLA COMPANY AND SUBSIDIARIES\\nCONSOLIDATED BALANCE SHEETS\\n(In millions except par value)\\nDecember 31, 2021 2020\\nASSETS\\nCurrent Assets   \\nCash and cash equivalents $ 9,684 $ 6,795 \\nShort-term investments 1,242 1,771 \\nTotal Cash, Cash Equivalents and Short-Term Investments 10,926 8,566 \\nMarketable securities 1,699 2,348 \\nTrade accounts receivable, less allowances of $516 and $526, respectively 3,512 3,144 \\nInventories 3,414 3,266 \\nPrepaid expenses and other current assets 2,994 1,916 \\nTotal Current Assets 22,545 19,240 \\nEquity method investments 17,598 19,273 \\nOther investments 818 812 \\nOther noncurrent assets 6,731 6,184 \\nDeferred income tax assets 2,129 2,460 \\nProperty, plant and equipment — net 9,920 10,777 \\nTrademarks with indefinite lives 14,465 10,395 \\nGoodwill 19,363 17,506 \\nOther intangible assets 785 649 \\nTotal Assets $ 94,354 $ 87,296 \\nLIABILITIES AND EQUITY\\nCurrent Liabilities   \\nAccounts payable and accrued expenses $ 14,619 $ 11,145 \\nLoans and notes payable 3,307 2,183 \\nCurrent maturities of long-term debt 1,338 485 \\nAccrued income taxes 686 788 \\nTotal Current Liabilities 19,950 14,601 \\nLong-term debt 38,116 40,125 \\nOther noncurrent liabilities 8,607 9,453 \\nDeferred income tax liabilities 2,821 1,833 \\nThe Coca-Cola Company Shareowners’ Equity   \\nCommon stock, $0.25 par value; authorized — 11,200 shares; issued — 7,040 shares 1,760 1,760 \\nCapital surplus 18,116 17,601 \\nReinvested earnings 69,094 66,555', metadata={'page': 63, 'source': '../../data/financebench/COCACOLA_2021_10K.pdf', 'start_index': 0}))\n",
      "(1, Document(page_content='Capital surplus 18,116 17,601 \\nReinvested earnings 69,094 66,555 \\nAccumulated other comprehensive income (loss) (14,330) (14,601)\\nTreasury stock, at cost — 2,715 and 2,738 shares, respectively (51,641) (52,016)\\nEquity Attributable to Shareowners of The Coca-Cola Company 22,999 19,299 \\nEquity attributable to noncontrolling interests 1,861 1,985 \\nTotal Equity 24,860 21,284 \\nTotal Liabilities and Equity $ 94,354 $ 87,296 \\nRefer to Notes to Consolidated Financial Statements.\\n62', metadata={'page': 63, 'source': '../../data/financebench/COCACOLA_2021_10K.pdf', 'start_index': 1380}))\n",
      "(2, Document(page_content='Report of Independent Register ed Public Accounting Firm\\nBoard of Dir ectors and Shar eowners\\nThe Coca-Cola Company\\n    \\nOpinion on the Financial Statements\\nWe have audited the accompanying consolidated balance sheets of The Coca-Cola Company and subsidiaries (the Company) as of December 31, 2021 and 2020, the related consolidated\\nstatements of income, comprehensive income, shareo wners’  equity and cash flows for each of the three years in the period ended December 31, 2021, and the related notes (collectively referred to\\nas the “conso lidated financial statements”). In our opinion, the consolidated financial statements present fairly , in all material respects, the financial position of the Company as of December 31,\\n2021 and 2020, and the results of its operations and its cash flows for each of the three years in the period ended December 31, 2021, in conformity with U.S. generally accepted accounting\\nprinciples.\\nWe also have audited, in accordance with the standards of the Public Company Accounting Oversight Board (United States) (PCAOB), the Company’ s internal control over financial reporting as\\nof December 31, 2021, based on criteria establishe d in Internal Control-Integrated Framework issued by the Committee of Sponsoring Organizations of the Treadway Commission (2013\\nframework) and our report dated February 22, 2022 expressed an unqualified opinion thereon.\\nBasis for  Opinion', metadata={'page': 127, 'source': '../../data/financebench/COCACOLA_2021_10K.pdf', 'start_index': 0}))\n",
      "(3, Document(page_content='THE COCA-COLA COMPANY AND SUBSIDIARIES\\nNOTES TO CONSOLIDATED FINANCIAL STATEMENTS\\nNOTE 1: BUSINESS AND SUMMARY OF SIGNIFICANT ACCOUNTING POLICIES\\nWhen used in these notes, the terms “The Coca-Cola Company,” “Company,” “we,” “us” and “our” mean The Coca-Cola Company and all entities included in our consolidated\\nfinancial statements.\\nDescription of Business\\nThe Coca-Cola Company is a total beverage company. We own or license and market numerous beverage brands, which we group into the following categories: Trademark\\nCoca-Cola; sparkling flavors; hydration, sports, coffee and tea; nutrition, juice, dairy and plant-based beverages; and emerging beverages. We own and market five of the\\nworld’s top six nonalcoholic sparkling soft drink brands: Coca-Cola, Sprite, Fanta, Diet Coke and Coca-Cola Zero Sugar. Finished beverage products bearing our trademarks,\\nsold in the United States since 1886, are now sold in more than 200 countries and territories.\\nWe make our branded beverage products available to consumers throughout the world through our network of independent bottling partners, distributors, wholesalers and\\nretailers as well as the Company’s consolidated bottling and distribution operations. Beverages bearing trademarks owned by or licensed to us account for 2.1 billion of the\\napproximately 63 billion servings of all beverages consumed worldwide every day.\\nSummary of Significant Accounting Policies\\nBasis of Presentation', metadata={'page': 66, 'source': '../../data/financebench/COCACOLA_2021_10K.pdf', 'start_index': 0}))\n"
     ]
    }
   ],
   "source": [
    "for i in enumerate(docs):\n",
    "    print(i)"
   ]
  },
  {
   "cell_type": "markdown",
   "metadata": {},
   "source": [
    "# Mini Corpus of 5 Documents"
   ]
  },
  {
   "cell_type": "code",
   "execution_count": 8,
   "metadata": {},
   "outputs": [],
   "source": [
    "destination_folder = '../../data/financebench'"
   ]
  },
  {
   "cell_type": "code",
   "execution_count": 9,
   "metadata": {},
   "outputs": [
    {
     "name": "stdout",
     "output_type": "stream",
     "text": [
      "COCACOLA_2021_10K.pdf\n",
      "PFIZER_2021_10K.pdf\n",
      "VERIZON_2022_10K.pdf\n",
      "PEPSICO_2021_10K.pdf\n",
      "NETFLIX_2017_10K.pdf\n"
     ]
    }
   ],
   "source": [
    "pdf_folder_path = destination_folder\n",
    "documents = []\n",
    "for file in os.listdir(pdf_folder_path)[:5]:\n",
    "    print(file)\n",
    "    if file.endswith('.pdf'):\n",
    "        pdf_path = os.path.join(pdf_folder_path, file)\n",
    "        loader = PyPDFLoader(pdf_path)\n",
    "        documents.extend(loader.load())"
   ]
  },
  {
   "cell_type": "code",
   "execution_count": 10,
   "metadata": {},
   "outputs": [],
   "source": [
    "save_document_object = False\n",
    "\n",
    "if save_document_object:\n",
    "    from  langchain.schema import Document\n",
    "    import json\n",
    "    from typing import Iterable\n",
    "\n",
    "    def save_docs_to_jsonl(array:Iterable[Document], file_path:str)->None:\n",
    "        with open(file_path, 'w') as jsonl_file:\n",
    "            for doc in array:\n",
    "                jsonl_file.write(doc.json() + '\\n')\n",
    "\n",
    "    def load_docs_from_jsonl(file_path)->Iterable[Document]:\n",
    "        array = []\n",
    "        with open(file_path, 'r') as jsonl_file:\n",
    "            for line in jsonl_file:\n",
    "                data = json.loads(line)\n",
    "                obj = Document(**data)\n",
    "                array.append(obj)\n",
    "        return array\n",
    "        \n",
    "    save_docs_to_jsonl(documents,'data.json')\n",
    "    docs2=load_docs_from_jsonl('data.json')\n",
    "    print(len(docs2))"
   ]
  },
  {
   "cell_type": "code",
   "execution_count": 11,
   "metadata": {},
   "outputs": [
    {
     "data": {
      "text/plain": [
       "1072"
      ]
     },
     "execution_count": 11,
     "metadata": {},
     "output_type": "execute_result"
    }
   ],
   "source": [
    "len(documents)"
   ]
  },
  {
   "cell_type": "code",
   "execution_count": 12,
   "metadata": {},
   "outputs": [],
   "source": [
    "chunk_size=1500\n",
    "overlap=100\n",
    "\n",
    "chunked_documents = text_splitter.split_documents(documents)\n",
    "\n",
    "# Initialize chroma database\n",
    "chroma = Chroma.from_documents(documents=chunked_documents, embedding=embeddings, persist_directory='db_chroma')"
   ]
  },
  {
   "cell_type": "code",
   "execution_count": 13,
   "metadata": {},
   "outputs": [
    {
     "name": "stdout",
     "output_type": "stream",
     "text": [
      "Revenue by Category \n",
      "We have two reportable segments that we operate and manage as strategic business units, Consumer and Business. Revenue is disaggregated by products and services within Consumer, and customer groups (Small and Medium Business, Global Enterprise, Public Sector and Other, and Wholesale) within Business. See Note 13 for additional information on revenue by segment. Corporate and other primarily includes insurance captive revenues as well as the historical results of divested businesses, including Verizon Media. \n",
      "We also earn revenues that are not accounted for under Topic 606 from leasing arrangements (such as those for towers and equipment), captive reinsurance arrangements primarily related to wireless device insurance and the interest on equipment financed under a device payment plan agreement when sold to the customer by an authorized agent. As allowed by the practical expedient within Topic 842, we have elected to combine the lease and non-lease components for those arrangements of customer premise equipment where we are the lessor as components accounted for under Topic 606. Revenues from arrangements that were not accounted for under Topic 606 were approximately $3.2 billion, $3.1 billion and $2.9 billion for the years ended December 31, 2022, 2021 and 2020, respectively. \n",
      "Remaining Performance Obligations\n"
     ]
    }
   ],
   "source": [
    "query = \"What is the revenue of the company?\"\n",
    "docs = chroma.similarity_search(query)\n",
    "print(docs[0].page_content)"
   ]
  },
  {
   "cell_type": "markdown",
   "metadata": {},
   "source": [
    "# Reload Chroma"
   ]
  },
  {
   "cell_type": "code",
   "execution_count": 14,
   "metadata": {},
   "outputs": [
    {
     "name": "stdout",
     "output_type": "stream",
     "text": [
      "Revenue by Category \n",
      "We have two reportable segments that we operate and manage as strategic business units, Consumer and Business. Revenue is disaggregated by products and services within Consumer, and customer groups (Small and Medium Business, Global Enterprise, Public Sector and Other, and Wholesale) within Business. See Note 13 for additional information on revenue by segment. Corporate and other primarily includes insurance captive revenues as well as the historical results of divested businesses, including Verizon Media. \n",
      "We also earn revenues that are not accounted for under Topic 606 from leasing arrangements (such as those for towers and equipment), captive reinsurance arrangements primarily related to wireless device insurance and the interest on equipment financed under a device payment plan agreement when sold to the customer by an authorized agent. As allowed by the practical expedient within Topic 842, we have elected to combine the lease and non-lease components for those arrangements of customer premise equipment where we are the lessor as components accounted for under Topic 606. Revenues from arrangements that were not accounted for under Topic 606 were approximately $3.2 billion, $3.1 billion and $2.9 billion for the years ended December 31, 2022, 2021 and 2020, respectively. \n",
      "Remaining Performance Obligations\n"
     ]
    }
   ],
   "source": [
    "db3 = Chroma(persist_directory=\"db_chroma\", embedding_function=embeddings)\n",
    "docs = db3.similarity_search(query)\n",
    "print(docs[0].page_content)"
   ]
  }
 ],
 "metadata": {
  "kernelspec": {
   "display_name": ".genai0",
   "language": "python",
   "name": "python3"
  },
  "language_info": {
   "codemirror_mode": {
    "name": "ipython",
    "version": 3
   },
   "file_extension": ".py",
   "mimetype": "text/x-python",
   "name": "python",
   "nbconvert_exporter": "python",
   "pygments_lexer": "ipython3",
   "version": "3.9.13"
  }
 },
 "nbformat": 4,
 "nbformat_minor": 2
}
