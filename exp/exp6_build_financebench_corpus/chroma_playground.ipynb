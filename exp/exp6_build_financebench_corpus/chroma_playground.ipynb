{
 "cells": [
  {
   "cell_type": "markdown",
   "metadata": {},
   "source": [
    "# Chroma Playground "
   ]
  },
  {
   "cell_type": "markdown",
   "metadata": {},
   "source": [
    "This playground connect to Chroma Vector Data Base build wiht 5 documents:\n",
    "- [COCACOLA_2021_10K.pdf](../../data/financebench/COCACOLA_2021_10K.pdf)\n",
    "- [PFIZER_2021_10K.pdf](../../data/financebench/PFIZER_2021_10K.pdf)\n",
    "- [VERIZON_2022_10K.pdf](../../data/financebench/VERIZON_2022_10K.pdf)\n",
    "- [PEPSICO_2021_10K.pdf](../../data/financebench/PEPSICO_2022_10K.pdf)\n",
    "- [NETFLIX_2017_10K.pdf](../../data/financebench/NETFLIX_2017_10K.pdf)"
   ]
  },
  {
   "cell_type": "code",
   "execution_count": 1,
   "metadata": {},
   "outputs": [],
   "source": [
    "import pandas as pd\n",
    "import os\n",
    "from langchain.vectorstores import Chroma\n",
    "from langchain.chat_models import AzureChatOpenAI\n",
    "\n",
    "from dotenv import load_dotenv\n",
    "load_dotenv()\n",
    "import sys\n",
    "sys.path.append(os.path.abspath('../../src'))\n",
    "from azure_openai_conn import OpenAIembeddings, llm"
   ]
  },
  {
   "cell_type": "code",
   "execution_count": 2,
   "metadata": {},
   "outputs": [
    {
     "name": "stdout",
     "output_type": "stream",
     "text": [
      "THE COCA-COLA COMPANY AND SUBSIDIARIES\n",
      "CONSOLIDATED BALANCE SHEETS\n",
      "(In millions except par value)\n",
      "December 31, 2021 2020\n",
      "ASSETS\n",
      "Current Assets   \n",
      "Cash and cash equivalents $ 9,684 $ 6,795 \n",
      "Short-term investments 1,242 1,771 \n",
      "Total Cash, Cash Equivalents and Short-Term Investments 10,926 8,566 \n",
      "Marketable securities 1,699 2,348 \n",
      "Trade accounts receivable, less allowances of $516 and $526, respectively 3,512 3,144 \n",
      "Inventories 3,414 3,266 \n",
      "Prepaid expenses and other current assets 2,994 1,916 \n",
      "Total Current Assets 22,545 19,240 \n",
      "Equity method investments 17,598 19,273 \n",
      "Other investments 818 812 \n",
      "Other noncurrent assets 6,731 6,184 \n",
      "Deferred income tax assets 2,129 2,460 \n",
      "Property, plant and equipment — net 9,920 10,777 \n",
      "Trademarks with indefinite lives 14,465 10,395 \n",
      "Goodwill 19,363 17,506 \n",
      "Other intangible assets 785 649 \n",
      "Total Assets $ 94,354 $ 87,296 \n",
      "LIABILITIES AND EQUITY\n",
      "Current Liabilities   \n",
      "Accounts payable and accrued expenses $ 14,619 $ 11,145 \n",
      "Loans and notes payable 3,307 2,183 \n",
      "Current maturities of long-term debt 1,338 485 \n",
      "Accrued income taxes 686 788 \n",
      "Total Current Liabilities 19,950 14,601 \n",
      "Long-term debt 38,116 40,125 \n",
      "Other noncurrent liabilities 8,607 9,453 \n",
      "Deferred income tax liabilities 2,821 1,833 \n",
      "The Coca-Cola Company Shareowners’ Equity   \n",
      "Common stock, $0.25 par value; authorized — 11,200 shares; issued — 7,040 shares 1,760 1,760 \n",
      "Capital surplus 18,116 17,601 \n",
      "Reinvested earnings 69,094 66,555\n"
     ]
    }
   ],
   "source": [
    "embeddings = OpenAIembeddings()\n",
    "query = \"What is the Coca Cola Balance Sheet?\"\n",
    "vectordb = Chroma(persist_directory=\"db_chroma\", embedding_function=embeddings)\n",
    "docs = vectordb.similarity_search(query)\n",
    "print(docs[0].page_content)"
   ]
  },
  {
   "cell_type": "code",
   "execution_count": 3,
   "metadata": {},
   "outputs": [
    {
     "data": {
      "text/plain": [
       "{'page': 63,\n",
       " 'source': '../../data/financebench/COCACOLA_2021_10K.pdf',\n",
       " 'start_index': 0}"
      ]
     },
     "execution_count": 3,
     "metadata": {},
     "output_type": "execute_result"
    }
   ],
   "source": [
    "docs[0].metadata"
   ]
  },
  {
   "cell_type": "markdown",
   "metadata": {},
   "source": [
    "### Addressing Diversity: Maximum marginal relevance\n",
    "\n",
    "\n",
    "How to enforce diversity in the search results and avoid repetition.\n",
    " \n",
    "`Maximum marginal relevance` strives to achieve both relevance to the query *and diversity* among the results."
   ]
  },
  {
   "cell_type": "code",
   "execution_count": 4,
   "metadata": {},
   "outputs": [],
   "source": [
    "question = \"what these companies say about market conditions?\"\n",
    "docs_ss = vectordb.similarity_search(question,k=3)"
   ]
  },
  {
   "cell_type": "code",
   "execution_count": 20,
   "metadata": {},
   "outputs": [
    {
     "data": {
      "text/plain": [
       "'markets, or achieve the return on capital we expect from our investments in these markets.\\nChanges in economic conditions can adversely impact our business.\\nMany of the jurisdictions in which our products are sold have experienced and could continue to experience uncertain or\\nunfavorable economic conditions, such as recessions or economic slowdowns,\\n16'"
      ]
     },
     "execution_count": 20,
     "metadata": {},
     "output_type": "execute_result"
    }
   ],
   "source": [
    "docs_ss[0].page_content"
   ]
  },
  {
   "cell_type": "code",
   "execution_count": 21,
   "metadata": {},
   "outputs": [
    {
     "data": {
      "text/plain": [
       "'Table of Contents\\nbe unwilli ng or unable to increase our product prices or unable to effective ly hedge against price increases to offset these\\nincreased costs without suf fering reduced volume, revenue, mar gins and operating results.\\nPolitical and social conditions can adversely af fect our business.\\nPolitical and social conditions in the markets in which our products are sold have been and could continue to be difficult to\\npredict, resulting in adverse effects on our business. The results of elections, referendums or other political conditions (including\\ngovernment shutdow ns or hostilities between countries) in these markets have in the past and could continue to impact how\\nexisting laws, regulations and government programs or policies are implemen ted or result in uncertainty as to how such laws,\\nregulations, program s or policies may change, including with respect to tariffs, sanctions, environmental and climate change\\nregulations, taxes, benefit programs, the movement of goods, services and people between countries, relationships between\\ncountries, customer or consumer perception of a particular country or its gover nment and other matters, and has resulted in and\\ncould continue to result in exchange rate fluctuation, volatility in global stock markets and global economic uncertainty or\\nadversely affect demand for our produ cts, any of which can adversely affect our business. In addition, political and social'"
      ]
     },
     "execution_count": 21,
     "metadata": {},
     "output_type": "execute_result"
    }
   ],
   "source": [
    "docs_ss[1].page_content"
   ]
  },
  {
   "cell_type": "code",
   "execution_count": 22,
   "metadata": {},
   "outputs": [
    {
     "data": {
      "text/plain": [
       "'enhancements to our networks. \\nAs we introduce new offerings and technologies, such as 5G technology, we must phase out outdated and unprofitable \\ntechnologies and services. If we are unable to do so on a cost-effective basis, we could experience reduced profits. In addition, \\nthere could be legal or regulatory restraints on our ability to phase out current services. \\nAdverse conditions in the U.S. and international economies could impact our results of operations and \\nfinancial condition. \\nUnfavorable economic conditions, such as a recession or economic slowdown in the U.S. or elsewhere, or inflation in the \\nmarkets in which we operate, could negatively affect the affordability of and demand for some of our products and services and \\nour cost of doing business. In difficult economic conditions, consumers may seek to reduce discretionary spending by forgoing \\npurchases of our products, electing to use fewer higher margin services, dropping down in price plans or obtaining lower-cost \\nproducts and services offered by other companies. Similarly, under these conditions, the business customers that we serve may \\ndelay purchasing decisions, delay full implementation of service offerings or reduce their use of services. In addition, adverse \\neconomic conditions may lead to an increased number of our consumer and business customers that are unable to pay for'"
      ]
     },
     "execution_count": 22,
     "metadata": {},
     "output_type": "execute_result"
    }
   ],
   "source": [
    "docs_ss[2].page_content"
   ]
  },
  {
   "cell_type": "markdown",
   "metadata": {},
   "source": [
    "Note the difference in results with `MMR`."
   ]
  },
  {
   "cell_type": "code",
   "execution_count": 23,
   "metadata": {},
   "outputs": [],
   "source": [
    "docs_mmr = vectordb.max_marginal_relevance_search(question,k=3)"
   ]
  },
  {
   "cell_type": "code",
   "execution_count": 24,
   "metadata": {},
   "outputs": [
    {
     "data": {
      "text/plain": [
       "'markets, or achieve the return on capital we expect from our investments in these markets.\\nChanges in economic conditions can adversely impact our business.\\nMany of the jurisdictions in which our products are sold have experienced and could continue to experience uncertain or\\nunfavorable economic conditions, such as recessions or economic slowdowns,\\n16'"
      ]
     },
     "execution_count": 24,
     "metadata": {},
     "output_type": "execute_result"
    }
   ],
   "source": [
    "docs_mmr[0].page_content"
   ]
  },
  {
   "cell_type": "code",
   "execution_count": 25,
   "metadata": {},
   "outputs": [
    {
     "data": {
      "text/plain": [
       "'FORWARD-LOOKING STATEMENTS\\nThis report contains information that may constitute “forward-looking statements.” Generally, the words “believe,” “expect,” “intend,” “estimate,” “anticipate,” “project,”\\n“will” and similar expressions identify forward-looking statements, which generally are not historical in nature. However, the absence of these words or similar expressions\\ndoes not mean that a statement is not forward-looking. All statements that address operating performance, events or developments that we expect or anticipate will occur in the\\nfuture — including statements relating to volume growth, share of sales and earnings per share growth, and statements expressing general views about future operating\\nresults — are forward-looking statements. Management believes that these forward-looking statements are reasonable as and when made. However, caution should be taken not\\nto place undue reliance on any such forward-looking statements because such statements speak only as of the date when made. Our Company undertakes no obligation to\\npublicly update or revise any forward-looking statements, whether as a result of new information, future events or otherwise, except as required by law. In addition, forward-\\nlooking statements are subject to certain risks and uncertainties that could cause our Company’s actual results to differ materially from historical experience and our present'"
      ]
     },
     "execution_count": 25,
     "metadata": {},
     "output_type": "execute_result"
    }
   ],
   "source": [
    "docs_mmr[1].page_content"
   ]
  },
  {
   "cell_type": "markdown",
   "metadata": {},
   "source": [
    "### Addressing Specificity: working with metadata\n",
    "\n",
    "To address this, many vectorstores support operations on `metadata`.\n",
    "\n",
    "`metadata` provides context for each embedded chunk."
   ]
  },
  {
   "cell_type": "code",
   "execution_count": 26,
   "metadata": {},
   "outputs": [],
   "source": [
    "question = \"what did they say about reveneu in the the Coca Cola 10-k report?\""
   ]
  },
  {
   "cell_type": "code",
   "execution_count": 27,
   "metadata": {},
   "outputs": [],
   "source": [
    "docs = vectordb.similarity_search(\n",
    "    question,\n",
    "    k=3,\n",
    "    filter={\"source\":\"../../data/financebench/COCACOLA_2021_10K.pdf\"}\n",
    ")"
   ]
  },
  {
   "cell_type": "code",
   "execution_count": 28,
   "metadata": {},
   "outputs": [
    {
     "name": "stdout",
     "output_type": "stream",
     "text": [
      "{'page': 3, 'source': '../../data/financebench/COCACOLA_2021_10K.pdf', 'start_index': 1399}\n",
      "{'page': 127, 'source': '../../data/financebench/COCACOLA_2021_10K.pdf', 'start_index': 0}\n",
      "{'page': 137, 'source': '../../data/financebench/COCACOLA_2021_10K.pdf', 'start_index': 1372}\n"
     ]
    }
   ],
   "source": [
    "for d in docs:\n",
    "    print(d.metadata)"
   ]
  },
  {
   "cell_type": "markdown",
   "metadata": {},
   "source": [
    "### Addressing Specificity: working with metadata using self-query retriever\n",
    "\n",
    "But we have an interesting challenge: we often want to infer the metadata from the query itself.\n",
    "\n",
    "To address this, we can use `SelfQueryRetriever`, which uses an LLM to extract:\n",
    " \n",
    "1. The `query` string to use for vector search\n",
    "2. A metadata filter to pass in as well\n",
    "\n",
    "Most vector databases support metadata filters, so this doesn't require any new databases or indexes."
   ]
  },
  {
   "cell_type": "code",
   "execution_count": 5,
   "metadata": {},
   "outputs": [],
   "source": [
    "from langchain.retrievers.self_query.base import SelfQueryRetriever\n",
    "from langchain.chains.query_constructor.base import AttributeInfo"
   ]
  },
  {
   "cell_type": "code",
   "execution_count": 12,
   "metadata": {},
   "outputs": [],
   "source": [
    "metadata_field_info = [\n",
    "    AttributeInfo(\n",
    "        name=\"source\",\n",
    "        description=\"The file the chunk is from, should be of '../../data/financebench/NETFLIX_2017_10K.pdf'\",\n",
    "        type=\"string\",\n",
    "    ),\n",
    "    AttributeInfo(\n",
    "        name=\"page\",\n",
    "        description=\"The page from the lecture\",\n",
    "        type=\"integer\",\n",
    "    ),\n",
    "]"
   ]
  },
  {
   "cell_type": "code",
   "execution_count": 13,
   "metadata": {},
   "outputs": [],
   "source": [
    "document_content_description = \"10-K fillings\"\n",
    "llm = AzureChatOpenAI(model_name=\"gtp35turbo-latest\")\n",
    "retriever = SelfQueryRetriever.from_llm(\n",
    "    llm,     \n",
    "    vectordb,\n",
    "    document_content_description,\n",
    "    metadata_field_info,\n",
    "    verbose=True\n",
    ")"
   ]
  },
  {
   "cell_type": "code",
   "execution_count": 14,
   "metadata": {},
   "outputs": [],
   "source": [
    "question = \"what did they say about inflation in the the report?\""
   ]
  },
  {
   "cell_type": "code",
   "execution_count": 15,
   "metadata": {},
   "outputs": [],
   "source": [
    "docs = retriever.get_relevant_documents(question)"
   ]
  },
  {
   "cell_type": "code",
   "execution_count": 16,
   "metadata": {},
   "outputs": [
    {
     "name": "stdout",
     "output_type": "stream",
     "text": [
      "{'page': 10, 'source': '../../data/financebench/NETFLIX_2017_10K.pdf', 'start_index': 4292}\n",
      "{'page': 23, 'source': '../../data/financebench/NETFLIX_2017_10K.pdf', 'start_index': 0}\n",
      "{'page': 25, 'source': '../../data/financebench/NETFLIX_2017_10K.pdf', 'start_index': 2868}\n",
      "{'page': 6, 'source': '../../data/financebench/NETFLIX_2017_10K.pdf', 'start_index': 4313}\n"
     ]
    }
   ],
   "source": [
    "for d in docs:\n",
    "    print(d.metadata)"
   ]
  },
  {
   "cell_type": "markdown",
   "metadata": {},
   "source": [
    "### Additional tricks: compression\n",
    "\n",
    "Another approach for improving the quality of retrieved docs is compression.\n",
    "\n",
    "Information most relevant to a query may be buried in a document with a lot of irrelevant text. \n",
    "\n",
    "Passing that full document through your application can lead to more expensive LLM calls and poorer responses.\n",
    "\n",
    "Contextual compression is meant to fix this. "
   ]
  },
  {
   "cell_type": "code",
   "execution_count": 17,
   "metadata": {},
   "outputs": [],
   "source": [
    "from langchain.retrievers import ContextualCompressionRetriever\n",
    "from langchain.retrievers.document_compressors import LLMChainExtractor"
   ]
  },
  {
   "cell_type": "code",
   "execution_count": 18,
   "metadata": {},
   "outputs": [],
   "source": [
    "def pretty_print_docs(docs):\n",
    "    print(f\"\\n{'-' * 100}\\n\".join([f\"Document {i+1}:\\n\\n\" + d.page_content for i, d in enumerate(docs)]))\n"
   ]
  },
  {
   "cell_type": "code",
   "execution_count": 19,
   "metadata": {},
   "outputs": [],
   "source": [
    "compressor = LLMChainExtractor.from_llm(llm)"
   ]
  },
  {
   "cell_type": "code",
   "execution_count": 20,
   "metadata": {},
   "outputs": [],
   "source": [
    "compression_retriever = ContextualCompressionRetriever(\n",
    "    base_compressor=compressor,\n",
    "    base_retriever=vectordb.as_retriever()\n",
    ")"
   ]
  },
  {
   "cell_type": "code",
   "execution_count": 21,
   "metadata": {},
   "outputs": [
    {
     "name": "stderr",
     "output_type": "stream",
     "text": [
      "/home/sebacastillo/.genai0/lib/python3.9/site-packages/langchain/chains/llm.py:316: UserWarning: The predict_and_parse method is deprecated, instead pass an output parser directly to LLMChain.\n",
      "  warnings.warn(\n",
      "/home/sebacastillo/.genai0/lib/python3.9/site-packages/langchain/chains/llm.py:316: UserWarning: The predict_and_parse method is deprecated, instead pass an output parser directly to LLMChain.\n",
      "  warnings.warn(\n",
      "/home/sebacastillo/.genai0/lib/python3.9/site-packages/langchain/chains/llm.py:316: UserWarning: The predict_and_parse method is deprecated, instead pass an output parser directly to LLMChain.\n",
      "  warnings.warn(\n",
      "/home/sebacastillo/.genai0/lib/python3.9/site-packages/langchain/chains/llm.py:316: UserWarning: The predict_and_parse method is deprecated, instead pass an output parser directly to LLMChain.\n",
      "  warnings.warn(\n"
     ]
    },
    {
     "name": "stdout",
     "output_type": "stream",
     "text": [
      "Document 1:\n",
      "\n",
      "In 2022, as a result of the inflationary environment in the U.S., we experienced increases in our direct costs... We expect the inflationary environment and these other pressures to continue into 2023.\n",
      "----------------------------------------------------------------------------------------------------\n",
      "Document 2:\n",
      "\n",
      "the costs of raw materials, packaging materials, labor, energy, fuel, transportation and other inputs necessary for the production and distribution of our products have rapidly increased. We expect the inflationary pressures on input and other costs to continue to impact our business in 2022. Our attempts to offset these cost pressures, such as through price increases of some of our products, may not be successful. Higher product prices may result in reductions in\n",
      "----------------------------------------------------------------------------------------------------\n",
      "Document 3:\n",
      "\n",
      "We experienced higher than anticipated commodity, packaging, and transportation costs during 2021, which may continue.\n",
      "----------------------------------------------------------------------------------------------------\n",
      "Document 4:\n",
      "\n",
      "the inflationary environment and the resulting pressures to continue in 2023.\n"
     ]
    }
   ],
   "source": [
    "question = \"what did they say about inflation?\"\n",
    "compressed_docs = compression_retriever.get_relevant_documents(question)\n",
    "pretty_print_docs(compressed_docs)"
   ]
  },
  {
   "cell_type": "markdown",
   "metadata": {},
   "source": [
    "## Combining various techniques"
   ]
  },
  {
   "cell_type": "code",
   "execution_count": 22,
   "metadata": {},
   "outputs": [],
   "source": [
    "compression_retriever = ContextualCompressionRetriever(\n",
    "    base_compressor=compressor,\n",
    "    base_retriever=vectordb.as_retriever(search_type = \"mmr\")\n",
    ")"
   ]
  },
  {
   "cell_type": "code",
   "execution_count": 23,
   "metadata": {},
   "outputs": [
    {
     "name": "stderr",
     "output_type": "stream",
     "text": [
      "/home/sebacastillo/.genai0/lib/python3.9/site-packages/langchain/chains/llm.py:316: UserWarning: The predict_and_parse method is deprecated, instead pass an output parser directly to LLMChain.\n",
      "  warnings.warn(\n",
      "/home/sebacastillo/.genai0/lib/python3.9/site-packages/langchain/chains/llm.py:316: UserWarning: The predict_and_parse method is deprecated, instead pass an output parser directly to LLMChain.\n",
      "  warnings.warn(\n",
      "/home/sebacastillo/.genai0/lib/python3.9/site-packages/langchain/chains/llm.py:316: UserWarning: The predict_and_parse method is deprecated, instead pass an output parser directly to LLMChain.\n",
      "  warnings.warn(\n",
      "/home/sebacastillo/.genai0/lib/python3.9/site-packages/langchain/chains/llm.py:316: UserWarning: The predict_and_parse method is deprecated, instead pass an output parser directly to LLMChain.\n",
      "  warnings.warn(\n"
     ]
    },
    {
     "name": "stdout",
     "output_type": "stream",
     "text": [
      "Document 1:\n",
      "\n",
      "In 2022, as a result of the inflationary environment in the U.S., we experienced increases in our direct costs, including electricity and other energy-related costs for our network operations, and transportation and labor costs, as well as increased interest expenses related to rising interest rates. We believe that this inflationary environment and the resulting decline in real wages in the U.S. are altering consumer preferences and causing consumers to become more price conscious. These factors, along with impacts of the intense competition in our industries, resulted in increased costs and lower earnings per share during 2022, and caused us to lower our growth expectations and related financial guidance. We expect the inflationary environment and these other pressures to continue into 2023.\n",
      "----------------------------------------------------------------------------------------------------\n",
      "Document 2:\n",
      "\n",
      "The consequences of these developments cannot be entirely predicted but could include an increase in the cost of our floating rate debt or exposure under our interest rate derivative transactions.\n"
     ]
    }
   ],
   "source": [
    "question = \"what did they say about inflation?\"\n",
    "compressed_docs = compression_retriever.get_relevant_documents(question)\n",
    "pretty_print_docs(compressed_docs)"
   ]
  }
 ],
 "metadata": {
  "kernelspec": {
   "display_name": ".genai0",
   "language": "python",
   "name": "python3"
  },
  "language_info": {
   "codemirror_mode": {
    "name": "ipython",
    "version": 3
   },
   "file_extension": ".py",
   "mimetype": "text/x-python",
   "name": "python",
   "nbconvert_exporter": "python",
   "pygments_lexer": "ipython3",
   "version": "3.9.13"
  }
 },
 "nbformat": 4,
 "nbformat_minor": 2
}
