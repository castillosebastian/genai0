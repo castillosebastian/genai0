{
 "cells": [
  {
   "cell_type": "code",
   "execution_count": 33,
   "metadata": {},
   "outputs": [],
   "source": [
    "import polars as pl\n",
    "import pandas as pd\n",
    "from IPython.display import display, HTML, Markdown\n",
    "df = pd.read_csv('../../data/financebench_tiny_eval_20240105.csv')"
   ]
  },
  {
   "cell_type": "code",
   "execution_count": 49,
   "metadata": {},
   "outputs": [
    {
     "name": "stdout",
     "output_type": "stream",
     "text": [
      "Row 0:\n",
      "\n",
      "Question: In agreement with the information outlined in the income statement, what is the FY2015 - FY2017 3 year average net profit margin (as a %) for Best Buy? Answer in units of percents and round to one decimal place.\n",
      "Answer: 2.8%\n",
      "RAG-Toy Answer: The FY2015 - FY2017 3 year average net profit margin for Best Buy is 2.8%.\n",
      "SOURCES: Company: BESTBUY, SEC report: 10K (reference doc:\"../../data/financebench/BESTBUY_2017_10K.pdf\", reference_score:0.02955133654177189 - id:966).\n",
      "\n",
      "-------------------------------------------------- \n",
      "\n",
      "Row 1:\n",
      "\n",
      "Question: What is the year end FY2019 total amount of inventories for Best Buy? Answer in USD millions. Base your judgments on the information provided primarily in the balance sheet.\n",
      "Answer: $5409.00\n",
      "RAG-Toy Answer: The year end FY2019 total amount of inventories for Best Buy is not provided in the given information. \n",
      "SOURCES: 10K report of Best Buy for FY2019 (reference doc:\"../../data/financebench/BESTBUY_2019_10K.pdf\")\n",
      "\n",
      "-------------------------------------------------- \n",
      "\n",
      "Row 2:\n",
      "\n",
      "Question: Is growth in JnJ's adjusted EPS expected to accelerate in FY2023?\n",
      "Answer: No, rate of growth in adjusted EPS is expected to decelerate slightly from 3.6% in FY2022 to 3.5% in FY2023.\n",
      "RAG-Toy Answer: Growth in JnJ's adjusted EPS is expected to accelerate in FY2023. The company guides for adjusted operational EPS of $10.50 in FY2023, reflecting growth of 3.5%. \n",
      "SOURCES: Company: JOHNSON&JOHNSON, SEC report: EARNINGS (reference doc:\"../../data/financebench/JOHNSON&JOHNSON_2022Q4_EARNINGS.pdf\")\n",
      "\n",
      "-------------------------------------------------- \n",
      "\n",
      "Row 3:\n",
      "\n",
      "Question: How did JnJ's US sales growth compare to international sales growth in FY2022?\n",
      "Answer: US sales increased 3.0% vs international sales decline of 0.6%.\n",
      "RAG-Toy Answer: The information provided does not specify the exact sales growth of JnJ's US and international segments in FY2022. Therefore, it is not possible to compare the growth rates between the two segments based on the given information.\n",
      "SOURCES: N/A\n",
      "\n",
      "-------------------------------------------------- \n",
      "\n",
      "Row 4:\n",
      "\n",
      "Question: Has Microsoft increased its debt on balance sheet between FY2023 and the FY2022 period?\n",
      "Answer: No. Microsoft decreased its debt by $2.5bn in FY 2023 vs FY 2022.\n",
      "RAG-Toy Answer: There is no information provided to determine whether Microsoft increased its debt on the balance sheet between FY2023 and the FY2022 period.\n",
      "SOURCES: None\n",
      "\n",
      "-------------------------------------------------- \n",
      "\n",
      "Row 5:\n",
      "\n",
      "Question: How much does Pfizer expect to pay to spin off Upjohn in the future in USD million?\n",
      "Answer: 77.78\n",
      "RAG-Toy Answer: Pfizer expects to incur costs of approximately $700 million in connection with separating Upjohn.\n",
      "SOURCES: Company: PFIZER, SEC report: 10Q (reference doc:\"../../data/financebench/Pfizer_2023Q2_10Q.pdf\", reference_score:0.03205128386616707 - id:714)\n",
      "\n",
      "-------------------------------------------------- \n",
      "\n",
      "Row 6:\n",
      "\n",
      "Question: For Pfizer, which geographic region had the biggest drop in Q22023 year over year revenues (on a percentage basis)?\n",
      "Answer: Developed Rest of the World\n",
      "RAG-Toy Answer: In the second quarter of 2023, Pfizer experienced the biggest drop in year-over-year revenues on a percentage basis in the Developed Rest of World geographic region, with a decline of 74%. \n",
      "SOURCES: Pfizer 2023Q2 10Q report (pages 30-31)\n",
      "\n",
      "-------------------------------------------------- \n",
      "\n",
      "Row 7:\n",
      "\n",
      "Question: As of Q2'2023, is Pfizer spinning off any large business segments?\n",
      "Answer: Yes, it's spinning off Upjohn.\n",
      "RAG-Toy Answer: As of Q2'2023, Pfizer is not spinning off any large business segments.\n",
      "SOURCES: \n",
      "- Pfizer Q2 2023 10Q report (reference doc:\"../../data/financebench/Pfizer_2023Q2_10Q.pdf\")\n",
      "\n",
      "-------------------------------------------------- \n",
      "\n"
     ]
    }
   ],
   "source": [
    "#df.iloc[:, [3,4,5]]\n",
    "for index, row in df.iterrows():\n",
    "    print(f\"Row {index}:\\n\")\n",
    "    print(f\"Question: {row['question']}\")\n",
    "    print(f\"Answer: {row['answer']}\")\n",
    "    print(f\"RAG-Toy Answer: {row['rag-toy_answer']}\\n\")\n",
    "    print(\"-\" * 50, \"\\n\")"
   ]
  },
  {
   "cell_type": "code",
   "execution_count": 60,
   "metadata": {},
   "outputs": [],
   "source": [
    "manual_score = {   \n",
    "    \"0\": \"correct\",\n",
    "    \"1\": \"failed\", # low context relevante\n",
    "    \"2\": \"incorrect\", # low context relevance\n",
    "    \"3\": \"failed\", # low context relevance\n",
    "    \"4\": \"failed\", # low context relevance\n",
    "    \"5\": \"correct\", # doc: 'We expect to incur costs of approximately $700 million in connection with separating Upjohn' -p.32-\n",
    "    \"6\": \"correct\", # hight quality answer\n",
    "    \"7\": \"failed\", # low context relevance - incosistency with 5   \n",
    "}    "
   ]
  },
  {
   "cell_type": "code",
   "execution_count": 63,
   "metadata": {},
   "outputs": [
    {
     "name": "stdout",
     "output_type": "stream",
     "text": [
      "|           |   Count |\n",
      "|:----------|--------:|\n",
      "| failed    |       4 |\n",
      "| correct   |       3 |\n",
      "| incorrect |       1 |\n"
     ]
    }
   ],
   "source": [
    "category_counts = pd.Series(manual_score).value_counts()\n",
    "\n",
    "# Creating a summary table in a DataFrame\n",
    "summary_table = pd.DataFrame(category_counts, columns=['Count'])\n",
    "\n",
    "# Generating a summary table in Markdown format\n",
    "print(summary_table.to_markdown())"
   ]
  }
 ],
 "metadata": {
  "kernelspec": {
   "display_name": ".genai0",
   "language": "python",
   "name": "python3"
  },
  "language_info": {
   "codemirror_mode": {
    "name": "ipython",
    "version": 3
   },
   "file_extension": ".py",
   "mimetype": "text/x-python",
   "name": "python",
   "nbconvert_exporter": "python",
   "pygments_lexer": "ipython3",
   "version": "3.9.13"
  }
 },
 "nbformat": 4,
 "nbformat_minor": 2
}
