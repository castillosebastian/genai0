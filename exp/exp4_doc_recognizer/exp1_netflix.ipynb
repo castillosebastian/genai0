{
 "cells": [
  {
   "cell_type": "markdown",
   "metadata": {},
   "source": [
    "# Image Recognition"
   ]
  },
  {
   "cell_type": "code",
   "execution_count": 1,
   "metadata": {},
   "outputs": [
    {
     "data": {
      "text/plain": [
       "True"
      ]
     },
     "execution_count": 1,
     "metadata": {},
     "output_type": "execute_result"
    }
   ],
   "source": [
    "import polars as pl\n",
    "import pandas as pd\n",
    "import json\n",
    "import os\n",
    "import openai\n",
    "from langchain.embeddings import AzureOpenAIEmbeddings\n",
    "from langchain.chat_models import AzureChatOpenAI\n",
    "from langchain.schema import HumanMessage\n",
    "from langchain.prompts import ChatPromptTemplate\n",
    "from langchain_core.output_parsers import StrOutputParser\n",
    "import uuid\n",
    "from langchain.retrievers.multi_vector import MultiVectorRetriever\n",
    "from langchain.storage import InMemoryStore\n",
    "from langchain.vectorstores import Chroma\n",
    "from langchain_core.documents import Document\n",
    "import time\n",
    "from typing import Any\n",
    "from pydantic import BaseModel\n",
    "from unstructured.partition.pdf import partition_pdf\n",
    "from dotenv import load_dotenv\n",
    "load_dotenv()"
   ]
  },
  {
   "cell_type": "code",
   "execution_count": null,
   "metadata": {},
   "outputs": [],
   "source": [
    "# elements = partition_pdf(filename='nflx-20230930.pdf', infer_table_structure=True)\n",
    "# Fail!"
   ]
  },
  {
   "cell_type": "markdown",
   "metadata": {},
   "source": [
    "ERROR\n",
    "-> 3284 im = _open_core(fp, filename, prefix, formats)\n",
    "   3286 if im is None and formats is ID:\n",
    "   3287     checked_formats = formats.copy()\n",
    "\n",
    "File ~/.genai0/lib/python3.9/site-packages/PIL/Image.py:3271, in open.<locals>._open_core(fp, filename, prefix, formats)\n",
    "   3269         fp.seek(0)\n",
    "   3270         im = factory(fp, filename)\n",
    "-> 3271         _decompression_bomb_check(im.size)\n",
    "   3272         return im\n",
    "   3273 except (SyntaxError, IndexError, TypeError, struct.error):\n",
    "   3274     # Leave disabled by default, spams the logs with image\n",
    "   3275     # opening failures that are entirely expected.\n",
    "   3276     # logger.debug(\"\", exc_info=True)\n",
    "\n",
    "File ~/.genai0/lib/python3.9/site-packages/PIL/Image.py:3179, in _decompression_bomb_check(size)\n",
    "   3174 if pixels > 2 * MAX_IMAGE_PIXELS:\n",
    "   3175     msg = (\n",
    "   3176         f\"Image size ({pixels} pixels) exceeds limit of {2 * MAX_IMAGE_PIXELS} \"\n",
    "   3177         \"pixels, could be decompression bomb DOS attack.\"\n",
    "   3178     )\n",
    "-> 3179     raise DecompressionBombError(msg)\n",
    "   3181 if pixels > MAX_IMAGE_PIXELS:\n",
    "   3182     warnings.warn(\n",
    "   3183         f\"Image size ({pixels} pixels) exceeds limit of {MAX_IMAGE_PIXELS} pixels, \"\n",
    "   3184         \"could be decompression bomb DOS attack.\",\n",
    "   3185         DecompressionBombWarning,\n",
    "   3186     )\n",
    "\n",
    "DecompressionBombError: Image size (436200720 pixels) exceeds limit of 178956970 pixels, could be decompression bomb DOS attack.\n",
    "\n",
    "**El tamañoo del pdf es muy grande y excede el límite que fija la librería**"
   ]
  },
  {
   "cell_type": "code",
   "execution_count": 3,
   "metadata": {},
   "outputs": [
    {
     "name": "stdout",
     "output_type": "stream",
     "text": [
      "Large accelerated filer Xi Non-accelerated filer a\n"
     ]
    }
   ],
   "source": [
    "elements = partition_pdf(filename='netflix_10k-oficialpdf.pdf', infer_table_structure=True)\n",
    "tables = [el for el in elements if el.category == \"Table\"]\n",
    "print(tables[0].text)"
   ]
  },
  {
   "cell_type": "code",
   "execution_count": 4,
   "metadata": {},
   "outputs": [
    {
     "name": "stdout",
     "output_type": "stream",
     "text": [
      "<table><thead><th>Large accelerated filer</th><th>O®</th></thead><tr><td>Non-accelerated filer</td><td></td></tr></table>\n"
     ]
    }
   ],
   "source": [
    "print(tables[0].metadata.text_as_html)"
   ]
  },
  {
   "cell_type": "code",
   "execution_count": 8,
   "metadata": {},
   "outputs": [],
   "source": [
    "text = tables[20].text\n",
    "html = tables[20].metadata.text_as_html"
   ]
  },
  {
   "cell_type": "code",
   "execution_count": 9,
   "metadata": {},
   "outputs": [],
   "source": [
    "def llm():\n",
    "    return AzureChatOpenAI(model_name=\"gtp35turbo-latest\")\n",
    "\n",
    "model = llm()\n",
    "\n",
    "message = HumanMessage(\n",
    "    content= f'You are a financial assistant, convert this html table related to 10-k report in tabular format in simple text: \"{html}\". Only return the text'\n",
    ")\n",
    "\n",
    "html_result = model([message])"
   ]
  },
  {
   "cell_type": "code",
   "execution_count": 10,
   "metadata": {},
   "outputs": [
    {
     "name": "stdout",
     "output_type": "stream",
     "text": [
      "Sash flows from operating activities:\n",
      "Net income $ 4,491,924 $ 5,116,228 $ 2,761,395\n",
      "Adjustments to reconcile net income to net cash provided by operating activities:\n",
      "Additions to content assets (16,839,038) (17,702,202) (11,779,284)\n",
      "Change in content liabilities 179,310 232,898 (757,433)\n",
      "Amortization of content assets 14,026,132 12,230,367 10,806,912\n",
      "Depreciation and amortization of property, equipment and intangibles 336,682 208,412 115,710\n",
      "Stock-based compensation expense 575,452 403,220 415,180\n",
      "Foreign currency remeasurement loss (gain) on debt (353,111) (430,661) 533,278\n",
      "Other non-cash items 533,543 376,777 293,126\n",
      "Deferred income taxes (166,550) 199,548 70,066\n",
      "Changes in operating assets and liabilities:\n",
      "Other current assets (353,834) (369,681) (187,623)\n",
      "Accounts payable (158,543) 145,115 (41,605)\n",
      "Accrued expenses and other liabilities (55,513) 180,338 198,183\n",
      "Deferred revenue 27,356 91,350 193,247\n",
      "Other non-current assets and liabilities (217,553) (289,099) (194,075)\n",
      "Net cash provided by operating activities 2,026,257 392,610 2,427,077\n",
      "Sash flows from investing activities:\n",
      "Purchases of property and equipment (407,729) (524,585) (497,923)\n",
      "Change in other assets _ (26,919) (7,431)\n",
      "Acquisitions (757,387) (788,349) —\n",
      "Purchases of short-term investments (911,276) — —\n",
      "Net cash used in investing activities (2,076,392) (1,339,853) (505,354)\n",
      "Sash flows from financing activities:\n",
      "Proceeds from issuance of debt _ _ 1,009,464\n",
      "Debt issuance costs _ _ (7,559)\n",
      "Repayments of debt (700,000) (500,000) _—\n",
      "Proceeds from issuance of common stock 35,746 174,414 235,406\n",
      "Repurchases of common stock _ (600,022) _\n",
      "Taxes paid related to net share settlement of equity awards _ (224,168) _\n",
      "Net cash provided by (used in) financing activities (664,254) (1,149,776) 1,237,311\n",
      "Effect of exchange rate changes on cash, cash equivalents and restricted cash (170,140) (86,740) 36,050\n",
      "Net increase (decrease) in cash, cash equivalents and restricted cash (884,529) (2,183,759) 3,195,084\n",
      "Cash, cash equivalents and restricted cash, beginning of year 6,055,111 8,238,870 5,043,786\n",
      "Cash, cash equivalents and restricted cash, end of year $ 5,170,582 $ 6,055,111. $ 8,238,870\n",
      "Supplemental disclosure:\n",
      "Income taxes paid $ 811,720 $ 509,265 $ 291,582\n",
      "Interest paid 701,693 763,432 762,904\n"
     ]
    }
   ],
   "source": [
    "print(html_result.content)"
   ]
  }
 ],
 "metadata": {
  "kernelspec": {
   "display_name": ".genai0",
   "language": "python",
   "name": "python3"
  },
  "language_info": {
   "codemirror_mode": {
    "name": "ipython",
    "version": 3
   },
   "file_extension": ".py",
   "mimetype": "text/x-python",
   "name": "python",
   "nbconvert_exporter": "python",
   "pygments_lexer": "ipython3",
   "version": "3.9.13"
  }
 },
 "nbformat": 4,
 "nbformat_minor": 2
}
