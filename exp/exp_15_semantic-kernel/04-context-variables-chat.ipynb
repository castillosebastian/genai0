{
 "cells": [
  {
   "attachments": {},
   "cell_type": "markdown",
   "id": "fde98ddf",
   "metadata": {},
   "source": [
    "# Creating a basic chat experience with context variables\n",
    "\n",
    "In this example, we show how you can build a simple chat bot by sending and updating context with your requests. \n",
    "\n",
    "We introduce the Context Variables object which in this demo functions similarly as a key-value store that you can use when running the kernel.\n",
    "\n",
    "The context is local (i.e. in your computer's RAM) and not persisted anywhere beyond the life of this Jupyter session.\n",
    "\n",
    "In future examples, we will show how to persist the context on disk so that you can bring it into your applications.  \n",
    "\n",
    "In this chat scenario, as the user talks back and forth with the bot, the context gets populated with the history of the conversation. During each new run of the kernel, the context can provide the AI with its variables' content. "
   ]
  },
  {
   "cell_type": "code",
   "execution_count": null,
   "id": "92f69b34",
   "metadata": {},
   "outputs": [],
   "source": [
    "#!python -m pip install semantic-kernel==0.4.5.dev0"
   ]
  },
  {
   "cell_type": "code",
   "execution_count": 1,
   "id": "8ad771f8",
   "metadata": {},
   "outputs": [],
   "source": [
    "import os\n",
    "from dotenv import load_dotenv\n",
    "load_dotenv()\n",
    "endpoint = os.environ[\"AZURE_OPENAI_ENDPOINT\"]\n",
    "deployment_name = os.environ[\"AZURE_OPENAI_DEPLOYMENT\"]\n",
    "key = os.environ[\"OPENAI_API_KEY\"]"
   ]
  },
  {
   "cell_type": "code",
   "execution_count": 2,
   "id": "68301108",
   "metadata": {},
   "outputs": [],
   "source": [
    "import semantic_kernel as sk\n",
    "from semantic_kernel.connectors.ai.open_ai import (\n",
    "    AzureChatCompletion,\n",
    "    OpenAIChatCompletion,\n",
    ")\n",
    "\n",
    "kernel = sk.Kernel()\n",
    "\n",
    "useAzureOpenAI = True\n",
    "\n",
    "# Configure AI service used by the kernel\n",
    "if useAzureOpenAI:\n",
    "    kernel.add_chat_service(  # We are adding a text service\n",
    "    \"Azure_curie\",  # The alias we can use in prompt templates' config.json\n",
    "    AzureChatCompletion(\n",
    "        deployment_name=deployment_name,  # Azure OpenAI *Deployment name*\n",
    "        endpoint=endpoint,  # Azure OpenAI *Endpoint*\n",
    "        api_key=key,  # Azure OpenAI *Key*\n",
    "        ),\n",
    "    )\n",
    "else:\n",
    "    api_key, org_id = sk.openai_settings_from_dot_env()\n",
    "    kernel.add_chat_service(\n",
    "        \"gpt-3.5\",\n",
    "        OpenAIChatCompletion(ai_model_id=\"gpt-3.5-turbo\", api_key=api_key, org_id=org_id),\n",
    "    )"
   ]
  },
  {
   "attachments": {},
   "cell_type": "markdown",
   "id": "7971783d",
   "metadata": {},
   "source": [
    "Let's define a prompt outlining a dialogue chat bot."
   ]
  },
  {
   "cell_type": "code",
   "execution_count": 3,
   "id": "e84a05fc",
   "metadata": {},
   "outputs": [],
   "source": [
    "sk_prompt = \"\"\"\n",
    "ChatBot can have a conversation with you about any topic.\n",
    "It can give explicit instructions or say 'I don't know' if it does not have an answer.\n",
    "\n",
    "{{$history}}\n",
    "User: {{$user_input}}\n",
    "ChatBot: \"\"\""
   ]
  },
  {
   "attachments": {},
   "cell_type": "markdown",
   "id": "61716b16",
   "metadata": {},
   "source": [
    "Register your semantic function"
   ]
  },
  {
   "cell_type": "code",
   "execution_count": 4,
   "id": "a3e4b160",
   "metadata": {},
   "outputs": [],
   "source": [
    "chat_function = kernel.create_semantic_function(\n",
    "    prompt_template=sk_prompt,\n",
    "    function_name=\"ChatBot\",\n",
    "    max_tokens=2000,\n",
    "    temperature=0.7,\n",
    "    top_p=0.5,\n",
    ")"
   ]
  },
  {
   "attachments": {},
   "cell_type": "markdown",
   "id": "6e8a676f",
   "metadata": {},
   "source": [
    "Initialize your context"
   ]
  },
  {
   "cell_type": "code",
   "execution_count": 5,
   "id": "a4be7394",
   "metadata": {},
   "outputs": [],
   "source": [
    "context = kernel.create_new_context()\n",
    "context[\"history\"] = \"\""
   ]
  },
  {
   "attachments": {},
   "cell_type": "markdown",
   "id": "4ce7c497",
   "metadata": {},
   "source": [
    "Chat with the Bot"
   ]
  },
  {
   "cell_type": "code",
   "execution_count": 6,
   "id": "5ec41eb8",
   "metadata": {},
   "outputs": [
    {
     "name": "stderr",
     "output_type": "stream",
     "text": [
      "Variable `$history` not found\n"
     ]
    },
    {
     "name": "stdout",
     "output_type": "stream",
     "text": [
      "Hello Sebastián! I'm here to help. What advice are you looking for?\n"
     ]
    }
   ],
   "source": [
    "context[\"user_input\"] = \"Hello, my name is Sebastián, and I'm looking for your advice\"\n",
    "bot_answer = await chat_function.invoke_async(context=context)\n",
    "print(bot_answer)"
   ]
  },
  {
   "attachments": {},
   "cell_type": "markdown",
   "id": "a5b03748",
   "metadata": {},
   "source": [
    "Update the history with the output"
   ]
  },
  {
   "cell_type": "code",
   "execution_count": 7,
   "id": "f50f517d",
   "metadata": {},
   "outputs": [
    {
     "name": "stdout",
     "output_type": "stream",
     "text": [
      "\n",
      "User: Hello, my name is Sebastián, and I'm looking for your advice\n",
      "ChatBot: Hello Sebastián! I'm here to help. What advice are you looking for?\n",
      "\n"
     ]
    }
   ],
   "source": [
    "context[\"history\"] += f\"\\nUser: {context['user_input']}\\nChatBot: {bot_answer}\\n\"\n",
    "print(context[\"history\"])"
   ]
  },
  {
   "attachments": {},
   "cell_type": "markdown",
   "id": "23a2eb02",
   "metadata": {},
   "source": [
    "Keep Chatting!"
   ]
  },
  {
   "cell_type": "code",
   "execution_count": 8,
   "id": "c59efe45",
   "metadata": {},
   "outputs": [],
   "source": [
    "async def chat(input_text: str) -> None:\n",
    "    # Save new message in the context variables\n",
    "    print(f\"User: {input_text}\")\n",
    "    context[\"user_input\"] = input_text\n",
    "\n",
    "    # Process the user message and get an answer\n",
    "    answer = await chat_function.invoke_async(context=context)\n",
    "\n",
    "    # Show the response\n",
    "    print(f\"ChatBot: {answer}\")\n",
    "\n",
    "    # Append the new interaction to the chat history\n",
    "    context[\"history\"] += f\"\\nUser: {input_text}\\nChatBot: {answer}\\n\""
   ]
  },
  {
   "cell_type": "code",
   "execution_count": 9,
   "id": "06ee244e",
   "metadata": {},
   "outputs": [
    {
     "name": "stdout",
     "output_type": "stream",
     "text": [
      "User: I love history and philosophy, I'd like to learn something new about Greece, any suggestion?\n",
      "ChatBot: Sure! One interesting aspect of ancient Greece is their system of government. Have you heard of the concept of democracy?\n"
     ]
    }
   ],
   "source": [
    "await chat(\"I love history and philosophy, I'd like to learn something new about Greece, any suggestion?\")"
   ]
  },
  {
   "cell_type": "code",
   "execution_count": 10,
   "id": "82be4e7e",
   "metadata": {},
   "outputs": [
    {
     "name": "stdout",
     "output_type": "stream",
     "text": [
      "User: Yes! sure. How about finance: can I ask some simple question about finance?\n",
      "ChatBot: Of course! Feel free to ask any finance-related questions you have.\n"
     ]
    }
   ],
   "source": [
    "await chat(\"Yes! sure. How about finance: can I ask some simple question about finance?\")"
   ]
  },
  {
   "cell_type": "code",
   "execution_count": 11,
   "id": "82fe0139",
   "metadata": {},
   "outputs": [
    {
     "name": "stdout",
     "output_type": "stream",
     "text": [
      "User: What are the main topic of Public Filling 10 K?\n",
      "ChatBot: The main topics covered in a Public Filling 10-K include financial statements, management's discussion and analysis of financial condition and results of operations, risk factors, legal proceedings, and other important information about the company's business.\n"
     ]
    }
   ],
   "source": [
    "await chat(\"What are the main topic of Public Filling 10 K?\")"
   ]
  },
  {
   "cell_type": "code",
   "execution_count": 12,
   "id": "55b3a9f2",
   "metadata": {},
   "outputs": [
    {
     "name": "stdout",
     "output_type": "stream",
     "text": [
      "User: What type of financial statements?\n",
      "ChatBot: The financial statements included in a Public Filling 10-K typically include the balance sheet, income statement, cash flow statement, and statement of stockholders' equity. These statements provide a comprehensive overview of a company's financial performance and position.\n"
     ]
    }
   ],
   "source": [
    "await chat(\"What type of financial statements?\")"
   ]
  },
  {
   "attachments": {},
   "cell_type": "markdown",
   "id": "c30bac97",
   "metadata": {},
   "source": [
    "After chatting for a while, we have built a growing history, which we are attaching to each prompt and which contains the full conversation. Let's take a look!"
   ]
  },
  {
   "cell_type": "code",
   "execution_count": 13,
   "id": "5e34ae55",
   "metadata": {},
   "outputs": [
    {
     "name": "stdout",
     "output_type": "stream",
     "text": [
      "\n",
      "User: Hello, my name is Sebastián, and I'm looking for your advice\n",
      "ChatBot: Hello Sebastián! I'm here to help. What advice are you looking for?\n",
      "\n",
      "User: I love history and philosophy, I'd like to learn something new about Greece, any suggestion?\n",
      "ChatBot: Sure! One interesting aspect of ancient Greece is their system of government. Have you heard of the concept of democracy?\n",
      "\n",
      "User: Yes! sure. How about finance: can I ask some simple question about finance?\n",
      "ChatBot: Of course! Feel free to ask any finance-related questions you have.\n",
      "\n",
      "User: What are the main topic of Public Filling 10 K?\n",
      "ChatBot: The main topics covered in a Public Filling 10-K include financial statements, management's discussion and analysis of financial condition and results of operations, risk factors, legal proceedings, and other important information about the company's business.\n",
      "\n",
      "User: What type of financial statements?\n",
      "ChatBot: The financial statements included in a Public Filling 10-K typically include the balance sheet, income statement, cash flow statement, and statement of stockholders' equity. These statements provide a comprehensive overview of a company's financial performance and position.\n",
      "\n"
     ]
    }
   ],
   "source": [
    "print(context[\"history\"])"
   ]
  }
 ],
 "metadata": {
  "kernelspec": {
   "display_name": "Python 3 (ipykernel)",
   "language": "python",
   "name": "python3"
  },
  "language_info": {
   "codemirror_mode": {
    "name": "ipython",
    "version": 3
   },
   "file_extension": ".py",
   "mimetype": "text/x-python",
   "name": "python",
   "nbconvert_exporter": "python",
   "pygments_lexer": "ipython3",
   "version": "3.9.13"
  }
 },
 "nbformat": 4,
 "nbformat_minor": 5
}
