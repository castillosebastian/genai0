{
 "cells": [
  {
   "cell_type": "markdown",
   "metadata": {},
   "source": [
    "# Advance-RAG Development for DS"
   ]
  },
  {
   "cell_type": "markdown",
   "metadata": {},
   "source": [
    "### For POC\n",
    "\n",
    "1. Use cases documentation:\n",
    "   1. Inputs docs\n",
    "   2. Desired output docs\n",
    "   3. Usecases practical conditions\n",
    "2. Chose an existing model\n",
    "   1. LLM: \n",
    "      1. gpt4: ok.\n",
    "      2. gpt3-5: \n",
    "         1. Windows size restrictions for long documents.\n",
    "         2. Functions call errors: [OS-LLMs:MemGPT](https://arxiv.org/abs/2310.08560)\n",
    "   2. Embeddings: text-embedding-ada-002\n",
    "   3. Alternative LLM\n",
    "      1. Mistral/Mixtral (desirable)\n",
    "3. Create Base Model:\n",
    "   \n",
    "   Need to have a evaluations strategy and tools.\n",
    "\n",
    "   1. Retriever-Module query types:\n",
    "      1. SubQuestionQueryEngine for complex questions\n",
    "      2. Small-to-big retrieval for improved precision\n",
    "      3. Metadata filtering, also for improved precision\n",
    "      4. Hybrid search including traditional search engine techniques: Ensure thoroughly tested across varied query types. [IMPORTATN](https://techcommunity.microsoft.com/t5/ai-azure-ai-services-blog/azure-cognitive-search-outperforming-vector-search-with-hybrid/ba-p/3929167). \n",
    "      5. Recursive Retrieval for complex documents: [RecursiveRetriver](https://llamahub.ai/l/llama_packs-dense_x_retrieval?from=llama_packs)\n",
    "      6. Text to SQL\n",
    "      7. Multi-document agents that can combine all of these techniques\n",
    "      8. Ensembles: [EnsembleRetriever](https://python.langchain.com/docs/modules/data_connection/retrievers/ensemble?ref=blog.langchain.dev)\n",
    "   2. Augmentation Module\n",
    "      1. Parsers\n",
    "      2. Difbot\n",
    "      3. EDGAR\n",
    "      4. SQL-Database (simple test with pgvector -see MemGPT-)\n",
    "      5. Cross-document ensembles\n",
    "   3. Generation\n",
    "      1. Prompt-Engineering Basics\n",
    "      2. Chatmod config\n",
    "4. Adapt and align model for use cases\n",
    "   1. Prompt-Engineering Advance\n",
    "   2. Modules!\n",
    "   3. Chat-history\n",
    "   4. fine tunning (optional)\n",
    "   5. align with human feedback (optional)\n",
    "5. Evaluate\n",
    "   1. Pre-deploy evaluations\n",
    "   2. Post-deploy evaluations\n",
    "   \n",
    "### Post POC\n",
    "\n",
    "6. Optimize\n",
    "7. Deploy in Production"
   ]
  }
 ],
 "metadata": {
  "language_info": {
   "name": "python"
  }
 },
 "nbformat": 4,
 "nbformat_minor": 2
}
