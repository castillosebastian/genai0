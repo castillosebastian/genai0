{
 "cells": [
  {
   "cell_type": "markdown",
   "metadata": {},
   "source": [
    "# Scoring profile\n",
    "- A scoring profile is critera for boosting a search score based on parameters that you provide. For example, you might want matches found in a \"tags\" field to be more relevant than the same match found in \"descriptions\". Criteria can be a weighted field (such as the \"tags\" example) or a function.\n",
    "- Scoring profiles are defined in a search index and invoked on non-vector fields in query requests.\n"
   ]
  },
  {
   "cell_type": "markdown",
   "metadata": {},
   "source": [
    "# When to add scoring logic\n",
    "You should create one or more scoring profiles when the default ranking behavior doesn’t go far enough in meeting your business objectives. \n",
    "\n",
    "- For example, you might decide that search relevance should favor newly added items. Likewise, you might have a field that contains profit margin, or some other field indicating revenue potential. \n",
    "\n",
    "Boosting results that are more meaningful to your users or the business is often the deciding factor in adoption of scoring profiles."
   ]
  },
  {
   "cell_type": "raw",
   "metadata": {},
   "source": [
    "\"scoringProfiles\": [\n",
    "  {  \n",
    "    \"name\":\"geo\",\n",
    "    \"text\": {  \n",
    "      \"weights\": {  \n",
    "        \"hotelName\": 5\n",
    "      }                              \n",
    "    },\n",
    "    \"functions\": [\n",
    "      {  \n",
    "        \"type\": \"distance\",\n",
    "        \"boost\": 5,\n",
    "        \"fieldName\": \"location\",\n",
    "        \"interpolation\": \"logarithmic\",\n",
    "        \"distance\": {\n",
    "          \"referencePointParameter\": \"currentLocation\",\n",
    "          \"boostingDistance\": 10\n",
    "        }                        \n",
    "      }                                      \n",
    "    ]                     \n",
    "  }            \n",
    "]"
   ]
  },
  {
   "cell_type": "code",
   "execution_count": null,
   "metadata": {},
   "outputs": [],
   "source": [
    "[\n",
    "    SimpleField(name=\"id\", type=SearchFieldDataType.String, key=True),\n",
    "    SearchableField(name=\"pdf_title\", type=SearchFieldDataType.String, searchable=True, filterable=True, sortable=True),\n",
    "    SearchableField(name=\"pdf_author\", type=SearchFieldDataType.String, searchable=True, filterable=True, sortable=True),\n",
    "    SearchableField(name=\"pdf_subject\", type=SearchFieldDataType.String, searchable=True, filterable=True, sortable=True),\n",
    "    SearchableField(name=\"pdf_keywords\", type=SearchFieldDataType.String, searchable=True, filterable=True),\n",
    "    SearchableField(name=\"pdf_creation_date\", type=SearchFieldDataType.DateTimeOffset, filterable=True, searchable=True, sortable=True, facetable=True),\n",
    "    SearchableField(name=\"pdf_modification_date\", type=SearchFieldDataType.DateTimeOffset, filterable=True, searchable=True, sortable=True, facetable=True),\n",
    "    SearchableField(name=\"pdf_creator\",  type=SearchFieldDataType.String, searchable=True, sortable=True),\n",
    "    SearchableField(name=\"pdf_producer\", type=SearchFieldDataType.String, searchable=True, sortable=True),\n",
    "    SearchableField(name=\"chunk\", type=SearchFieldDataType.String, searchable=True),\n",
    "    SearchField(name=\"embedding\", type=SearchFieldDataType.Collection(SearchFieldDataType.Single), searchable=True, vector_search_dimensions=1536, vector_search_profile_name=\"myHnswProfile\")\n",
    "]"
   ]
  },
  {
   "cell_type": "markdown",
   "metadata": {},
   "source": [
    "### Preguntas\n",
    "- Cuál es la diferencia entre author, creator y producer?\n",
    "\n",
    "# Propongo agregar\n",
    "\n",
    "> **pdf_company_location**: The geographical location or jurisdiction relevant to the document, particularly for company-specific documents.     \n",
    "> **doc_type**    \n",
    "> **doc_source**    \n",
    "> **sector**:  Global Industry Classification Standard [GICS](https://en.wikipedia.org/wiki/Global_Industry_Classification_Standard)\n",
    "> **industry**: Industry Classification Benchmark (ICB)    \n",
    "> **doc_language**    \n",
    "\n",
    "# Propongo renombrar\n",
    "\n",
    "> **sub_document = chunk**   "
   ]
  }
 ],
 "metadata": {
  "language_info": {
   "name": "python"
  }
 },
 "nbformat": 4,
 "nbformat_minor": 2
}
