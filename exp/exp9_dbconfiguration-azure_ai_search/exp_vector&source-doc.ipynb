{
 "cells": [
  {
   "attachments": {},
   "cell_type": "markdown",
   "metadata": {},
   "source": [
    "## Import required libraries"
   ]
  },
  {
   "cell_type": "code",
   "execution_count": 9,
   "metadata": {},
   "outputs": [],
   "source": [
    "import zipfile\n",
    "import os\n",
    "import sys\n",
    "import pandas as pd\n",
    "import openai\n",
    "import json  \n",
    "import wget\n",
    "from langchain.vectorstores.azuresearch import AzureSearch\n",
    "from langchain.document_loaders import PyPDFLoader\n",
    "from langchain.text_splitter import RecursiveCharacterTextSplitter\n",
    "from azure.core.credentials import AzureKeyCredential  \n",
    "from azure.search.documents import SearchClient  \n",
    "from azure.search.documents.indexes import SearchIndexClient\n",
    "from azure.search.documents.models import Vector # Ojo version vieja de la libreria \n",
    "from azure.search.documents import SearchIndexingBufferedSender\n",
    "from azure.search.documents.indexes.models import (  \n",
    "    SearchIndex,  \n",
    "    SearchField,  \n",
    "    SearchFieldDataType,  \n",
    "    SimpleField,  \n",
    "    SearchableField,  \n",
    "    SearchIndex,  \n",
    "    SemanticConfiguration,  \n",
    "    PrioritizedFields,  \n",
    "    SemanticField,  \n",
    "    SearchField,  \n",
    "    SemanticSettings,  \n",
    "    VectorSearch,  \n",
    "    HnswVectorSearchAlgorithmConfiguration,   \n",
    ")\n",
    "from dotenv import load_dotenv\n",
    "load_dotenv()\n",
    "# Load OpenAI access and other custom paths\n",
    "sys.path.append(os.path.abspath('../../src'))\n",
    "from azure_openai_conn import OpenAIembeddings\n"
   ]
  },
  {
   "cell_type": "code",
   "execution_count": 10,
   "metadata": {},
   "outputs": [],
   "source": [
    "# Configure OpenAI settings\n",
    "openai.api_type = os.getenv('OPENAI_API_TYPE')\n",
    "openai.api_base = os.getenv('AZURE_OPENAI_ENDPOINT')\n",
    "openai.api_version = os.getenv('OPENAI_API_VERSION')\n",
    "openai.api_key = os.getenv('OPENAI_API_KEY')\n",
    "model: str = os.getenv('OPENAI_EMBEDDINGS_MODEL_NAME') "
   ]
  },
  {
   "cell_type": "markdown",
   "metadata": {},
   "source": [
    "### Configure Azure Cognitive Search Vector Store settings\n",
    "You can find this in the Azure Portal or using the [Search Management SDK](https://learn.microsoft.com/rest/api/searchmanagement/)"
   ]
  },
  {
   "cell_type": "code",
   "execution_count": 11,
   "metadata": {},
   "outputs": [],
   "source": [
    "azure_search_endpoint: str = os.getenv('SEARCH_SERVICE_ENDPOINT') \n",
    "azure_search_key: str = os.getenv('SEARCH_SERVICE_API_KEY')\n",
    "index_name: str = \"azure-cognitive-search-vector-demo\"\n",
    "credential = AzureKeyCredential(azure_search_key)"
   ]
  },
  {
   "cell_type": "code",
   "execution_count": 12,
   "metadata": {},
   "outputs": [],
   "source": [
    "embeddings = OpenAIembeddings()"
   ]
  },
  {
   "cell_type": "markdown",
   "metadata": {},
   "source": [
    "### FinanceBench-Small (to fit Azure AISearch cuota)"
   ]
  },
  {
   "cell_type": "code",
   "execution_count": 39,
   "metadata": {},
   "outputs": [],
   "source": [
    "companies = (\"MICROSOFT_2023_10K.pdf\",\"JOHNSON&JOHNSON_2022Q4_EARNINGS.pdf\",\"Pfizer_2023Q2_10Q.pdf\",\"COSTCO_2021_10K.pdf\",\"BESTBUY_2017_10K.pdf\",\"BESTBUY_2019_10K.pdf\")"
   ]
  },
  {
   "cell_type": "code",
   "execution_count": null,
   "metadata": {},
   "outputs": [
    {
     "name": "stdout",
     "output_type": "stream",
     "text": [
      "MICROSOFT_2023_10K.pdf\n",
      "JOHNSON&JOHNSON_2022Q4_EARNINGS.pdf\n",
      "Pfizer_2023Q2_10Q.pdf\n",
      "COSTCO_2021_10K.pdf\n",
      "BESTBUY_2017_10K.pdf\n",
      "BESTBUY_2019_10K.pdf\n"
     ]
    }
   ],
   "source": [
    "destination_folder = '../../data/financebench'\n",
    "pdf_folder_path = destination_folder\n",
    "documents = []\n",
    "for file in companies:\n",
    "    print(file)\n",
    "    if file.endswith('.pdf'):\n",
    "        pdf_path = os.path.join(pdf_folder_path, file)\n",
    "        loader = PyPDFLoader(pdf_path)\n",
    "        documents.extend(loader.load())"
   ]
  },
  {
   "cell_type": "code",
   "execution_count": null,
   "metadata": {},
   "outputs": [],
   "source": [
    "chunk_size=1024\n",
    "overlap=100\n",
    "text_splitter = RecursiveCharacterTextSplitter(chunk_size=chunk_size, chunk_overlap=overlap, add_start_index=True)\n",
    "chunked_documents = text_splitter.split_documents(documents)"
   ]
  },
  {
   "cell_type": "code",
   "execution_count": null,
   "metadata": {},
   "outputs": [
    {
     "data": {
      "text/plain": [
       "1973"
      ]
     },
     "metadata": {},
     "output_type": "display_data"
    }
   ],
   "source": [
    "len(chunked_documents)"
   ]
  },
  {
   "cell_type": "code",
   "execution_count": 59,
   "metadata": {},
   "outputs": [
    {
     "data": {
      "text/plain": [
       "Document(page_content='UNITED STATES\\nSECURITIES AND EXCHANGE COMMISSION\\nWashington, D.C. 20549\\n \\nFORM \\n10-K\\n \\n \\n☒\\nANNUAL REPORT PURSUANT TO SECTION 13 OR 15(d) OF THE SECURITIES EXCHANGE ACT OF 1934\\n \\n \\n \\nFor the Fiscal Year Ended\\n June 30, \\n2023\\n \\n \\n \\nOR\\n \\n \\n☐\\nTRANSITION REPORT PURSUANT TO SECTION 13 OR 15(d) OF THE SECURITIES EXCHANGE ACT OF 1934\\n \\n \\n \\nFor the Transition Period From                  to\\nCommission File Number \\n001-37845\\n \\n \\nMICROSOFT CORPORATION\\n \\n \\nWASHINGTON\\n \\n91-1144442\\n(STATE OF INCORPORATION)\\n \\n(I.R.S. ID)\\nONE MICROSOFT WAY\\n, \\nREDMOND\\n, \\nWASHINGTON\\n \\n98052-6399\\n(\\n425\\n) \\n882-8080\\nwww.microsoft.com/investor\\n \\n \\n \\n \\n \\nSecurities registered pursuant to Section 12(b) of the Act:\\n \\n \\n \\n \\n \\n \\n \\n \\n \\nTitle of each class\\n \\nTrading Symbol\\n \\nName of exchange on which registered\\n \\n \\n \\n \\n \\nCommon stock, $\\n0.00000625\\n par value per share\\n \\nMSFT\\n \\nNASDAQ\\n3.125% Notes due 2028\\n \\nMSFT\\n \\nNASDAQ\\n2.625% Notes due 2033\\n \\nMSFT\\n \\nNASDAQ\\n \\n \\n \\n \\n \\nSecurities registered pursuant to Section 12(g) of the Act:\\n \\n \\n \\n \\n \\n \\n \\n \\n \\nN\\none', metadata={'source': '../../data/financebench/MICROSOFT_2023_10K.pdf', 'page': 0, 'start_index': 2})"
      ]
     },
     "execution_count": 59,
     "metadata": {},
     "output_type": "execute_result"
    }
   ],
   "source": [
    "chunked_documents[0]"
   ]
  },
  {
   "cell_type": "markdown",
   "metadata": {},
   "source": [
    "## Simple Index"
   ]
  },
  {
   "cell_type": "code",
   "execution_count": 38,
   "metadata": {},
   "outputs": [],
   "source": [
    "index_name: str = \"financebench-small\"\n",
    "vector_store: AzureSearch = AzureSearch(\n",
    "    azure_search_endpoint=azure_search_endpoint,\n",
    "    azure_search_key=azure_search_key,\n",
    "    index_name=index_name,\n",
    "    embedding_function=embeddings.embed_query,\n",
    ")"
   ]
  },
  {
   "cell_type": "markdown",
   "metadata": {},
   "source": [
    "### Insert document in vector db"
   ]
  },
  {
   "cell_type": "code",
   "execution_count": null,
   "metadata": {},
   "outputs": [],
   "source": [
    "vector_store.add_documents(documents=chunked_documents)"
   ]
  },
  {
   "cell_type": "markdown",
   "metadata": {},
   "source": [
    "### Retrieve"
   ]
  },
  {
   "cell_type": "code",
   "execution_count": 52,
   "metadata": {},
   "outputs": [],
   "source": [
    "# Perform a similarity search\n",
    "docs = vector_store.similarity_search(\n",
    "    query=\"What is the Income Statement of Microsoft\",\n",
    "    k=5,\n",
    "    search_type=\"similarity\",\n",
    ")"
   ]
  },
  {
   "cell_type": "code",
   "execution_count": 53,
   "metadata": {},
   "outputs": [
    {
     "name": "stdout",
     "output_type": "stream",
     "text": [
      "manufacturing, marketing, and selling our other products and services; and income taxes.\n",
      "Highlights from fiscal year 2023 compared with fiscal year 2022 included:\n",
      "•\n",
      "Microsoft Cloud revenue increased 22% to $111.6 billion.\n",
      "•\n",
      "Office Commercial products and cloud services revenue increased 10% driven by Office 365 Commercial growth of 13%.\n",
      "•\n",
      "Office Consumer products and cloud services revenue increased 2% and Microsoft 365 Consumer subscribers increased to 67.0 million.\n",
      "•\n",
      "LinkedIn revenue increased 10%.\n",
      "•\n",
      "Dynamics products and cloud services revenue increased 16% driven by Dynamics 365 growth of 24%.\n",
      "•\n",
      "Server products and cloud services revenue increased 19% driven by Azure and other cloud services growth of 29%.\n",
      "•\n",
      "Windows original equipment manufacturer licensing (“Windows OEM”) revenue decreased 25%.\n",
      "•\n",
      "Devices revenue decreased 24%.\n",
      "•\n",
      "Windows Commercial products and cloud services revenue increased 5%.\n",
      "•\n",
      "Xbox content and services revenue decreased 3%.\n",
      " \n",
      "•,\n",
      ",{'id': 'YzI0ZWE1YzMtZTVkMi00MjYzLWE3MjUtMGU4MzliZDVlMjY5', 'source': '../../data/financebench/MICROSOFT_2023_10K.pdf', 'page': 39, 'start_index': 1959}\n",
      "----------------------------------------------------------------------------------------------------\n",
      "PART II\n",
      "Item 8\n",
      " \n",
      "Revenue, classified by significant product and service offerings, was as follows:\n",
      " \n",
      " \n",
      "(In millions)\n",
      " \n",
      " \n",
      " \n",
      " \n",
      " \n",
      " \n",
      " \n",
      " \n",
      " \n",
      " \n",
      "Year Ended June 30,\n",
      " \n",
      "2023\n",
      " \n",
      " \n",
      "2022\n",
      " \n",
      " \n",
      "2021\n",
      " \n",
      " \n",
      " \n",
      " \n",
      " \n",
      "Server products and cloud services\n",
      " \n",
      "$\n",
      "79,970\n",
      " \n",
      " \n",
      "$\n",
      "67,350\n",
      " \n",
      " \n",
      "$\n",
      "52,589\n",
      " \n",
      "Office products and cloud services\n",
      " \n",
      " \n",
      "48,728\n",
      " \n",
      " \n",
      " \n",
      "44,862\n",
      " \n",
      " \n",
      " \n",
      "39,872\n",
      " \n",
      "Windows\n",
      " \n",
      " \n",
      "21,507\n",
      " \n",
      " \n",
      "24,732\n",
      " \n",
      " \n",
      " \n",
      "22,488\n",
      " \n",
      "Gaming\n",
      " \n",
      " \n",
      "15,466\n",
      " \n",
      " \n",
      "16,230\n",
      " \n",
      " \n",
      " \n",
      "15,370\n",
      " \n",
      "LinkedIn\n",
      " \n",
      " \n",
      "15,145\n",
      " \n",
      " \n",
      " \n",
      "13,816\n",
      " \n",
      " \n",
      " \n",
      "10,289\n",
      " \n",
      "Search and news advertising\n",
      " \n",
      " \n",
      "12,208\n",
      " \n",
      " \n",
      " \n",
      "11,591\n",
      " \n",
      " \n",
      " \n",
      "9,267\n",
      " \n",
      "Enterprise Services\n",
      " \n",
      " \n",
      "7,722\n",
      " \n",
      " \n",
      " \n",
      "7,407\n",
      " \n",
      " \n",
      " \n",
      "6,943\n",
      " \n",
      "Devices\n",
      " \n",
      " \n",
      "5,521\n",
      " \n",
      " \n",
      " \n",
      "7,306\n",
      " \n",
      " \n",
      " \n",
      "7,143\n",
      " \n",
      "Dynamics\n",
      " \n",
      " \n",
      "5,437\n",
      " \n",
      " \n",
      "4,687\n",
      " \n",
      " \n",
      " \n",
      "3,754\n",
      " \n",
      "Other\n",
      " \n",
      " \n",
      "211\n",
      " \n",
      " \n",
      " \n",
      "289\n",
      " \n",
      " \n",
      " \n",
      "373\n",
      " \n",
      " \n",
      " \n",
      " \n",
      " \n",
      " \n",
      " \n",
      " \n",
      " \n",
      " \n",
      " \n",
      " \n",
      " \n",
      " \n",
      " \n",
      " \n",
      " \n",
      " \n",
      " \n",
      " \n",
      " \n",
      " \n",
      " \n",
      " \n",
      "Total\n",
      " \n",
      "$\n",
      "211,915\n",
      " \n",
      " \n",
      "$\n",
      "198,270\n",
      " \n",
      " \n",
      "$\n",
      "168,088\n",
      " \n",
      " \n",
      " \n",
      " \n",
      " \n",
      " \n",
      " \n",
      " \n",
      " \n",
      " \n",
      " \n",
      " \n",
      " \n",
      " \n",
      " \n",
      "Our Microsoft Cloud revenue, which includes Azure and other cloud services, Office 365 Commercial, the commercial portion of LinkedIn, Dynamics 365,,\n",
      ",{'id': 'ZDNmM2MxODAtM2M3MC00NThhLTgwNmEtODgxZTM3Yzk1ZWU0', 'source': '../../data/financebench/MICROSOFT_2023_10K.pdf', 'page': 94, 'start_index': 0}\n",
      "----------------------------------------------------------------------------------------------------\n",
      "PART II\n",
      "Item 8\n",
      " \n",
      "REPORT OF INDEPENDENT REGIST\n",
      "ERED PUBLIC ACCOUNTING FIRM\n",
      "To the Stockholders and the Board of Directors of Microsoft Corporation\n",
      " \n",
      "Opinion on the Financial Statements\n",
      "We have audited the accompanying consolidated balance sheets of Microsoft Corporation and subsidiaries (the \"Company\") as of June 30, 2023\n",
      " \n",
      "and 2022, the related consolidated statements of income, comprehensive income, cash flows, and stockholders' equity, for each of the three\n",
      " \n",
      "years in the period ended June 30, 2023, and the related notes (collectively referred to as the \"financial statements\"). In our opinion, the financial\n",
      " \n",
      "statements present fairly, in all material respects, the financial position of the Company as of June 30, 2023 and 2022, and the results of its\n",
      " \n",
      "operations and its cash flows for each of the three years in the period ended June 30, 2023, in conformity with accounting principles generally\n",
      " \n",
      "accepted in the United States of America.,\n",
      ",{'id': 'OTMzNjM5ZDQtYmNlMy00YjEzLWFhMWItOTM4MDAyYjJiZjdi', 'source': '../../data/financebench/MICROSOFT_2023_10K.pdf', 'page': 95, 'start_index': 0}\n",
      "----------------------------------------------------------------------------------------------------\n",
      "•\n",
      "Xbox content and services revenue decreased 3%.\n",
      " \n",
      "•\n",
      "Search and news advertising revenue excluding traffic acquisition costs increased 11%.\n",
      "Industry Trends\n",
      " \n",
      "Our industry is dynamic and highly competitive, with frequent changes in both technologies and business models. Each industry shift is an opportunity to\n",
      " \n",
      "conceive new products, new technologies, or new ideas that can further transform the industry and our business. At Microsoft, we push the boundaries of\n",
      " \n",
      "what is possible through a broad range of research and development activities that seek to identify and address the changing demands of customers and\n",
      " \n",
      "users, industry trends, and competitive forces.\n",
      "40,\n",
      ",{'id': 'YjEwZDA4ZDgtMjlmMS00ZWE2LThkYTQtY2YwMDRlM2Y3OGJi', 'source': '../../data/financebench/MICROSOFT_2023_10K.pdf', 'page': 39, 'start_index': 2874}\n",
      "----------------------------------------------------------------------------------------------------\n",
      "Productivity and Business Processes\n",
      " \n",
      "Revenue increased $5.9 billion or 9%.\n",
      " \n",
      "•\n",
      "Office Commercial products and cloud services revenue increased $3.7 billion or 10%. Office 365 Commercial revenue grew 13% with seat\n",
      " \n",
      "growth of 11%, driven by small and medium business and frontline worker offerings, as well as growth in revenue per user. Office Commercial\n",
      " \n",
      "products revenue declined 21% driven by continued customer shift to cloud offerings.\n",
      " \n",
      "•\n",
      "Office Consumer products and cloud services revenue increased $140 million or 2%. Microsoft 365 Consumer subscribers grew 12% to 67.0\n",
      " \n",
      "million.\n",
      " \n",
      "•\n",
      "LinkedIn revenue increased $1.3 billion or 10% driven by Talent Solutions.\n",
      "•\n",
      "Dynamics products and cloud services revenue increased $750 million or 16% driven by Dynamics 365 growth of 24%.\n",
      " \n",
      "Operating income increased $4.5 billion or 15%.\n",
      "•\n",
      "Gross margin increased $5.8 billion or 12% driven by growth in Office 365 Commercial and LinkedIn, as well as the change in accounting,\n",
      ",{'id': 'YjIzYTM1OWYtZmVjNy00NDU4LTliYTEtYzhjMDBlMjQ0YTRm', 'source': '../../data/financebench/MICROSOFT_2023_10K.pdf', 'page': 44, 'start_index': 872}\n",
      "----------------------------------------------------------------------------------------------------\n"
     ]
    }
   ],
   "source": [
    "for d in docs:\n",
    "    print(f'{d.page_content},\\n,{d.metadata}')\n",
    "    print('-'*100)"
   ]
  },
  {
   "cell_type": "markdown",
   "metadata": {},
   "source": [
    "### Perform a vector similarity search with relevance scores"
   ]
  },
  {
   "cell_type": "code",
   "execution_count": 54,
   "metadata": {},
   "outputs": [
    {
     "name": "stdout",
     "output_type": "stream",
     "text": [
      "[(Document(page_content='manufacturing, marketing, and selling our other products and services; and income taxes.\\nHighlights from fiscal year 2023 compared with fiscal year 2022 included:\\n•\\nMicrosoft Cloud revenue increased 22% to $111.6 billion.\\n•\\nOffice Commercial products and cloud services revenue increased 10% driven by Office 365 Commercial growth of 13%.\\n•\\nOffice Consumer products and cloud services revenue increased 2% and Microsoft 365 Consumer subscribers increased to 67.0 million.\\n•\\nLinkedIn revenue increased 10%.\\n•\\nDynamics products and cloud services revenue increased 16% driven by Dynamics 365 growth of 24%.\\n•\\nServer products and cloud services revenue increased 19% driven by Azure and other cloud services growth of 29%.\\n•\\nWindows original equipment manufacturer licensing (“Windows OEM”) revenue decreased 25%.\\n•\\nDevices revenue decreased 24%.\\n•\\nWindows Commercial products and cloud services revenue increased 5%.\\n•\\nXbox content and services revenue decreased 3%.\\n \\n•', metadata={'id': 'YzI0ZWE1YzMtZTVkMi00MjYzLWE3MjUtMGU4MzliZDVlMjY5', 'source': '../../data/financebench/MICROSOFT_2023_10K.pdf', 'page': 39, 'start_index': 1959}),\n",
      "  0.8759576),\n",
      " (Document(page_content='PART II\\nItem 8\\n \\nRevenue, classified by significant product and service offerings, was as follows:\\n \\n \\n(In millions)\\n \\n \\n \\n \\n \\n \\n \\n \\n \\n \\nYear Ended June 30,\\n \\n2023\\n \\n \\n2022\\n \\n \\n2021\\n \\n \\n \\n \\n \\nServer products and cloud services\\n \\n$\\n79,970\\n \\n \\n$\\n67,350\\n \\n \\n$\\n52,589\\n \\nOffice products and cloud services\\n \\n \\n48,728\\n \\n \\n \\n44,862\\n \\n \\n \\n39,872\\n \\nWindows\\n \\n \\n21,507\\n \\n \\n24,732\\n \\n \\n \\n22,488\\n \\nGaming\\n \\n \\n15,466\\n \\n \\n16,230\\n \\n \\n \\n15,370\\n \\nLinkedIn\\n \\n \\n15,145\\n \\n \\n \\n13,816\\n \\n \\n \\n10,289\\n \\nSearch and news advertising\\n \\n \\n12,208\\n \\n \\n \\n11,591\\n \\n \\n \\n9,267\\n \\nEnterprise Services\\n \\n \\n7,722\\n \\n \\n \\n7,407\\n \\n \\n \\n6,943\\n \\nDevices\\n \\n \\n5,521\\n \\n \\n \\n7,306\\n \\n \\n \\n7,143\\n \\nDynamics\\n \\n \\n5,437\\n \\n \\n4,687\\n \\n \\n \\n3,754\\n \\nOther\\n \\n \\n211\\n \\n \\n \\n289\\n \\n \\n \\n373\\n \\n \\n \\n \\n \\n \\n \\n \\n \\n \\n \\n \\n \\n \\n \\n \\n \\n \\n \\n \\n \\n \\n \\n \\nTotal\\n \\n$\\n211,915\\n \\n \\n$\\n198,270\\n \\n \\n$\\n168,088\\n \\n \\n \\n \\n \\n \\n \\n \\n \\n \\n \\n \\n \\n \\n \\nOur Microsoft Cloud revenue, which includes Azure and other cloud services, Office 365 Commercial, the commercial portion of LinkedIn, Dynamics 365,', metadata={'id': 'ZDNmM2MxODAtM2M3MC00NThhLTgwNmEtODgxZTM3Yzk1ZWU0', 'source': '../../data/financebench/MICROSOFT_2023_10K.pdf', 'page': 94, 'start_index': 0}),\n",
      "  0.8726111),\n",
      " (Document(page_content='PART II\\nItem 8\\n \\nREPORT OF INDEPENDENT REGIST\\nERED PUBLIC ACCOUNTING FIRM\\nTo the Stockholders and the Board of Directors of Microsoft Corporation\\n \\nOpinion on the Financial Statements\\nWe have audited the accompanying consolidated balance sheets of Microsoft Corporation and subsidiaries (the \"Company\") as of June 30, 2023\\n \\nand 2022, the related consolidated statements of income, comprehensive income, cash flows, and stockholders\\' equity, for each of the three\\n \\nyears in the period ended June 30, 2023, and the related notes (collectively referred to as the \"financial statements\"). In our opinion, the financial\\n \\nstatements present fairly, in all material respects, the financial position of the Company as of June 30, 2023 and 2022, and the results of its\\n \\noperations and its cash flows for each of the three years in the period ended June 30, 2023, in conformity with accounting principles generally\\n \\naccepted in the United States of America.', metadata={'id': 'OTMzNjM5ZDQtYmNlMy00YjEzLWFhMWItOTM4MDAyYjJiZjdi', 'source': '../../data/financebench/MICROSOFT_2023_10K.pdf', 'page': 95, 'start_index': 0}),\n",
      "  0.86758983),\n",
      " (Document(page_content='•\\nXbox content and services revenue decreased 3%.\\n \\n•\\nSearch and news advertising revenue excluding traffic acquisition costs increased 11%.\\nIndustry Trends\\n \\nOur industry is dynamic and highly competitive, with frequent changes in both technologies and business models. Each industry shift is an opportunity to\\n \\nconceive new products, new technologies, or new ideas that can further transform the industry and our business. At Microsoft, we push the boundaries of\\n \\nwhat is possible through a broad range of research and development activities that seek to identify and address the changing demands of customers and\\n \\nusers, industry trends, and competitive forces.\\n40', metadata={'id': 'YjEwZDA4ZDgtMjlmMS00ZWE2LThkYTQtY2YwMDRlM2Y3OGJi', 'source': '../../data/financebench/MICROSOFT_2023_10K.pdf', 'page': 39, 'start_index': 2874}),\n",
      "  0.8610545)]\n"
     ]
    }
   ],
   "source": [
    "docs_and_scores = vector_store.similarity_search_with_relevance_scores(\n",
    "    query=\"What is the Income Statement of Microsoft\",\n",
    "    k=4,\n",
    "    score_threshold=0.80,\n",
    ")\n",
    "from pprint import pprint\n",
    "pprint(docs_and_scores)"
   ]
  }
 ],
 "metadata": {
  "kernelspec": {
   "display_name": "Python 3",
   "language": "python",
   "name": "python3"
  },
  "language_info": {
   "codemirror_mode": {
    "name": "ipython",
    "version": 3
   },
   "file_extension": ".py",
   "mimetype": "text/x-python",
   "name": "python",
   "nbconvert_exporter": "python",
   "pygments_lexer": "ipython3",
   "version": "3.9.13"
  },
  "orig_nbformat": 4
 },
 "nbformat": 4,
 "nbformat_minor": 2
}
