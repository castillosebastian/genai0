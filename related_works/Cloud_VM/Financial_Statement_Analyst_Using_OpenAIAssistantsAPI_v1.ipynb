{
  "nbformat": 4,
  "nbformat_minor": 0,
  "metadata": {
    "colab": {
      "provenance": [],
      "toc_visible": true
    },
    "kernelspec": {
      "name": "python3",
      "display_name": "Python 3"
    },
    "language_info": {
      "name": "python"
    }
  },
  "cells": [
    {
      "cell_type": "markdown",
      "source": [
        "# Mastering OpenAI Assistants API: Building an AI Financial Analyst to Forecast Stock Trend - By Yanli LIU\n",
        "In this demo, we will create an AI Financial Analyst with the following essential capabilities:\n",
        "\n",
        "\n",
        "\n",
        "1.   Answering General Finance Questions\n",
        "2.   Guiding Through Financial Statements\n",
        "3.   Conducting In-Depth Data Analysis\n",
        "4.   Emailing Summaries and Key Insights"
      ],
      "metadata": {
        "id": "Q7omPC4I1dMR"
      }
    },
    {
      "cell_type": "markdown",
      "source": [
        "# Step 1 : Install necessary packages and set up environment"
      ],
      "metadata": {
        "id": "ObNtM25DExQ1"
      }
    },
    {
      "cell_type": "code",
      "execution_count": null,
      "metadata": {
        "id": "AHgxggMh175B",
        "colab": {
          "base_uri": "https://localhost:8080/"
        },
        "outputId": "a21d5cd4-2a98-4aca-8610-bc0b6ad0f8d1"
      },
      "outputs": [
        {
          "output_type": "stream",
          "name": "stdout",
          "text": [
            "Collecting openai\n",
            "  Downloading openai-1.3.5-py3-none-any.whl (220 kB)\n",
            "\u001b[?25l     \u001b[90m━━━━━━━━━━━━━━━━━━━━━━━━━━━━━━━━━━━━━━━━\u001b[0m \u001b[32m0.0/220.8 kB\u001b[0m \u001b[31m?\u001b[0m eta \u001b[36m-:--:--\u001b[0m\r\u001b[2K     \u001b[91m━━━━━━━━━━━━━━━━━━━━━━━━━\u001b[0m\u001b[91m╸\u001b[0m\u001b[90m━━━━━━━━━━━━━━\u001b[0m \u001b[32m143.4/220.8 kB\u001b[0m \u001b[31m4.2 MB/s\u001b[0m eta \u001b[36m0:00:01\u001b[0m\r\u001b[2K     \u001b[90m━━━━━━━━━━━━━━━━━━━━━━━━━━━━━━━━━━━━━━━━\u001b[0m \u001b[32m220.8/220.8 kB\u001b[0m \u001b[31m4.5 MB/s\u001b[0m eta \u001b[36m0:00:00\u001b[0m\n",
            "\u001b[?25hRequirement already satisfied: anyio<4,>=3.5.0 in /usr/local/lib/python3.10/dist-packages (from openai) (3.7.1)\n",
            "Requirement already satisfied: distro<2,>=1.7.0 in /usr/lib/python3/dist-packages (from openai) (1.7.0)\n",
            "Collecting httpx<1,>=0.23.0 (from openai)\n",
            "  Downloading httpx-0.25.1-py3-none-any.whl (75 kB)\n",
            "\u001b[2K     \u001b[90m━━━━━━━━━━━━━━━━━━━━━━━━━━━━━━━━━━━━━━━━\u001b[0m \u001b[32m75.0/75.0 kB\u001b[0m \u001b[31m5.2 MB/s\u001b[0m eta \u001b[36m0:00:00\u001b[0m\n",
            "\u001b[?25hRequirement already satisfied: pydantic<3,>=1.9.0 in /usr/local/lib/python3.10/dist-packages (from openai) (1.10.13)\n",
            "Requirement already satisfied: tqdm>4 in /usr/local/lib/python3.10/dist-packages (from openai) (4.66.1)\n",
            "Requirement already satisfied: typing-extensions<5,>=4.5 in /usr/local/lib/python3.10/dist-packages (from openai) (4.5.0)\n",
            "Requirement already satisfied: idna>=2.8 in /usr/local/lib/python3.10/dist-packages (from anyio<4,>=3.5.0->openai) (3.4)\n",
            "Requirement already satisfied: sniffio>=1.1 in /usr/local/lib/python3.10/dist-packages (from anyio<4,>=3.5.0->openai) (1.3.0)\n",
            "Requirement already satisfied: exceptiongroup in /usr/local/lib/python3.10/dist-packages (from anyio<4,>=3.5.0->openai) (1.1.3)\n",
            "Requirement already satisfied: certifi in /usr/local/lib/python3.10/dist-packages (from httpx<1,>=0.23.0->openai) (2023.7.22)\n",
            "Collecting httpcore (from httpx<1,>=0.23.0->openai)\n",
            "  Downloading httpcore-1.0.2-py3-none-any.whl (76 kB)\n",
            "\u001b[2K     \u001b[90m━━━━━━━━━━━━━━━━━━━━━━━━━━━━━━━━━━━━━━━━\u001b[0m \u001b[32m76.9/76.9 kB\u001b[0m \u001b[31m4.2 MB/s\u001b[0m eta \u001b[36m0:00:00\u001b[0m\n",
            "\u001b[?25hCollecting h11<0.15,>=0.13 (from httpcore->httpx<1,>=0.23.0->openai)\n",
            "  Downloading h11-0.14.0-py3-none-any.whl (58 kB)\n",
            "\u001b[2K     \u001b[90m━━━━━━━━━━━━━━━━━━━━━━━━━━━━━━━━━━━━━━━━\u001b[0m \u001b[32m58.3/58.3 kB\u001b[0m \u001b[31m8.7 MB/s\u001b[0m eta \u001b[36m0:00:00\u001b[0m\n",
            "\u001b[?25hInstalling collected packages: h11, httpcore, httpx, openai\n",
            "\u001b[31mERROR: pip's dependency resolver does not currently take into account all the packages that are installed. This behaviour is the source of the following dependency conflicts.\n",
            "llmx 0.0.15a0 requires cohere, which is not installed.\n",
            "llmx 0.0.15a0 requires tiktoken, which is not installed.\u001b[0m\u001b[31m\n",
            "\u001b[0mSuccessfully installed h11-0.14.0 httpcore-1.0.2 httpx-0.25.1 openai-1.3.5\n"
          ]
        }
      ],
      "source": [
        "!pip install --upgrade openai"
      ]
    },
    {
      "cell_type": "code",
      "source": [
        "OPENAI_KEY=\"sk-xxxxx\" # Your OPENAI API Key"
      ],
      "metadata": {
        "id": "-NbvF-At2Dz6"
      },
      "execution_count": null,
      "outputs": []
    },
    {
      "cell_type": "markdown",
      "source": [
        "We'll define also a pretty printing helper functions"
      ],
      "metadata": {
        "id": "Qh57Xbz9-I1A"
      }
    },
    {
      "cell_type": "code",
      "source": [
        "import json\n",
        "\n",
        "def show_json(obj):\n",
        "    display(json.loads(obj.model_dump_json()))"
      ],
      "metadata": {
        "id": "LQxRturD-EiN"
      },
      "execution_count": null,
      "outputs": []
    },
    {
      "cell_type": "markdown",
      "source": [
        "Define text wrapping"
      ],
      "metadata": {
        "id": "wgvrwwexyU4-"
      }
    },
    {
      "cell_type": "code",
      "source": [
        "from IPython.display import HTML, display\n",
        "\n",
        "def set_css():\n",
        "  display(HTML('''\n",
        "  <style>\n",
        "    pre {\n",
        "        white-space: pre-wrap;\n",
        "    }\n",
        "  </style>\n",
        "  '''))\n",
        "\n",
        "get_ipython().events.register('pre_run_cell', set_css)"
      ],
      "metadata": {
        "id": "sGsQQ56uyTaO"
      },
      "execution_count": null,
      "outputs": []
    },
    {
      "cell_type": "markdown",
      "source": [
        "# Step 2: Create an Assistant"
      ],
      "metadata": {
        "id": "AuuFDNM-2GhM"
      }
    },
    {
      "cell_type": "code",
      "source": [
        "from openai import OpenAI\n",
        "client = OpenAI(api_key=OPENAI_KEY)"
      ],
      "metadata": {
        "id": "qD9hU6Y82LWV",
        "colab": {
          "base_uri": "https://localhost:8080/",
          "height": 17
        },
        "outputId": "880fab9d-64f7-40f1-c367-255a76bf5747"
      },
      "execution_count": null,
      "outputs": [
        {
          "output_type": "display_data",
          "data": {
            "text/plain": [
              "<IPython.core.display.HTML object>"
            ],
            "text/html": [
              "\n",
              "  <style>\n",
              "    pre {\n",
              "        white-space: pre-wrap;\n",
              "    }\n",
              "  </style>\n",
              "  "
            ]
          },
          "metadata": {}
        }
      ]
    },
    {
      "cell_type": "code",
      "source": [
        "assistant = client.beta.assistants.create(\n",
        "    name = \"Finance Insight Analyst\",\n",
        "    instructions = \"You are a helpful  financial analyst expert and your are tailored for in-depth SEC 10-Q filings analysis, focusing on management discussions and financial results.\",\n",
        "    tools = [{\"type\":\"code_interpreter\"}, {\"type\": \"retrieval\"}],\n",
        "    model = \"gpt-4-1106-preview\"\n",
        ")"
      ],
      "metadata": {
        "id": "HCn4UrB12PWe"
      },
      "execution_count": null,
      "outputs": []
    },
    {
      "cell_type": "markdown",
      "source": [
        "Regardless of whether you create your Assistant through the Dashboard or with the API, you'll want to keep track of the Assistant ID. This is how you'll refer to your Assistant throughout Threads and Runs."
      ],
      "metadata": {
        "id": "fp40yDkk_DvY"
      }
    },
    {
      "cell_type": "code",
      "source": [
        "show_json(assistant)"
      ],
      "metadata": {
        "colab": {
          "base_uri": "https://localhost:8080/",
          "height": 382
        },
        "id": "a1ti5UN8-nDN",
        "outputId": "9c136ae7-8620-4424-9104-97ebe5508c6d"
      },
      "execution_count": null,
      "outputs": [
        {
          "output_type": "display_data",
          "data": {
            "text/plain": [
              "{'id': 'asst_mGUIYqwif4EqRhUSBpDKtRkc',\n",
              " 'created_at': 1700544757,\n",
              " 'description': None,\n",
              " 'file_ids': ['file-CZfGA5OmI93RzpHEaoNKIMxU'],\n",
              " 'instructions': 'You are a helpful expert financial analyst and your are tailored for in-depth SEC 10-Q filings analysis, focusing on management discussions and financial results.',\n",
              " 'metadata': {},\n",
              " 'model': 'gpt-4-1106-preview',\n",
              " 'name': 'Finance Insight Analyst',\n",
              " 'object': 'assistant',\n",
              " 'tools': [{'type': 'code_interpreter'},\n",
              "  {'type': 'retrieval'},\n",
              "  {'function': {'name': 'send_email',\n",
              "    'parameters': {'type': 'object',\n",
              "     'properties': {'email': {'type': 'string',\n",
              "       'description': 'the email address of the user who receive the email'},\n",
              "      'subject': {'type': 'string',\n",
              "       'description': 'subject line of the email'},\n",
              "      'textbody': {'type': 'string',\n",
              "       'description': 'the body of the email.'}}},\n",
              "    'description': 'A function that takes in a user email, a subject line and body text and sends an email to the email address provided'},\n",
              "   'type': 'function'}]}"
            ]
          },
          "metadata": {}
        }
      ]
    },
    {
      "cell_type": "code",
      "source": [
        "# FINANCE_ASSISTANT_ID = assistant.id  # or a hard-coded ID like \"asst-...\"\n",
        "FINANCE_ASSISTANT_ID = \"asst_mGUIYqwif4EqRhUSBpDKtRkc\""
      ],
      "metadata": {
        "id": "yWxZjlcWHJAe",
        "colab": {
          "base_uri": "https://localhost:8080/",
          "height": 17
        },
        "outputId": "3d20a4a4-10c6-4b95-951c-1e2c79224ed5"
      },
      "execution_count": null,
      "outputs": [
        {
          "output_type": "display_data",
          "data": {
            "text/plain": [
              "<IPython.core.display.HTML object>"
            ],
            "text/html": [
              "\n",
              "  <style>\n",
              "    pre {\n",
              "        white-space: pre-wrap;\n",
              "    }\n",
              "  </style>\n",
              "  "
            ]
          },
          "metadata": {}
        }
      ]
    },
    {
      "cell_type": "markdown",
      "source": [
        "# Step 3: Create a Thread"
      ],
      "metadata": {
        "id": "x8cx6VDsCdBC"
      }
    },
    {
      "cell_type": "markdown",
      "source": [
        "We'll create a thread. The thread will hold the state of our conversation, so we don't have re-send the entire message history each time."
      ],
      "metadata": {
        "id": "qGf7Rq_UGJWN"
      }
    },
    {
      "cell_type": "code",
      "source": [
        "thread1 = client.beta.threads.create()"
      ],
      "metadata": {
        "id": "60YAeoIbGIgV",
        "colab": {
          "base_uri": "https://localhost:8080/",
          "height": 17
        },
        "outputId": "e89fe504-3f39-4fc3-c8ac-80fb61c5963e"
      },
      "execution_count": null,
      "outputs": [
        {
          "output_type": "display_data",
          "data": {
            "text/plain": [
              "<IPython.core.display.HTML object>"
            ],
            "text/html": [
              "\n",
              "  <style>\n",
              "    pre {\n",
              "        white-space: pre-wrap;\n",
              "    }\n",
              "  </style>\n",
              "  "
            ]
          },
          "metadata": {}
        }
      ]
    },
    {
      "cell_type": "markdown",
      "source": [
        "# Step 4:  Submit a message to the thread, trigger the run, get the response"
      ],
      "metadata": {
        "id": "7jMTdnE5Gzjz"
      }
    },
    {
      "cell_type": "markdown",
      "source": [
        "In this macro step, we'll combine the 3 follwing substeps :\n",
        "1. Add Messages to the Thread as the user ask questions.\n",
        "2. Run the Assistant on the Thread to trigger responses. This automatically calls the relevant tools.\n",
        "3. Retrieve and display the Assistant's Response\n",
        "\n",
        "To be noted that creating a Run is an asynchronous operation. It will return immediately with the Run's metadata, which includes a status that will initially be set to queued. The status will be updated as the Assistant performs operations (like using tools and adding messages).\n",
        "To know when the Assistant has completed processing, we can poll the Run in a loop."
      ],
      "metadata": {
        "id": "ztsWMWMyCFZA"
      }
    },
    {
      "cell_type": "markdown",
      "source": [
        "I've defined the following functions that I can reuse:\n",
        "\n",
        "\n",
        "*   submit_message: submits a new user message to a thread and run the assistant on the thread\n",
        "*   wait_on_run: this help us to to know when the Assistant has completed processing\n",
        "get_respons\n",
        "\n",
        "*   get_response: once the run is completed, we retrive the response from the thread.\n",
        "*   pretty_print(messages):this helper function prints the user messages and assistants messages in a prettier way\n",
        "\n",
        "\n",
        "\n",
        "\n"
      ],
      "metadata": {
        "id": "PAzb39GlJWi2"
      }
    },
    {
      "cell_type": "code",
      "source": [
        "def submit_message(assistant_id, thread, user_message):\n",
        "    client.beta.threads.messages.create(\n",
        "        thread_id=thread.id, role=\"user\", content=user_message\n",
        "    )\n",
        "    return client.beta.threads.runs.create(\n",
        "        thread_id=thread.id,\n",
        "        assistant_id=assistant_id,\n",
        "    )\n",
        "\n",
        "\n",
        "import time\n",
        "# Waiting in a loop\n",
        "def wait_on_run(run, thread):\n",
        "    while run.status == \"queued\" or run.status == \"in_progress\":\n",
        "        run = client.beta.threads.runs.retrieve(\n",
        "            thread_id=thread.id,\n",
        "            run_id=run.id,\n",
        "        )\n",
        "        time.sleep(0.5)\n",
        "    return run\n",
        "\n",
        "def get_response(thread):\n",
        "    return client.beta.threads.messages.list(thread_id=thread.id, order=\"asc\")\n",
        "\n"
      ],
      "metadata": {
        "id": "YZpGVXWUowE5",
        "colab": {
          "base_uri": "https://localhost:8080/",
          "height": 17
        },
        "outputId": "e5f0f82f-f800-48e0-83c0-bd97b9c39390"
      },
      "execution_count": null,
      "outputs": [
        {
          "output_type": "display_data",
          "data": {
            "text/plain": [
              "<IPython.core.display.HTML object>"
            ],
            "text/html": [
              "\n",
              "  <style>\n",
              "    pre {\n",
              "        white-space: pre-wrap;\n",
              "    }\n",
              "  </style>\n",
              "  "
            ]
          },
          "metadata": {}
        }
      ]
    },
    {
      "cell_type": "markdown",
      "source": [
        "# Step 5 : Get the response"
      ],
      "metadata": {
        "id": "Z-b44YiUv6Vn"
      }
    },
    {
      "cell_type": "markdown",
      "source": [
        "This helper function prints the user messages and assistants messages in a prettier way"
      ],
      "metadata": {
        "id": "olSFink2wFC5"
      }
    },
    {
      "cell_type": "code",
      "source": [
        "\n",
        "# Pretty printing helper\n",
        "def pretty_print(messages):\n",
        "    print(\"# Messages\")\n",
        "    for m in messages:\n",
        "        print(f\"{m.role}: {m.content[0].text.value}\")\n",
        "    print()\n"
      ],
      "metadata": {
        "id": "0R1k9otIwCFH",
        "colab": {
          "base_uri": "https://localhost:8080/",
          "height": 17
        },
        "outputId": "93a9a3e2-e02a-48a3-d67a-d5fd00a21658"
      },
      "execution_count": null,
      "outputs": [
        {
          "output_type": "display_data",
          "data": {
            "text/plain": [
              "<IPython.core.display.HTML object>"
            ],
            "text/html": [
              "\n",
              "  <style>\n",
              "    pre {\n",
              "        white-space: pre-wrap;\n",
              "    }\n",
              "  </style>\n",
              "  "
            ]
          },
          "metadata": {}
        }
      ]
    },
    {
      "cell_type": "markdown",
      "source": [
        "Now, let's try out and  sumbit a message, trigger the run and get the responses once the run terminated"
      ],
      "metadata": {
        "id": "dYuLFKKjHQRV"
      }
    },
    {
      "cell_type": "code",
      "source": [
        "run1 = submit_message(FINANCE_ASSISTANT_ID, thread1, \"What is SEC Q-10 filing?\")\n",
        "run1 = wait_on_run(run1, thread1)\n",
        "pretty_print(get_response(thread1))"
      ],
      "metadata": {
        "colab": {
          "base_uri": "https://localhost:8080/",
          "height": 564
        },
        "id": "DVD0FLldBHto",
        "outputId": "1c3d90a9-9f59-4487-cb06-37f3ede095d8"
      },
      "execution_count": null,
      "outputs": [
        {
          "output_type": "display_data",
          "data": {
            "text/plain": [
              "<IPython.core.display.HTML object>"
            ],
            "text/html": [
              "\n",
              "  <style>\n",
              "    pre {\n",
              "        white-space: pre-wrap;\n",
              "    }\n",
              "  </style>\n",
              "  "
            ]
          },
          "metadata": {}
        },
        {
          "output_type": "stream",
          "name": "stdout",
          "text": [
            "# Messages\n",
            "user: What is SEC Q-10 filing?\n",
            "assistant: The SEC Form 10-Q is a comprehensive report of financial performance that must be submitted quarterly by all public companies to the Securities and Exchange Commission (SEC) in the United States. It provides a continuation of the financial information and disclosures required by the SEC and is a more frequent update on the company's financial position than the annual Form 10-K filing.\n",
            "\n",
            "Key components of the 10-Q filing include:\n",
            "\n",
            "1. **Financial Statements**: This section contains unaudited financial statements such as the balance sheet, income statement, statement of cash flows, and statement of stockholders' equity.\n",
            "\n",
            "2. **Management's Discussion and Analysis of Financial Condition and Results of Operations (MD&A)**: Here, the company's management discusses the financial results and condition of the company, including any significant changes from the previous report, trends or risks that the company may be facing, and forward-looking statements.\n",
            "\n",
            "3. **Quantitative and Qualitative Disclosures About Market Risk**: This part involves discussion about exposure to market risk, such as interest rate risk, foreign exchange risk, commodity price risk, and how the company manages those risks.\n",
            "\n",
            "4. **Controls and Procedures**: The report includes a statement of the effectiveness of the company's internal controls over financial reporting and any changes in those controls that might materially affect those controls.\n",
            "\n",
            "5. **Legal Proceedings**: Any material legal proceedings that the company is involved with will be disclosed here.\n",
            "\n",
            "6. **Risk Factors**: Like the 10-K, the 10-Q includes any additional risk factors that investors should be aware of which could potentially affect the company’s operations or financial results.\n",
            "\n",
            "The Form 10-Q is filed after the end of each of the first three fiscal quarters of the company's year. The fourth quarter's financial results are included in the Form 10-K, so there is no 10-Q filing at the end of the fourth quarter. The deadline for a 10-Q filing is typically 40 or 45 days after the quarter ends, depending on the size of the company.\n",
            "\n"
          ]
        }
      ]
    },
    {
      "cell_type": "code",
      "source": [
        "# Thank our assistant on Thread 1 :)\n",
        "run2 = submit_message(FINANCE_ASSISTANT_ID, thread1, \"Thank you!\")\n",
        "run2 = wait_on_run(run2, thread1)\n",
        "pretty_print(get_response(thread1))"
      ],
      "metadata": {
        "colab": {
          "base_uri": "https://localhost:8080/"
        },
        "id": "wjKPd-xyphOh",
        "outputId": "321190fe-be0e-47e5-b888-e74796417e05"
      },
      "execution_count": null,
      "outputs": [
        {
          "output_type": "stream",
          "name": "stdout",
          "text": [
            "# Messages\n",
            "user: What is SEC Q-10 filing?\n",
            "assistant: The SEC Form 10-Q is a comprehensive report of financial performance that must be submitted quarterly by all public companies to the U.S. Securities and Exchange Commission (SEC). It is one of the many forms that public companies are required to file with the SEC.\n",
            "\n",
            "The contents of the 10-Q include:\n",
            "\n",
            "1. **Financial Statements**: This includes unaudited income statements, balance sheets, statement of cash flows, and statement of shareholders' equity. These statements provide a view of the company's financial health during the quarter.\n",
            "\n",
            "2. **Management's Discussion and Analysis (MD&A)**: This section provides the company's perspective on the financial results, including explanations of the operations, new developments, and any known trends or uncertainties that the company is facing.\n",
            "\n",
            "3. **Quantitative and Qualitative Disclosures about Market Risk**: This includes information about the company's exposure to market risk, such as interest rate risk, foreign currency exchange risk, commodity price risk, and other relevant market risks.\n",
            "\n",
            "4. **Controls and Procedures**: Description of the company’s internal controls over financial reporting and its disclosure controls and procedures, including any changes in those controls or procedures during the reporting period.\n",
            "\n",
            "5. **Legal Proceedings and Other Disclosures**: Information on any significant legal proceedings involving the company, its subsidiaries, and any other material events that may impact investors.\n",
            "\n",
            "6. **Notes to Financial Statements**: This section provides detailed explanations and additional context for the figures presented in the financial statements.\n",
            "\n",
            "7. **Exhibits**: A list of legal documents and agreements that provide additional insights into the company's operations and financials usually accompanies the filing.\n",
            "\n",
            "The Form 10-Q is less detailed than the annual Form 10-K, however, it provides investors with a continuous view of a company's financial position during the year. Its timely nature makes it a valuable document for understanding a company's quarter-over-quarter and year-over-year performance. Companies are required to file their 10-Qs 40 or 45 days after the end of their fiscal quarter, depending on the size of the company.\n",
            "user: Thank you!\n",
            "assistant: You're welcome! If you have any more questions or need further information on financial reports, investing, or any other topic, feel free to ask. Happy to help!\n",
            "\n"
          ]
        }
      ]
    },
    {
      "cell_type": "markdown",
      "source": [
        "# Use case 1:  Asking questions on the file\n"
      ],
      "metadata": {
        "id": "HhHY-k4oyLKy"
      }
    },
    {
      "cell_type": "code",
      "source": [
        "# Upload the file\n",
        "file = client.files.create(\n",
        "    file=open(\n",
        "        \"tsla-20231018-10Q.pdf\",\n",
        "        \"rb\",\n",
        "    ),\n",
        "    purpose=\"assistants\",\n",
        ")\n",
        "# Update Assistant\n",
        "assistant = client.beta.assistants.update(\n",
        "    FINANCE_ASSISTANT_ID,\n",
        "    file_ids=[file.id],\n",
        ")\n",
        "show_json(assistant)"
      ],
      "metadata": {
        "colab": {
          "base_uri": "https://localhost:8080/",
          "height": 208
        },
        "id": "tMnPkW44qhQK",
        "outputId": "6d13a914-1348-467a-e7f8-da1e8e996ab6"
      },
      "execution_count": null,
      "outputs": [
        {
          "output_type": "display_data",
          "data": {
            "text/plain": [
              "{'id': 'asst_xiJ8bYNSctZMpwe7CJcC6iI1',\n",
              " 'created_at': 1700335744,\n",
              " 'description': None,\n",
              " 'file_ids': ['file-CZfGA5OmI93RzpHEaoNKIMxU'],\n",
              " 'instructions': 'You are a helpful expert financial analyst and your are tailored for in-depth SEC 10-Q filings analysis, focusing on management discussions and financial results.',\n",
              " 'metadata': {},\n",
              " 'model': 'gpt-4-1106-preview',\n",
              " 'name': 'Finance Insight Analyst',\n",
              " 'object': 'assistant',\n",
              " 'tools': [{'type': 'code_interpreter'}, {'type': 'retrieval'}]}"
            ]
          },
          "metadata": {}
        }
      ]
    },
    {
      "cell_type": "markdown",
      "source": [
        "Once the file is uploaded, it is persisted and we can find it though the following"
      ],
      "metadata": {
        "id": "KVacAQjzYTfj"
      }
    },
    {
      "cell_type": "code",
      "source": [
        "uploaded_files = client.files.list()\n",
        "file_objects = list(filter(lambda x: x.filename == \"tsla-20231018-10Q.pdf\", uploaded_files.data))\n",
        "\n",
        "if len(file_objects) > 0:\n",
        "  file_id = file_objects[0].id\n",
        "\n",
        "# if the_file_id:\n",
        "#   delete_status = openai_client.files.delete(the_file_id)"
      ],
      "metadata": {
        "id": "EuYh5RalfsDo"
      },
      "execution_count": null,
      "outputs": []
    },
    {
      "cell_type": "markdown",
      "source": [
        "Let's ask a question on the file"
      ],
      "metadata": {
        "id": "E9haz-6nMEFB"
      }
    },
    {
      "cell_type": "code",
      "source": [
        "thread = client.beta.threads.create()\n",
        "run = submit_message(FINANCE_ASSISTANT_ID, thread, \"Summarize the management discussion in this 10K filing and list key takeaways from this financial result\")\n",
        "run = wait_on_run(run, thread)\n",
        "pretty_print(get_response(thread))"
      ],
      "metadata": {
        "colab": {
          "base_uri": "https://localhost:8080/",
          "height": 674
        },
        "id": "3bZhMpaGBpm9",
        "outputId": "7c3c76e3-8bde-41e1-d2ee-16671260edd0"
      },
      "execution_count": null,
      "outputs": [
        {
          "output_type": "display_data",
          "data": {
            "text/plain": [
              "<IPython.core.display.HTML object>"
            ],
            "text/html": [
              "\n",
              "  <style>\n",
              "    pre {\n",
              "        white-space: pre-wrap;\n",
              "    }\n",
              "  </style>\n",
              "  "
            ]
          },
          "metadata": {}
        },
        {
          "output_type": "stream",
          "name": "stdout",
          "text": [
            "# Messages\n",
            "user: Summarize the management discussion in this 10K filing and list key takeaways from this financial result\n",
            "assistant: The management discussion section from the SEC 10-Q filing highlights several key aspects of the company's operations and outlook:\n",
            "\n",
            "1. **Production Line Upgrades:** The company brought down several production lines for upgrades at various factories, which led to a sequential decline in production volumes.\n",
            "\n",
            "2. **Delivery Rate Smoothing:** Efforts to smooth out the delivery rate across the quarter proved successful, with September accounting for approximately 40% of Q3 deliveries this year compared to 65% for the same period in the previous year【9†source】.\n",
            "\n",
            "3. **Production Ramps and New Products:**\n",
            "   - Pilot production of the Cybertruck has commenced at Gigafactory Texas with initial deliveries on track for the year.\n",
            "   - The Model Y production rate in Texas is expected to grow gradually as the company ramps up additional supply chain needs.\n",
            "   - The Gigafactory Shanghai has been running near full capacity for several quarters with no expected meaningful increase in weekly production rate; it remains the main export hub.\n",
            "   - The production ramp of Model Y will be gradual in Europe where it has been the best-selling vehicle year-to-date.\n",
            "\n",
            "4. **Artificial Intelligence and Software Improvements:** Key developments in AI include, commissioning one of the world's largest supercomputers to accelerate AI development, enhancement of the Full Self-Driving (FSD) Capability through accumulated miles, and improvements to the vehicle and rental software experience, including Tesla app access for rentals through Hertz.\n",
            "\n",
            "5. **Cost Reduction and Manufacturing:** Despite macroeconomic challenges and planned factory shutdowns, the company continues to work on reducing the average vehicle cost, which was around $37,500. For heavy vehicles like Cybertruck, they plan to adopt an 800-volt high voltage powertrain architecture for notable cost savings.\n",
            "\n",
            "6. **Services and Energy Products:**\n",
            "   - Energy storage deployments increased by 90% YoY in Q3 to a record high of 4.0 GWh.\n",
            "   - Solar deployments decreased due to high interest rates and the end of net metering in California.\n",
            "   - The Services and Other business segment grew, with Supercharging, insurance, and body shop & part sales being the main profit drivers.\n",
            "\n",
            "7. **Outlook and Growth Targets:**\n",
            "   - The company plans to increase production as quickly as possible, in alignment with a long-term growth target of a 50% Compound Annual Growth Rate (CAGR).\n",
            "   - For 2023, they expect to remain ahead of this long-term CAGR with around 1.8 million vehicles produced【9†source】.\n",
            "\n",
            "These takeaways indicate a mix of challenges and advancements in Tesla's operations, underscoring their continued innovation in product development and software, as well as their emphasis on growth and efficiency in production and energy solutions.\n",
            "\n"
          ]
        }
      ]
    },
    {
      "cell_type": "markdown",
      "source": [
        "# Use Case 2: Asking questions requiring the code interpreter"
      ],
      "metadata": {
        "id": "CwpcuybazrnI"
      }
    },
    {
      "cell_type": "markdown",
      "source": [
        "1. Extract financial data in the file and save it in a CSV"
      ],
      "metadata": {
        "id": "EtDa_ErvMjty"
      }
    },
    {
      "cell_type": "code",
      "source": [
        "run = submit_message(FINANCE_ASSISTANT_ID, thread, \"Can you extract the financial summary data et put it in CSV\")\n",
        "run = wait_on_run(run, thread)\n",
        "messages = get_response(thread)"
      ],
      "metadata": {
        "id": "iK051gHXzoHN"
      },
      "execution_count": null,
      "outputs": []
    },
    {
      "cell_type": "code",
      "source": [
        "file_path = messages.data[-1].content[0].text.annotations[0].file_path.file_id\n",
        "\n",
        "file_name = client.files.with_raw_response.retrieve_content(file_path)\n",
        "output_file_name = \"data.csv\"\n",
        "with open(output_file_name, \"wb\") as file:\n",
        "    file.write(file_name.content)\n"
      ],
      "metadata": {
        "id": "V05YV4de0yCb"
      },
      "execution_count": null,
      "outputs": []
    },
    {
      "cell_type": "code",
      "source": [
        "import pandas as pd\n",
        "df = pd.read_csv(\"data.csv\")\n",
        "df.head(12)"
      ],
      "metadata": {
        "colab": {
          "base_uri": "https://localhost:8080/",
          "height": 400
        },
        "id": "Fd8GAcwu_1fF",
        "outputId": "8457a869-9b75-4b91-87c5-d525b3546972"
      },
      "execution_count": null,
      "outputs": [
        {
          "output_type": "execute_result",
          "data": {
            "text/plain": [
              "    Period  Total automotive revenues  Energy generation and storage revenue  \\\n",
              "0  Q3-2022                      18692                                   1117   \n",
              "1  Q4-2022                      21307                                   1310   \n",
              "2  Q1-2023                      19963                                   1529   \n",
              "3  Q2-2023                      21268                                   1509   \n",
              "4  Q3-2023                      19625                                   1559   \n",
              "\n",
              "   Services and other revenue  Total revenues  Total gross profit  \\\n",
              "0                        1645           21454                5382   \n",
              "1                        1701           24318                5777   \n",
              "2                        1837           23329                4511   \n",
              "3                        2150           24927                4533   \n",
              "4                        2166           23350                4178   \n",
              "\n",
              "   Total GAAP gross margin (%)  Operating expenses  Income from operations  \\\n",
              "0                         25.1                1694                    3688   \n",
              "1                         23.8                1876                    3901   \n",
              "2                         19.3                1847                    2664   \n",
              "3                         18.2                2134                    2399   \n",
              "4                         17.9                2414                    1764   \n",
              "\n",
              "   Operating margin (%)  Adjusted EBITDA  Adjusted EBITDA margin (%)  \\\n",
              "0                  17.2             4968                        23.2   \n",
              "1                  16.0             5404                        22.2   \n",
              "2                  11.4             4267                        18.3   \n",
              "3                   9.6             4653                        18.7   \n",
              "4                   7.6             3758                        16.1   \n",
              "\n",
              "   Net income attributable to common stockholders (GAAP)  \\\n",
              "0                                               3292       \n",
              "1                                               3687       \n",
              "2                                               2513       \n",
              "3                                               2703       \n",
              "4                                               1853       \n",
              "\n",
              "   Net income attributable to common stockholders (non-GAAP)  \\\n",
              "0                                               3654           \n",
              "1                                               4106           \n",
              "2                                               2931           \n",
              "3                                               3148           \n",
              "4                                               2318           \n",
              "\n",
              "   EPS attributable to common stockholders diluted (GAAP)  \\\n",
              "0                                               0.95        \n",
              "1                                               1.07        \n",
              "2                                               0.73        \n",
              "3                                               0.78        \n",
              "4                                               0.53        \n",
              "\n",
              "   EPS attributable to common stockholders diluted (non-GAAP)  \\\n",
              "0                                               1.05            \n",
              "1                                               1.19            \n",
              "2                                               0.85            \n",
              "3                                               0.91            \n",
              "4                                               0.66            \n",
              "\n",
              "   Net cash provided by operating activities  Capital expenditures  \\\n",
              "0                                       5100                 -1803   \n",
              "1                                       3278                 -1858   \n",
              "2                                       2513                 -2072   \n",
              "3                                       3065                 -2060   \n",
              "4                                       3308                 -2460   \n",
              "\n",
              "   Free cash flow  Cash, cash equivalents and investments  \n",
              "0            3297                                   21107  \n",
              "1            1420                                   22185  \n",
              "2             441                                   22402  \n",
              "3            1005                                   23075  \n",
              "4             848                                   26077  "
            ],
            "text/html": [
              "\n",
              "  <div id=\"df-090964e3-9950-4174-805a-a6fa958d4d41\" class=\"colab-df-container\">\n",
              "    <div>\n",
              "<style scoped>\n",
              "    .dataframe tbody tr th:only-of-type {\n",
              "        vertical-align: middle;\n",
              "    }\n",
              "\n",
              "    .dataframe tbody tr th {\n",
              "        vertical-align: top;\n",
              "    }\n",
              "\n",
              "    .dataframe thead th {\n",
              "        text-align: right;\n",
              "    }\n",
              "</style>\n",
              "<table border=\"1\" class=\"dataframe\">\n",
              "  <thead>\n",
              "    <tr style=\"text-align: right;\">\n",
              "      <th></th>\n",
              "      <th>Period</th>\n",
              "      <th>Total automotive revenues</th>\n",
              "      <th>Energy generation and storage revenue</th>\n",
              "      <th>Services and other revenue</th>\n",
              "      <th>Total revenues</th>\n",
              "      <th>Total gross profit</th>\n",
              "      <th>Total GAAP gross margin (%)</th>\n",
              "      <th>Operating expenses</th>\n",
              "      <th>Income from operations</th>\n",
              "      <th>Operating margin (%)</th>\n",
              "      <th>Adjusted EBITDA</th>\n",
              "      <th>Adjusted EBITDA margin (%)</th>\n",
              "      <th>Net income attributable to common stockholders (GAAP)</th>\n",
              "      <th>Net income attributable to common stockholders (non-GAAP)</th>\n",
              "      <th>EPS attributable to common stockholders diluted (GAAP)</th>\n",
              "      <th>EPS attributable to common stockholders diluted (non-GAAP)</th>\n",
              "      <th>Net cash provided by operating activities</th>\n",
              "      <th>Capital expenditures</th>\n",
              "      <th>Free cash flow</th>\n",
              "      <th>Cash, cash equivalents and investments</th>\n",
              "    </tr>\n",
              "  </thead>\n",
              "  <tbody>\n",
              "    <tr>\n",
              "      <th>0</th>\n",
              "      <td>Q3-2022</td>\n",
              "      <td>18692</td>\n",
              "      <td>1117</td>\n",
              "      <td>1645</td>\n",
              "      <td>21454</td>\n",
              "      <td>5382</td>\n",
              "      <td>25.1</td>\n",
              "      <td>1694</td>\n",
              "      <td>3688</td>\n",
              "      <td>17.2</td>\n",
              "      <td>4968</td>\n",
              "      <td>23.2</td>\n",
              "      <td>3292</td>\n",
              "      <td>3654</td>\n",
              "      <td>0.95</td>\n",
              "      <td>1.05</td>\n",
              "      <td>5100</td>\n",
              "      <td>-1803</td>\n",
              "      <td>3297</td>\n",
              "      <td>21107</td>\n",
              "    </tr>\n",
              "    <tr>\n",
              "      <th>1</th>\n",
              "      <td>Q4-2022</td>\n",
              "      <td>21307</td>\n",
              "      <td>1310</td>\n",
              "      <td>1701</td>\n",
              "      <td>24318</td>\n",
              "      <td>5777</td>\n",
              "      <td>23.8</td>\n",
              "      <td>1876</td>\n",
              "      <td>3901</td>\n",
              "      <td>16.0</td>\n",
              "      <td>5404</td>\n",
              "      <td>22.2</td>\n",
              "      <td>3687</td>\n",
              "      <td>4106</td>\n",
              "      <td>1.07</td>\n",
              "      <td>1.19</td>\n",
              "      <td>3278</td>\n",
              "      <td>-1858</td>\n",
              "      <td>1420</td>\n",
              "      <td>22185</td>\n",
              "    </tr>\n",
              "    <tr>\n",
              "      <th>2</th>\n",
              "      <td>Q1-2023</td>\n",
              "      <td>19963</td>\n",
              "      <td>1529</td>\n",
              "      <td>1837</td>\n",
              "      <td>23329</td>\n",
              "      <td>4511</td>\n",
              "      <td>19.3</td>\n",
              "      <td>1847</td>\n",
              "      <td>2664</td>\n",
              "      <td>11.4</td>\n",
              "      <td>4267</td>\n",
              "      <td>18.3</td>\n",
              "      <td>2513</td>\n",
              "      <td>2931</td>\n",
              "      <td>0.73</td>\n",
              "      <td>0.85</td>\n",
              "      <td>2513</td>\n",
              "      <td>-2072</td>\n",
              "      <td>441</td>\n",
              "      <td>22402</td>\n",
              "    </tr>\n",
              "    <tr>\n",
              "      <th>3</th>\n",
              "      <td>Q2-2023</td>\n",
              "      <td>21268</td>\n",
              "      <td>1509</td>\n",
              "      <td>2150</td>\n",
              "      <td>24927</td>\n",
              "      <td>4533</td>\n",
              "      <td>18.2</td>\n",
              "      <td>2134</td>\n",
              "      <td>2399</td>\n",
              "      <td>9.6</td>\n",
              "      <td>4653</td>\n",
              "      <td>18.7</td>\n",
              "      <td>2703</td>\n",
              "      <td>3148</td>\n",
              "      <td>0.78</td>\n",
              "      <td>0.91</td>\n",
              "      <td>3065</td>\n",
              "      <td>-2060</td>\n",
              "      <td>1005</td>\n",
              "      <td>23075</td>\n",
              "    </tr>\n",
              "    <tr>\n",
              "      <th>4</th>\n",
              "      <td>Q3-2023</td>\n",
              "      <td>19625</td>\n",
              "      <td>1559</td>\n",
              "      <td>2166</td>\n",
              "      <td>23350</td>\n",
              "      <td>4178</td>\n",
              "      <td>17.9</td>\n",
              "      <td>2414</td>\n",
              "      <td>1764</td>\n",
              "      <td>7.6</td>\n",
              "      <td>3758</td>\n",
              "      <td>16.1</td>\n",
              "      <td>1853</td>\n",
              "      <td>2318</td>\n",
              "      <td>0.53</td>\n",
              "      <td>0.66</td>\n",
              "      <td>3308</td>\n",
              "      <td>-2460</td>\n",
              "      <td>848</td>\n",
              "      <td>26077</td>\n",
              "    </tr>\n",
              "  </tbody>\n",
              "</table>\n",
              "</div>\n",
              "    <div class=\"colab-df-buttons\">\n",
              "\n",
              "  <div class=\"colab-df-container\">\n",
              "    <button class=\"colab-df-convert\" onclick=\"convertToInteractive('df-090964e3-9950-4174-805a-a6fa958d4d41')\"\n",
              "            title=\"Convert this dataframe to an interactive table.\"\n",
              "            style=\"display:none;\">\n",
              "\n",
              "  <svg xmlns=\"http://www.w3.org/2000/svg\" height=\"24px\" viewBox=\"0 -960 960 960\">\n",
              "    <path d=\"M120-120v-720h720v720H120Zm60-500h600v-160H180v160Zm220 220h160v-160H400v160Zm0 220h160v-160H400v160ZM180-400h160v-160H180v160Zm440 0h160v-160H620v160ZM180-180h160v-160H180v160Zm440 0h160v-160H620v160Z\"/>\n",
              "  </svg>\n",
              "    </button>\n",
              "\n",
              "  <style>\n",
              "    .colab-df-container {\n",
              "      display:flex;\n",
              "      gap: 12px;\n",
              "    }\n",
              "\n",
              "    .colab-df-convert {\n",
              "      background-color: #E8F0FE;\n",
              "      border: none;\n",
              "      border-radius: 50%;\n",
              "      cursor: pointer;\n",
              "      display: none;\n",
              "      fill: #1967D2;\n",
              "      height: 32px;\n",
              "      padding: 0 0 0 0;\n",
              "      width: 32px;\n",
              "    }\n",
              "\n",
              "    .colab-df-convert:hover {\n",
              "      background-color: #E2EBFA;\n",
              "      box-shadow: 0px 1px 2px rgba(60, 64, 67, 0.3), 0px 1px 3px 1px rgba(60, 64, 67, 0.15);\n",
              "      fill: #174EA6;\n",
              "    }\n",
              "\n",
              "    .colab-df-buttons div {\n",
              "      margin-bottom: 4px;\n",
              "    }\n",
              "\n",
              "    [theme=dark] .colab-df-convert {\n",
              "      background-color: #3B4455;\n",
              "      fill: #D2E3FC;\n",
              "    }\n",
              "\n",
              "    [theme=dark] .colab-df-convert:hover {\n",
              "      background-color: #434B5C;\n",
              "      box-shadow: 0px 1px 3px 1px rgba(0, 0, 0, 0.15);\n",
              "      filter: drop-shadow(0px 1px 2px rgba(0, 0, 0, 0.3));\n",
              "      fill: #FFFFFF;\n",
              "    }\n",
              "  </style>\n",
              "\n",
              "    <script>\n",
              "      const buttonEl =\n",
              "        document.querySelector('#df-090964e3-9950-4174-805a-a6fa958d4d41 button.colab-df-convert');\n",
              "      buttonEl.style.display =\n",
              "        google.colab.kernel.accessAllowed ? 'block' : 'none';\n",
              "\n",
              "      async function convertToInteractive(key) {\n",
              "        const element = document.querySelector('#df-090964e3-9950-4174-805a-a6fa958d4d41');\n",
              "        const dataTable =\n",
              "          await google.colab.kernel.invokeFunction('convertToInteractive',\n",
              "                                                    [key], {});\n",
              "        if (!dataTable) return;\n",
              "\n",
              "        const docLinkHtml = 'Like what you see? Visit the ' +\n",
              "          '<a target=\"_blank\" href=https://colab.research.google.com/notebooks/data_table.ipynb>data table notebook</a>'\n",
              "          + ' to learn more about interactive tables.';\n",
              "        element.innerHTML = '';\n",
              "        dataTable['output_type'] = 'display_data';\n",
              "        await google.colab.output.renderOutput(dataTable, element);\n",
              "        const docLink = document.createElement('div');\n",
              "        docLink.innerHTML = docLinkHtml;\n",
              "        element.appendChild(docLink);\n",
              "      }\n",
              "    </script>\n",
              "  </div>\n",
              "\n",
              "\n",
              "<div id=\"df-12485395-fdee-48e7-bad3-22ea9b4d343e\">\n",
              "  <button class=\"colab-df-quickchart\" onclick=\"quickchart('df-12485395-fdee-48e7-bad3-22ea9b4d343e')\"\n",
              "            title=\"Suggest charts\"\n",
              "            style=\"display:none;\">\n",
              "\n",
              "<svg xmlns=\"http://www.w3.org/2000/svg\" height=\"24px\"viewBox=\"0 0 24 24\"\n",
              "     width=\"24px\">\n",
              "    <g>\n",
              "        <path d=\"M19 3H5c-1.1 0-2 .9-2 2v14c0 1.1.9 2 2 2h14c1.1 0 2-.9 2-2V5c0-1.1-.9-2-2-2zM9 17H7v-7h2v7zm4 0h-2V7h2v10zm4 0h-2v-4h2v4z\"/>\n",
              "    </g>\n",
              "</svg>\n",
              "  </button>\n",
              "\n",
              "<style>\n",
              "  .colab-df-quickchart {\n",
              "      --bg-color: #E8F0FE;\n",
              "      --fill-color: #1967D2;\n",
              "      --hover-bg-color: #E2EBFA;\n",
              "      --hover-fill-color: #174EA6;\n",
              "      --disabled-fill-color: #AAA;\n",
              "      --disabled-bg-color: #DDD;\n",
              "  }\n",
              "\n",
              "  [theme=dark] .colab-df-quickchart {\n",
              "      --bg-color: #3B4455;\n",
              "      --fill-color: #D2E3FC;\n",
              "      --hover-bg-color: #434B5C;\n",
              "      --hover-fill-color: #FFFFFF;\n",
              "      --disabled-bg-color: #3B4455;\n",
              "      --disabled-fill-color: #666;\n",
              "  }\n",
              "\n",
              "  .colab-df-quickchart {\n",
              "    background-color: var(--bg-color);\n",
              "    border: none;\n",
              "    border-radius: 50%;\n",
              "    cursor: pointer;\n",
              "    display: none;\n",
              "    fill: var(--fill-color);\n",
              "    height: 32px;\n",
              "    padding: 0;\n",
              "    width: 32px;\n",
              "  }\n",
              "\n",
              "  .colab-df-quickchart:hover {\n",
              "    background-color: var(--hover-bg-color);\n",
              "    box-shadow: 0 1px 2px rgba(60, 64, 67, 0.3), 0 1px 3px 1px rgba(60, 64, 67, 0.15);\n",
              "    fill: var(--button-hover-fill-color);\n",
              "  }\n",
              "\n",
              "  .colab-df-quickchart-complete:disabled,\n",
              "  .colab-df-quickchart-complete:disabled:hover {\n",
              "    background-color: var(--disabled-bg-color);\n",
              "    fill: var(--disabled-fill-color);\n",
              "    box-shadow: none;\n",
              "  }\n",
              "\n",
              "  .colab-df-spinner {\n",
              "    border: 2px solid var(--fill-color);\n",
              "    border-color: transparent;\n",
              "    border-bottom-color: var(--fill-color);\n",
              "    animation:\n",
              "      spin 1s steps(1) infinite;\n",
              "  }\n",
              "\n",
              "  @keyframes spin {\n",
              "    0% {\n",
              "      border-color: transparent;\n",
              "      border-bottom-color: var(--fill-color);\n",
              "      border-left-color: var(--fill-color);\n",
              "    }\n",
              "    20% {\n",
              "      border-color: transparent;\n",
              "      border-left-color: var(--fill-color);\n",
              "      border-top-color: var(--fill-color);\n",
              "    }\n",
              "    30% {\n",
              "      border-color: transparent;\n",
              "      border-left-color: var(--fill-color);\n",
              "      border-top-color: var(--fill-color);\n",
              "      border-right-color: var(--fill-color);\n",
              "    }\n",
              "    40% {\n",
              "      border-color: transparent;\n",
              "      border-right-color: var(--fill-color);\n",
              "      border-top-color: var(--fill-color);\n",
              "    }\n",
              "    60% {\n",
              "      border-color: transparent;\n",
              "      border-right-color: var(--fill-color);\n",
              "    }\n",
              "    80% {\n",
              "      border-color: transparent;\n",
              "      border-right-color: var(--fill-color);\n",
              "      border-bottom-color: var(--fill-color);\n",
              "    }\n",
              "    90% {\n",
              "      border-color: transparent;\n",
              "      border-bottom-color: var(--fill-color);\n",
              "    }\n",
              "  }\n",
              "</style>\n",
              "\n",
              "  <script>\n",
              "    async function quickchart(key) {\n",
              "      const quickchartButtonEl =\n",
              "        document.querySelector('#' + key + ' button');\n",
              "      quickchartButtonEl.disabled = true;  // To prevent multiple clicks.\n",
              "      quickchartButtonEl.classList.add('colab-df-spinner');\n",
              "      try {\n",
              "        const charts = await google.colab.kernel.invokeFunction(\n",
              "            'suggestCharts', [key], {});\n",
              "      } catch (error) {\n",
              "        console.error('Error during call to suggestCharts:', error);\n",
              "      }\n",
              "      quickchartButtonEl.classList.remove('colab-df-spinner');\n",
              "      quickchartButtonEl.classList.add('colab-df-quickchart-complete');\n",
              "    }\n",
              "    (() => {\n",
              "      let quickchartButtonEl =\n",
              "        document.querySelector('#df-12485395-fdee-48e7-bad3-22ea9b4d343e button');\n",
              "      quickchartButtonEl.style.display =\n",
              "        google.colab.kernel.accessAllowed ? 'block' : 'none';\n",
              "    })();\n",
              "  </script>\n",
              "</div>\n",
              "    </div>\n",
              "  </div>\n"
            ]
          },
          "metadata": {},
          "execution_count": 69
        }
      ]
    },
    {
      "cell_type": "markdown",
      "source": [
        "2. Asking the assistant to draw a graph based on the data in the report"
      ],
      "metadata": {
        "id": "BQkSQ1ybMt88"
      }
    },
    {
      "cell_type": "code",
      "source": [
        "thread3 = client.beta.threads.create()\n",
        "run3 = submit_message(FINANCE_ASSISTANT_ID, thread3, \"can you draw a graph based on operational margins in the file?\")\n",
        "run3 = wait_on_run(run3, thread3)\n",
        "messages = get_response(thread3)"
      ],
      "metadata": {
        "id": "JQ5yqeleCRbI"
      },
      "execution_count": null,
      "outputs": []
    },
    {
      "cell_type": "code",
      "source": [
        "show_json(messages)"
      ],
      "metadata": {
        "colab": {
          "base_uri": "https://localhost:8080/",
          "height": 555
        },
        "id": "SgQpr42P9eSM",
        "outputId": "bacc112c-b66c-454c-b948-6aab150ce798"
      },
      "execution_count": null,
      "outputs": [
        {
          "output_type": "display_data",
          "data": {
            "text/plain": [
              "{'data': [{'id': 'msg_nZbdVffwuuBXvrpF8faKbmzN',\n",
              "   'assistant_id': None,\n",
              "   'content': [{'text': {'annotations': [],\n",
              "      'value': 'can you draw a graph based on operational margins in the file?'},\n",
              "     'type': 'text'}],\n",
              "   'created_at': 1700558862,\n",
              "   'file_ids': [],\n",
              "   'metadata': {},\n",
              "   'object': 'thread.message',\n",
              "   'role': 'user',\n",
              "   'run_id': None,\n",
              "   'thread_id': 'thread_JQMDQfBDnoW8yZIZ1PX4gxWV'},\n",
              "  {'id': 'msg_Sna3NdRYdiUW2Rlcw7iuGBn0',\n",
              "   'assistant_id': 'asst_mGUIYqwif4EqRhUSBpDKtRkc',\n",
              "   'content': [{'image_file': {'file_id': 'file-UbMvp0LUw3SNp5Nm3fSnNAPZ'},\n",
              "     'type': 'image_file'},\n",
              "    {'text': {'annotations': [],\n",
              "      'value': \"Here is the graph depicting Tesla's operating margins over the last five quarters. As shown, the operating margin has decreased from 17.2% in Q3-2022 to 7.6% in Q3-2023【7†source】.\"},\n",
              "     'type': 'text'}],\n",
              "   'created_at': 1700558892,\n",
              "   'file_ids': [],\n",
              "   'metadata': {},\n",
              "   'object': 'thread.message',\n",
              "   'role': 'assistant',\n",
              "   'run_id': 'run_20YDK89nexIIdwE12IDD8WC7',\n",
              "   'thread_id': 'thread_JQMDQfBDnoW8yZIZ1PX4gxWV'}],\n",
              " 'object': 'list',\n",
              " 'first_id': 'msg_nZbdVffwuuBXvrpF8faKbmzN',\n",
              " 'last_id': 'msg_Sna3NdRYdiUW2Rlcw7iuGBn0',\n",
              " 'has_more': False}"
            ]
          },
          "metadata": {}
        }
      ]
    },
    {
      "cell_type": "code",
      "source": [
        "file_path = messages.data[-1].content[0].image_file.file_id\n",
        "\n",
        "file_name = client.files.with_raw_response.retrieve_content(file_path)\n",
        "output_file_name = \"margin.png\"\n",
        "with open(output_file_name, \"wb\") as file:\n",
        "    file.write(file_name.content)"
      ],
      "metadata": {
        "id": "zg41n4uu8rC3"
      },
      "execution_count": null,
      "outputs": []
    },
    {
      "cell_type": "code",
      "source": [
        "from IPython.display import Image, display\n",
        "\n",
        "# If your image is uploaded to the Colab environment\n",
        "image_path = output_file_name\n",
        "display(Image(filename=image_path))\n"
      ],
      "metadata": {
        "colab": {
          "base_uri": "https://localhost:8080/",
          "height": 601
        },
        "id": "XbZb6UI7_LwM",
        "outputId": "126d742b-3ca0-4c41-d1c4-5712886b0fef"
      },
      "execution_count": null,
      "outputs": [
        {
          "output_type": "display_data",
          "data": {
            "image/png": "[encoded data removed]",
            "text/plain": [
              "<IPython.core.display.Image object>"
            ]
          },
          "metadata": {}
        }
      ]
    },
    {
      "cell_type": "markdown",
      "source": [
        "# Use Case 3: Define a custom function to send the summary by email to the user"
      ],
      "metadata": {
        "id": "eRdYd9cUfgAO"
      }
    },
    {
      "cell_type": "markdown",
      "source": [
        "Define a custom function that can send the summary by email to the user"
      ],
      "metadata": {
        "id": "PoriwYW6MY1G"
      }
    },
    {
      "cell_type": "code",
      "source": [
        "def function_send_email(email, textbody, subject=\"Financial Statement Summary\"):\n",
        "\n",
        "  print(\"Email sent\")"
      ],
      "metadata": {
        "id": "CR6CyXJQMYC9"
      },
      "execution_count": null,
      "outputs": []
    },
    {
      "cell_type": "markdown",
      "source": [
        "let's define the interface of this function in JSON format, so our Assistant can call it:"
      ],
      "metadata": {
        "id": "jBZDh2mWMKY3"
      }
    },
    {
      "cell_type": "code",
      "source": [
        "function_send_email = {\n",
        "    \"name\": \"send_email\",\n",
        "    \"description\": \"A function that takes in a user email, a subject line and body text and sends an email to the email address provided\",\n",
        "    \"parameters\":{\n",
        "        \"type\":\"object\",\n",
        "        \"properties\":{\n",
        "            \"email\":{\n",
        "                \"type\": \"string\",\n",
        "                \"description\": \"the email address of the user who receive the email\"\n",
        "            },\n",
        "            \"subject\":{\n",
        "                \"type\":\"string\",\n",
        "                \"description\": \"subject line of the email\"\n",
        "\n",
        "            },\n",
        "            \"textbody\":{\n",
        "                \"type\": \"string\",\n",
        "                \"description\": \"the body of the email.\"\n",
        "            }\n",
        "        }\n",
        "    },\n",
        "    \"required\":[\"email\", \"subject\", \"textbody\"]\n",
        "}"
      ],
      "metadata": {
        "id": "H-_JABkoMJwb"
      },
      "execution_count": null,
      "outputs": []
    },
    {
      "cell_type": "markdown",
      "source": [
        "Update the assistant so it can have access to the function"
      ],
      "metadata": {
        "id": "O3r8utaKMbTS"
      }
    },
    {
      "cell_type": "code",
      "source": [
        "assistant = client.beta.assistants.update(\n",
        "    FINANCE_ASSISTANT_ID,\n",
        "    tools=[\n",
        "        {\"type\": \"code_interpreter\"},\n",
        "        {\"type\": \"retrieval\"},\n",
        "        {\"type\": \"function\", \"function\": function_send_email},\n",
        "    ],\n",
        ")\n",
        "show_json(assistant)"
      ],
      "metadata": {
        "id": "PwI6h21IBoYo",
        "colab": {
          "base_uri": "https://localhost:8080/",
          "height": 382
        },
        "outputId": "b32a5bca-a998-43f5-d61d-5e0ae72d2da1"
      },
      "execution_count": null,
      "outputs": [
        {
          "output_type": "display_data",
          "data": {
            "text/plain": [
              "{'id': 'asst_mGUIYqwif4EqRhUSBpDKtRkc',\n",
              " 'created_at': 1700544757,\n",
              " 'description': None,\n",
              " 'file_ids': ['file-CZfGA5OmI93RzpHEaoNKIMxU'],\n",
              " 'instructions': 'You are a helpful expert financial analyst and your are tailored for in-depth SEC 10-Q filings analysis, focusing on management discussions and financial results.',\n",
              " 'metadata': {},\n",
              " 'model': 'gpt-4-1106-preview',\n",
              " 'name': 'Finance Insight Analyst',\n",
              " 'object': 'assistant',\n",
              " 'tools': [{'type': 'code_interpreter'},\n",
              "  {'type': 'retrieval'},\n",
              "  {'function': {'name': 'send_email',\n",
              "    'parameters': {'type': 'object',\n",
              "     'properties': {'email': {'type': 'string',\n",
              "       'description': 'the email address of the user who receive the email'},\n",
              "      'subject': {'type': 'string',\n",
              "       'description': 'subject line of the email'},\n",
              "      'textbody': {'type': 'string',\n",
              "       'description': 'the body of the email.'}}},\n",
              "    'description': 'A function that takes in a user email, a subject line and body text and sends an email to the email address provided'},\n",
              "   'type': 'function'}]}"
            ]
          },
          "metadata": {}
        }
      ]
    },
    {
      "cell_type": "markdown",
      "source": [
        "Update the wait_on_run function"
      ],
      "metadata": {
        "id": "fXMrwynhfgAx"
      }
    },
    {
      "cell_type": "code",
      "source": [
        "# Waiting in a loop\n",
        "def wait_on_run(run, thread):\n",
        "    while run.status == \"queued\" or run.status == \"in_progress\":\n",
        "        run = client.beta.threads.runs.retrieve(\n",
        "            thread_id=thread.id,\n",
        "            run_id=run.id,\n",
        "        )\n",
        "        time.sleep(0.5)\n",
        "    if run.status == \"requires_action\":\n",
        "        tools_to_call = run.required_action.submit_tool_outputs.tool_calls\n",
        "        print(len(tools_to_call))\n",
        "        print(tools_to_call)\n",
        "\n",
        "        tool_output_array = []\n",
        "\n",
        "        for each_tool in tools_to_call:\n",
        "          tool_id = each_tool.id\n",
        "          function_name = each_tool.function.name\n",
        "          function_arg = each_tool.function.arguments\n",
        "\n",
        "          if function_name == \"send_email\":\n",
        "            arguments = json.loads(function_arg)\n",
        "            send_email(arguments[\"email\"], arguments[\"subject\"], arguments[\"textbody\"])\n",
        "            output = \"Mail sent OK\"\n",
        "            tool_output_array.append({\"tool_call_id\": tool_id, \"output\": output})\n",
        "\n",
        "        #Return results to the run operation\n",
        "        run = client.beta.threads.runs.submit_tool_outputs(\n",
        "          thread_id = thread.id,\n",
        "          run_id = run.id,\n",
        "          tool_outputs = tool_output_array\n",
        "          )\n",
        "\n",
        "    return run"
      ],
      "metadata": {
        "id": "pMfoKYI97soG"
      },
      "execution_count": null,
      "outputs": []
    },
    {
      "cell_type": "markdown",
      "source": [
        "Let's ask the assitant to send the summary by email to us"
      ],
      "metadata": {
        "id": "YH_-bIMiO9tx"
      }
    },
    {
      "cell_type": "code",
      "source": [
        "assistant_id = \"asst_mGUIYqwif4EqRhUSBpDKtRkc\"\n",
        "\n",
        "thread =  client.beta.threads.create()\n",
        "run = submit_message(assistant_id, thread, \"Can you send the summary to the mail: abc@gmail.com\")\n",
        "run = wait_on_run(run, thread)"
      ],
      "metadata": {
        "colab": {
          "base_uri": "https://localhost:8080/"
        },
        "id": "oNkaA2X06DLY",
        "outputId": "e7142e1d-ea51-41cc-8182-8be7aee6197c"
      },
      "execution_count": null,
      "outputs": [
        {
          "output_type": "stream",
          "name": "stdout",
          "text": [
            "1\n",
            "[RequiredActionFunctionToolCall(id='call_NHNPDyRLuXqtIKK1oDSfcnSS', function=Function(arguments='{\\n  \"email\": \"ronal999.liu@gmail.com\",\\n  \"subject\": \"Tesla Q3 2023 10-Q Filing Summary\",\\n  \"textbody\": \"Dear recipient,\\\\n\\\\nPlease find below the summary of the Tesla Q3 2023 10-Q filing:\\\\n\\\\nSummary Highlights from Q3 2023:\\\\n- Operating margin stood at 7.6%.\\\\n- GAAP operating income reached $1.8 billion.\\\\n- GAAP net income was $1.9 billion.\\\\n- Non-GAAP net income amounted to $2.3 billion.\\\\n- A strong emphasis was placed on reducing costs per vehicle, generating free cash flow, maximizing delivery volumes, and investing in AI and other growth projects.\\\\n- Cost of goods sold per vehicle dropped to approximately $37,500.\\\\n- Tesla continues to strive to be a cost leader in the industry.\\\\n- Free cash flow achieved so far was $2.3 billion, with a quarter-over-quarter increase in cash and investments by $3.0 billion to $26.1 billion.\\\\n- AI training compute capacity more than doubled to support their growing dataset and the Optimus robot project.\\\\n- Tesla\\'s humanoid robot is being trained using AI for simple tasks.\\\\n- Revenue from Energy Generation and Storage along with the Services and Other business contributed over $0.5 billion in gross profit in Q3.\\\\n\\\\nFinancial Summary of Q3 2023:\\\\n- Year-over-year total automotive revenues increased by 5% to $19.6 billion.\\\\n- Energy generation and storage revenue soared by 40% to $1.6 billion.\\\\n- Services and other revenue grew by 32% to $2.2 billion.\\\\n- Total revenue climbed by 9% year-over-year to $23.4 billion.\\\\n- Gross profit decreased by 22% to $4.2 billion and total GAAP gross margin narrowed by 719 basis points.\\\\n- Operating expenses escalated by 43% leading to a 52% reduction in income from operations, now at $1.8 billion.\\\\n- Operating margin diminished by 964 basis points to 7.6%.\\\\n- Net income attributable to common stockholders (GAAP) contracted by 44% to $1.9 billion.\\\\n- Free cash flow was down by 74% to $848 million.\\\\n- An increase of 24% in cash, cash equivalents, and investments was noted, with the figure reaching $26.1 billion.\\\\n\\\\nTo provide a more detailed analysis or address specific queries about the 10-Q filing, additional information or specific sections can be reviewed upon request.\\\\n\\\\nBest regards,\\\\n\\\\nYour Financial Analyst\"\\n}', name='send_email'), type='function')]\n",
            "Email sent\n"
          ]
        }
      ]
    },
    {
      "cell_type": "code",
      "source": [
        "show_json(run)"
      ],
      "metadata": {
        "colab": {
          "base_uri": "https://localhost:8080/",
          "height": 520
        },
        "id": "xKYFM9Qr9IF4",
        "outputId": "a33690b0-ed11-4095-e6d6-af1a4f1da20b"
      },
      "execution_count": null,
      "outputs": [
        {
          "output_type": "display_data",
          "data": {
            "text/plain": [
              "{'id': 'run_1xt9oTpQVBPJMVaKgnVkyAQN',\n",
              " 'assistant_id': 'asst_mGUIYqwif4EqRhUSBpDKtRkc',\n",
              " 'cancelled_at': None,\n",
              " 'completed_at': None,\n",
              " 'created_at': 1700554831,\n",
              " 'expires_at': 1700555431,\n",
              " 'failed_at': None,\n",
              " 'file_ids': ['file-CZfGA5OmI93RzpHEaoNKIMxU'],\n",
              " 'instructions': 'You are a helpful expert financial analyst and your are tailored for in-depth SEC 10-Q filings analysis, focusing on management discussions and financial results.',\n",
              " 'last_error': None,\n",
              " 'metadata': {},\n",
              " 'model': 'gpt-4-1106-preview',\n",
              " 'object': 'thread.run',\n",
              " 'required_action': None,\n",
              " 'started_at': 1700554832,\n",
              " 'status': 'queued',\n",
              " 'thread_id': 'thread_UwsWUF6VhqFCUoTPExR6y7Ae',\n",
              " 'tools': [{'type': 'code_interpreter'},\n",
              "  {'type': 'retrieval'},\n",
              "  {'function': {'name': 'send_email',\n",
              "    'parameters': {'type': 'object',\n",
              "     'properties': {'email': {'type': 'string',\n",
              "       'description': 'the email address of the user who receive the email'},\n",
              "      'subject': {'type': 'string',\n",
              "       'description': 'subject line of the email'},\n",
              "      'textbody': {'type': 'string',\n",
              "       'description': 'the body of the email.'}}},\n",
              "    'description': 'A function that takes in a user email, a subject line and body text and sends an email to the email address provided'},\n",
              "   'type': 'function'}]}"
            ]
          },
          "metadata": {}
        }
      ]
    },
    {
      "cell_type": "code",
      "source": [
        "pretty_print(get_response(thread))"
      ],
      "metadata": {
        "colab": {
          "base_uri": "https://localhost:8080/"
        },
        "id": "J1tBqB6r8-Xw",
        "outputId": "2cb6095a-f585-44b1-de5f-1f9569555b4d"
      },
      "execution_count": null,
      "outputs": [
        {
          "output_type": "stream",
          "name": "stdout",
          "text": [
            "# Messages\n",
            "user: Can you send the summary to the mail: ronal999.liu@gmail.com\n",
            "assistant: I will proceed to analyze the SEC 10-Q filing and provide a summary. Once I have the summary prepared, I will use the given email address to send the summary to you. Please give me a moment to review the document.\n",
            "assistant: I have gathered information about Tesla's 10-Q filing as summarized below:\n",
            "\n",
            "**Summary Highlights from Q3 2023**:\n",
            "- Operating margin stood at 7.6%.\n",
            "- GAAP operating income reached $1.8 billion.\n",
            "- GAAP net income was $1.9 billion.\n",
            "- Non-GAAP net income amounted to $2.3 billion.\n",
            "- A strong emphasis was placed on reducing costs per vehicle, generating free cash flow, maximizing delivery volumes, and investing in AI and other growth projects.\n",
            "- Cost of goods sold per vehicle dropped to approximately $37,500.\n",
            "- Tesla continues to strive to be a cost leader in the industry.\n",
            "- Free cash flow achieved so far was $2.3 billion, with a quarter-over-quarter increase in cash and investments by $3.0 billion to $26.1 billion.\n",
            "- AI training compute capacity more than doubled to support their growing dataset and the Optimus robot project.\n",
            "- Tesla's humanoid robot is being trained using AI for simple tasks.\n",
            "- Revenue from Energy Generation and Storage along with the Services and Other business contributed over $0.5 billion in gross profit in Q3【9†source】.\n",
            "\n",
            "**Financial Summary of Q3 2023**:\n",
            "- Year-over-year total automotive revenues increased by 5% to $19.6 billion.\n",
            "- Energy generation and storage revenue soared by 40% to $1.6 billion.\n",
            "- Services and other revenue grew by 32% to $2.2 billion.\n",
            "- Total revenue climbed by 9% year-over-year to $23.4 billion.\n",
            "- Gross profit decreased by 22% to $4.2 billion and total GAAP gross margin narrowed by 719 basis points.\n",
            "- Operating expenses escalated by 43% leading to a 52% reduction in income from operations, now at $1.8 billion.\n",
            "- Operating margin diminished by 964 basis points to 7.6%.\n",
            "- Net income attributable to common stockholders (GAAP) contracted by 44% to $1.9 billion.\n",
            "- Free cash flow was down by 74% to $848 million.\n",
            "- An increase of 24% in cash, cash equivalents, and investments was noted, with the figure reaching $26.1 billion【9†source】.\n",
            "\n",
            "To provide a more detailed analysis or address specific queries about the 10-Q filing, additional information or specific sections can be reviewed upon request.\n",
            "\n",
            "Now, I will send this information to the email provided.\n",
            "assistant: I have sent the summary of Tesla's Q3 2023 10-Q filing to the provided email address ronal999.liu@gmail.com. Please check your inbox, and do not hesitate to reach out if you need any further assistance or details.\n",
            "\n"
          ]
        }
      ]
    }
  ]
}